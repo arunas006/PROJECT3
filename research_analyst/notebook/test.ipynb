{
 "cells": [
  {
   "cell_type": "code",
   "execution_count": null,
   "id": "6dce9120",
   "metadata": {},
   "outputs": [
    {
     "name": "stdout",
     "output_type": "stream",
     "text": [
      "all okay\n"
     ]
    }
   ],
   "source": [
    "print(\"all okay\")"
   ]
  },
  {
   "cell_type": "code",
   "execution_count": null,
   "id": "f102fb61",
   "metadata": {},
   "outputs": [
    {
     "name": "stderr",
     "output_type": "stream",
     "text": [
      "d:\\AGENT\\PROJECT3\\env\\Lib\\site-packages\\tqdm\\auto.py:21: TqdmWarning: IProgress not found. Please update jupyter and ipywidgets. See https://ipywidgets.readthedocs.io/en/stable/user_install.html\n",
      "  from .autonotebook import tqdm as notebook_tqdm\n"
     ]
    }
   ],
   "source": [
    "from research_analyst.utils.model_loader import ModelLoader"
   ]
  },
  {
   "cell_type": "code",
   "execution_count": null,
   "id": "a0af1ebd",
   "metadata": {},
   "outputs": [
    {
     "name": "stderr",
     "output_type": "stream",
     "text": [
      "{\"timestamp\": \"2025-10-21T11:18:07.472412Z\", \"level\": \"info\", \"event\": \"All required API keys are set.\"}\n",
      "{\"timestamp\": \"2025-10-21T11:18:07.473407Z\", \"level\": \"info\", \"event\": \"All required API keys are set.\"}\n",
      "{\"timestamp\": \"2025-10-21T11:18:07.474406Z\", \"level\": \"info\", \"event\": \"All required API keys are set.\"}\n",
      "{\"timestamp\": \"2025-10-21T11:18:07.474406Z\", \"level\": \"info\", \"event\": \"All required API keys are set.\"}\n",
      "{\"timestamp\": \"2025-10-21T11:18:07.475404Z\", \"level\": \"info\", \"event\": \"All required API keys are set.\"}\n",
      "{\"timestamp\": \"2025-10-21T11:18:07.478431Z\", \"level\": \"info\", \"event\": \"All required API keys are set.\"}\n",
      "{\"timestamp\": \"2025-10-21T11:18:07.479403Z\", \"level\": \"info\", \"event\": \"All required API keys are set.\"}\n"
     ]
    }
   ],
   "source": [
    "loader = ModelLoader()"
   ]
  },
  {
   "cell_type": "code",
   "execution_count": null,
   "id": "4e481ea3",
   "metadata": {},
   "outputs": [
    {
     "name": "stderr",
     "output_type": "stream",
     "text": [
      "{\"timestamp\": \"2025-10-21T11:18:29.045902Z\", \"level\": \"info\", \"event\": \"Loading LLM Model from provider: openai\"}\n",
      "{\"timestamp\": \"2025-10-21T11:18:29.848079Z\", \"level\": \"info\", \"event\": \"Successfully loaded LLM model: gpt-4o from provider: openai\"}\n"
     ]
    }
   ],
   "source": [
    "llm = loader.load_llm_model()"
   ]
  },
  {
   "cell_type": "code",
   "execution_count": null,
   "id": "0b0d4ab7",
   "metadata": {},
   "outputs": [
    {
     "data": {
      "text/plain": [
       "AIMessage(content='The capital of France is **Paris**.', additional_kwargs={}, response_metadata={'prompt_feedback': {'block_reason': 0, 'safety_ratings': []}, 'finish_reason': 'STOP', 'model_name': 'gemini-2.0-flash', 'safety_ratings': []}, id='run--fc327251-580f-42e1-88a3-523aaa259605-0', usage_metadata={'input_tokens': 7, 'output_tokens': 9, 'total_tokens': 16, 'input_token_details': {'cache_read': 0}})"
      ]
     },
     "execution_count": 5,
     "metadata": {},
     "output_type": "execute_result"
    }
   ],
   "source": [
    "llm.invoke(\"What is the capital of France?\")"
   ]
  },
  {
   "cell_type": "code",
   "execution_count": null,
   "id": "9d3c6b98",
   "metadata": {},
   "outputs": [],
   "source": [
    "from typing import List,Any,TypedDict,Optional\n",
    "from pydantic import BaseModel,Field"
   ]
  },
  {
   "cell_type": "code",
   "execution_count": null,
   "id": "703d420f",
   "metadata": {},
   "outputs": [],
   "source": [
    "from langgraph.graph import StateGraph,START,END\n",
    "from langchain_core.messages import HumanMessage,AIMessage,SystemMessage\n",
    "from langgraph.checkpoint.memory import MemorySaver"
   ]
  },
  {
   "cell_type": "code",
   "execution_count": null,
   "id": "6aa8f90b",
   "metadata": {},
   "outputs": [],
   "source": [
    "class Analyst(BaseModel):\n",
    "    name: str = Field(description=\"Name of the analyst\")\n",
    "    role: str = Field(description=\"Role of the analyst in the context of the project\")\n",
    "    affiliation: str= Field(description=\"Primary affiliation of the analyst.\")\n",
    "    description: str = Field(description=\"Description of the analyst focus, concerns, and motives.\")\n",
    "\n",
    "    @property\n",
    "    def persona(self) -> str:\n",
    "        return f\"Expert Name {self.name}, a {self.role} affiliated with {self.affiliation}.\\n Main Focus of me is {self.description}\""
   ]
  },
  {
   "cell_type": "code",
   "execution_count": null,
   "id": "09651b67",
   "metadata": {},
   "outputs": [],
   "source": [
    "analyst = Analyst(\n",
    "    name=\"sunny savita\",\n",
    "    role=\"genai eng\",\n",
    "    affiliation=\"AI Research LAB\",\n",
    "    description=\"I am genai developer as well as mentor\"\n",
    "    )"
   ]
  },
  {
   "cell_type": "code",
   "execution_count": null,
   "id": "a047f822",
   "metadata": {},
   "outputs": [
    {
     "name": "stdout",
     "output_type": "stream",
     "text": [
      "Expert Name sunny savita, a genai eng affiliated with AI Research LAB.\n",
      " Main Focus of me is I am genai developer as well as mentor\n"
     ]
    }
   ],
   "source": [
    "print(analyst.persona)\n"
   ]
  },
  {
   "cell_type": "code",
   "execution_count": null,
   "id": "de677ec9",
   "metadata": {},
   "outputs": [],
   "source": [
    "class Prespective(BaseModel):\n",
    "    analyst:List[Analyst] = Field(description=\"List of analysts involved in the project\")"
   ]
  },
  {
   "cell_type": "code",
   "execution_count": null,
   "id": "07d5580c",
   "metadata": {},
   "outputs": [],
   "source": [
    "class GenerateAnalystState(TypedDict):\n",
    "    topic: str\n",
    "    num_analysts: int\n",
    "    human_analyst_feedback: str\n",
    "    analyst: List[Analyst]"
   ]
  },
  {
   "cell_type": "code",
   "execution_count": null,
   "id": "11fb4b07",
   "metadata": {},
   "outputs": [],
   "source": [
    "analyst_picking_instructions = \"\"\"\n",
    "You are an expert research analyst tasked with selecting a team of analysts for a project on the topic of \n",
    "{topic}.\n",
    "You need to choose analysts from the available pool based on their expertise and relevance to the topic.\n",
    "Consider the following feedback from a human analyst:\n",
    "{human_analyst_feedback}\n",
    "\n",
    "Determine the key {num_analysts} distinct themes required for the project. \n",
    "For each theme, select exactly **one** analyst (no more, no less). \n",
    "Your final response must contain exactly {num_analysts} analysts in total.\n",
    "\"\"\"\n",
    "\n"
   ]
  },
  {
   "cell_type": "code",
   "execution_count": null,
   "id": "da5921dc",
   "metadata": {},
   "outputs": [],
   "source": [
    "def create_analyst(state: GenerateAnalystState):\n",
    "    topic = state['topic']\n",
    "    num_analysts = state['num_analysts']\n",
    "    human_analyst_feedback = state.get('human_analyst_feedback', '')\n",
    "    prompt = analyst_picking_instructions.format(\n",
    "        topic=topic,\n",
    "        num_analysts=num_analysts,\n",
    "        human_analyst_feedback=human_analyst_feedback\n",
    "    )\n",
    "    structured_llm=llm.with_structured_output(Prespective)\n",
    "\n",
    "    content=[f\"Generate the set of analysts as requested in {num_analysts}.\"]\n",
    "    final_messages = [SystemMessage(content=prompt)] + content\n",
    "    analyst=structured_llm.invoke(final_messages)\n",
    "\n",
    "    return {\"analyst\": analyst.analyst}\n"
   ]
  },
  {
   "cell_type": "code",
   "execution_count": null,
   "id": "ef4568d9",
   "metadata": {},
   "outputs": [],
   "source": [
    "state={\n",
    "    \"topic\": \"Artificial Intelligence in Healthcare\",\n",
    "    \"num_analysts\": 7,\n",
    "    \"human_analyst_feedback\": \"Focus on recent advancements and ethical considerations.\"\n",
    "    }"
   ]
  },
  {
   "cell_type": "code",
   "execution_count": null,
   "id": "1a040654",
   "metadata": {},
   "outputs": [
    {
     "name": "stderr",
     "output_type": "stream",
     "text": [
      "HTTP Request: POST https://api.openai.com/v1/chat/completions \"HTTP/1.1 200 OK\"\n"
     ]
    },
    {
     "data": {
      "text/plain": [
       "{'analyst': [Analyst(name='Dr. Emily Zhao', role='AI Technology Specialist', affiliation='MIT Computer Science and Artificial Intelligence Laboratory', description='Dr. Zhao focuses on the development of cutting-edge AI algorithms specifically designed for healthcare applications. Her work includes machine learning models for predictive analytics in patient care.'),\n",
       "  Analyst(name='Dr. Rajesh Kumar', role='Healthcare Data Scientist', affiliation='Johns Hopkins University', description='Dr. Kumar specializes in the analysis of large healthcare datasets to improve patient outcomes. His expertise includes data mining and statistical analysis to uncover trends and patterns in healthcare data.'),\n",
       "  Analyst(name='Dr. Sarah Thompson', role='Ethics and Policy Analyst', affiliation='Oxford Internet Institute', description='Dr. Thompson examines the ethical implications of AI in healthcare, including issues of privacy, consent, and bias. She advocates for policies that ensure ethical AI deployment in medical settings.'),\n",
       "  Analyst(name='Dr. Miguel Hernandez', role='Clinical AI Integration Expert', affiliation='Mayo Clinic', description='Dr. Hernandez works on integrating AI technologies into clinical workflows. His focus is on ensuring that AI tools are user-friendly and effectively support healthcare professionals in decision-making.'),\n",
       "  Analyst(name='Dr. Aisha Patel', role='AI in Medical Imaging Specialist', affiliation='Stanford University', description=\"Dr. Patel's research is centered on the application of AI in medical imaging, including the development of algorithms for image recognition and diagnostics. Her work aims to enhance the accuracy and efficiency of radiological assessments.\"),\n",
       "  Analyst(name='Dr. Lars Nielsen', role='AI-driven Drug Discovery Researcher', affiliation='Karolinska Institute', description='Dr. Nielsen explores the use of AI in accelerating drug discovery processes. His research involves using AI to identify potential drug candidates and predict their efficacy and safety profiles.'),\n",
       "  Analyst(name='Dr. Yuki Tanaka', role='Patient-Centric AI Systems Developer', affiliation='University of Tokyo', description='Dr. Tanaka focuses on developing AI systems that enhance patient engagement and personalized care. His work includes designing AI-driven platforms that empower patients to manage their health more effectively.')]}"
      ]
     },
     "execution_count": 15,
     "metadata": {},
     "output_type": "execute_result"
    }
   ],
   "source": [
    "create_analyst(state)"
   ]
  },
  {
   "cell_type": "code",
   "execution_count": null,
   "id": "63e0a6f4",
   "metadata": {},
   "outputs": [],
   "source": [
    "state={\n",
    "    \"topic\": \"Fiteness and Wellness Trends in 2024\",\n",
    "    \"num_analysts\": 3,\n",
    "    \"human_analyst_feedback\": \"Focus on emerging technologies and holistic approaches.\"\n",
    "    }"
   ]
  },
  {
   "cell_type": "code",
   "execution_count": null,
   "id": "f5e976d5",
   "metadata": {},
   "outputs": [
    {
     "name": "stderr",
     "output_type": "stream",
     "text": [
      "HTTP Request: POST https://api.openai.com/v1/chat/completions \"HTTP/1.1 200 OK\"\n"
     ]
    },
    {
     "data": {
      "text/plain": [
       "{'analyst': [Analyst(name='Dr. Emily Chen', role='Emerging Technologies Specialist', affiliation='TechWell Research Institute', description='Dr. Chen focuses on the integration of AI and wearable technology in fitness, exploring how these innovations can enhance personal health tracking and performance optimization.'),\n",
       "  Analyst(name='Mr. Raj Patel', role='Holistic Wellness Analyst', affiliation='Global Wellness Council', description='Mr. Patel is dedicated to studying holistic approaches to wellness, emphasizing the importance of mental health, nutrition, and sustainable practices in achieving overall well-being.'),\n",
       "  Analyst(name='Ms. Laura Gomez', role='Fitness Trends Analyst', affiliation='FitFuture Analytics', description='Ms. Gomez analyzes global fitness trends, with a particular interest in the rise of community-based fitness programs and the impact of social media on fitness culture.')]}"
      ]
     },
     "execution_count": 17,
     "metadata": {},
     "output_type": "execute_result"
    }
   ],
   "source": [
    "create_analyst(state)"
   ]
  },
  {
   "cell_type": "markdown",
   "id": "a0312a1d",
   "metadata": {},
   "source": [
    "Analyst for our research has been created"
   ]
  },
  {
   "cell_type": "markdown",
   "id": "85547617",
   "metadata": {},
   "source": [
    "Now we will create an Workflow for the same"
   ]
  },
  {
   "cell_type": "code",
   "execution_count": null,
   "id": "262268cb",
   "metadata": {},
   "outputs": [],
   "source": [
    "def human_feedback(state):\n",
    "    \"\"\"\n",
    "    Node that should be interrupted by human to provide feedback on the selected analysts.\n",
    "    \"\"\"\n",
    "    pass"
   ]
  },
  {
   "cell_type": "code",
   "execution_count": null,
   "id": "a4a6077b",
   "metadata": {},
   "outputs": [],
   "source": [
    "def should_continue(state):\n",
    "    \"\"\"\n",
    "    Node that decides whether to continue the analyst selection process based on human feedback.\n",
    "    \"\"\"\n",
    "    feedback = state.get(\"human_analyst_feedback\", \"\").strip().lower()\n",
    "    if feedback in [\"none\",\"\",\"continue\",\"skip\",\"done\"]:\n",
    "        return END\n",
    "    return \"Analyst\""
   ]
  },
  {
   "cell_type": "code",
   "execution_count": null,
   "id": "ec33c1fc",
   "metadata": {},
   "outputs": [],
   "source": [
    "from IPython.display import Image, display"
   ]
  },
  {
   "cell_type": "markdown",
   "id": "8e6bc5ad",
   "metadata": {},
   "source": [
    "First Workflow"
   ]
  },
  {
   "cell_type": "code",
   "execution_count": null,
   "id": "335805f7",
   "metadata": {},
   "outputs": [
    {
     "data": {
      "text/plain": [
       "<langgraph.graph.state.StateGraph at 0x242f6110c50>"
      ]
     },
     "execution_count": 21,
     "metadata": {},
     "output_type": "execute_result"
    }
   ],
   "source": [
    "builder=StateGraph(GenerateAnalystState)\n",
    "builder.add_node(\"create_analyst\",create_analyst)\n",
    "builder.add_node(\"human_feedback\",human_feedback)\n",
    "builder.add_edge(START,\"create_analyst\")\n",
    "builder.add_edge(\"create_analyst\",\"human_feedback\")\n",
    "builder.add_conditional_edges(\"human_feedback\",\n",
    "                             should_continue,\n",
    "                             {\n",
    "                               \"Analyst\": \"create_analyst\",\n",
    "                               END: END\n",
    "                             }\n",
    ")"
   ]
  },
  {
   "cell_type": "code",
   "execution_count": null,
   "id": "63c13619",
   "metadata": {},
   "outputs": [],
   "source": [
    "memory=MemorySaver()"
   ]
  },
  {
   "cell_type": "code",
   "execution_count": null,
   "id": "001b0b13",
   "metadata": {},
   "outputs": [],
   "source": [
    "graph=builder.compile(interrupt_before=[\"human_feedback\"],checkpointer=memory)"
   ]
  },
  {
   "cell_type": "code",
   "execution_count": null,
   "id": "966251e0",
   "metadata": {},
   "outputs": [
    {
     "data": {
      "image/png": "[encoded data removed]",
      "text/plain": [
       "<IPython.core.display.Image object>"
      ]
     },
     "metadata": {},
     "output_type": "display_data"
    }
   ],
   "source": [
    "display(Image(graph.get_graph(xray=1).draw_mermaid_png()))"
   ]
  },
  {
   "cell_type": "code",
   "execution_count": null,
   "id": "6f5e20a6",
   "metadata": {},
   "outputs": [],
   "source": [
    "state={\n",
    "    \"topic\": \"Fiteness and Wellness Trends in 2024\",\n",
    "    \"num_analysts\": 5\n",
    "    }"
   ]
  },
  {
   "cell_type": "code",
   "execution_count": null,
   "id": "ed3aefff",
   "metadata": {},
   "outputs": [],
   "source": [
    "humman_feedback_input=\"Focus on emerging technologies and holistic approaches.\""
   ]
  },
  {
   "cell_type": "code",
   "execution_count": null,
   "id": "d904b78d",
   "metadata": {},
   "outputs": [],
   "source": [
    "thread={\"configurable\":{\"thread_id\":\"3\"}}"
   ]
  },
  {
   "cell_type": "code",
   "execution_count": null,
   "id": "5bddf812",
   "metadata": {},
   "outputs": [
    {
     "name": "stderr",
     "output_type": "stream",
     "text": [
      "HTTP Request: POST https://api.openai.com/v1/chat/completions \"HTTP/1.1 200 OK\"\n"
     ]
    },
    {
     "name": "stdout",
     "output_type": "stream",
     "text": [
      "Analyst Name: Dr. Emily Chen\n",
      "Role: Fitness Technology Specialist\n",
      "Affiliation: TechFit Innovations\n",
      "Description: Dr. Chen focuses on the integration of wearable technology and AI in fitness, exploring how these advancements can enhance personal training and health monitoring.\n",
      "**************************************************\n",
      "Analyst Name: Michael Rodriguez\n",
      "Role: Nutrition and Wellness Expert\n",
      "Affiliation: Healthy Living Institute\n",
      "Description: Michael is dedicated to studying the latest trends in nutrition and dietary supplements, emphasizing sustainable and holistic approaches to wellness.\n",
      "**************************************************\n",
      "Analyst Name: Sarah Thompson\n",
      "Role: Mental Health and Wellness Advocate\n",
      "Affiliation: Mindful Balance\n",
      "Description: Sarah advocates for the importance of mental health in overall wellness, researching the impact of mindfulness and stress reduction techniques on physical health.\n",
      "**************************************************\n",
      "Analyst Name: Raj Patel\n",
      "Role: Sustainable Fitness Practices Analyst\n",
      "Affiliation: EcoFit Solutions\n",
      "Description: Raj analyzes the intersection of fitness and environmental sustainability, promoting eco-friendly practices in gyms and personal fitness routines.\n",
      "**************************************************\n",
      "Analyst Name: Laura Kim\n",
      "Role: Community Fitness Engagement Specialist\n",
      "Affiliation: Active Communities Network\n",
      "Description: Laura focuses on community-based fitness initiatives, studying how group activities and social support can improve participation and outcomes in fitness programs.\n",
      "**************************************************\n"
     ]
    }
   ],
   "source": [
    "for event in graph.stream(input=state,config=thread,stream_mode='values'):\n",
    "    analysts=event.get(\"analyst\",[])\n",
    "    for analyst in analysts:\n",
    "        print(f\"Analyst Name: {analyst.name}\")\n",
    "        print(f\"Role: {analyst.role}\")\n",
    "        print(f\"Affiliation: {analyst.affiliation}\")\n",
    "        print(f\"Description: {analyst.description}\")\n",
    "        print(\"*\"*50)    "
   ]
  },
  {
   "cell_type": "code",
   "execution_count": null,
   "id": "508812dc",
   "metadata": {},
   "outputs": [],
   "source": [
    "stage = graph.get_state(thread)"
   ]
  },
  {
   "cell_type": "code",
   "execution_count": null,
   "id": "aa768f1b",
   "metadata": {},
   "outputs": [
    {
     "data": {
      "text/plain": [
       "StateSnapshot(values={'topic': 'Fiteness and Wellness Trends in 2024', 'num_analysts': 5, 'analyst': [Analyst(name='Ava Sharma', role='Lead Nutritionist', affiliation='Global Wellness Institute', description='Expert in personalized nutrition plans and dietary trends. Focuses on the impact of diet on overall wellness and fitness.'), Analyst(name='Ethan Williams', role='Fitness Technology Analyst', affiliation='Tech Innovations Corp', description='Specializes in wearable fitness trackers and digital health solutions. Concerned with data privacy and accuracy in fitness technology.'), Analyst(name='Chloe Davis', role='Mindfulness and Meditation Coach', affiliation='Inner Peace Center', description='Dedicated to promoting mental wellness through mindfulness practices. Focuses on stress reduction and emotional balance.'), Analyst(name='Liam Johnson', role='Exercise Physiologist', affiliation='Optimal Performance Lab', description='Designs customized exercise programs for athletes and fitness enthusiasts. Concerned with injury prevention and performance enhancement.'), Analyst(name='Sophia Rodriguez', role='Wellness Consultant', affiliation='Holistic Health Solutions', description='Provides guidance on holistic approaches to wellness, including lifestyle changes and alternative therapies. Focuses on integrating various wellness modalities.'), Analyst(name='Jackson Lee', role='Public Health Advocate', affiliation='Community Health Initiative', description='Promotes health and wellness initiatives within communities. Concerned with health equity and access to wellness resources.'), Analyst(name='Mia Brown', role='Sleep Specialist', affiliation='Restful Nights Clinic', description='Expert in sleep disorders and sleep optimization strategies. Focuses on the impact of sleep on overall health and performance.'), Analyst(name='Noah Garcia', role='Corporate Wellness Manager', affiliation='Healthy Business Solutions', description='Develops and implements wellness programs for corporate clients. Concerned with employee well-being and productivity.'), Analyst(name='Olivia Wilson', role='Environmental Health Scientist', affiliation='Green Living Research Institute', description='Studies the impact of environmental factors on human health and wellness. Focuses on reducing exposure to toxins and promoting sustainable living.'), Analyst(name='Caleb Martinez', role='Behavioral Psychologist', affiliation='Mind Matters Clinic', description='Applies psychological principles to promote healthy behaviors and lifestyle changes. Focuses on motivation and habit formation.')]}, next=('human_feedback',), config={'configurable': {'thread_id': '3', 'checkpoint_ns': '', 'checkpoint_id': '1f0ae524-9ac7-624f-8001-42f131aa76e8'}}, metadata={'source': 'loop', 'step': 1, 'parents': {}}, created_at='2025-10-21T07:48:09.507489+00:00', parent_config={'configurable': {'thread_id': '3', 'checkpoint_ns': '', 'checkpoint_id': '1f0ae524-7044-6dbe-8000-cfa4d2558da3'}}, tasks=(PregelTask(id='a2c854bc-41ca-76c7-0726-2e32fd7fad6b', name='human_feedback', path=('__pregel_pull', 'human_feedback'), error=None, interrupts=(), state=None, result=None),), interrupts=())"
      ]
     },
     "execution_count": 32,
     "metadata": {},
     "output_type": "execute_result"
    }
   ],
   "source": [
    "stage"
   ]
  },
  {
   "cell_type": "code",
   "execution_count": null,
   "id": "233acf07",
   "metadata": {},
   "outputs": [
    {
     "data": {
      "text/plain": [
       "('human_feedback',)"
      ]
     },
     "execution_count": 33,
     "metadata": {},
     "output_type": "execute_result"
    }
   ],
   "source": [
    "stage.next"
   ]
  },
  {
   "cell_type": "code",
   "execution_count": null,
   "id": "19ec6c63",
   "metadata": {},
   "outputs": [
    {
     "data": {
      "text/plain": [
       "{'configurable': {'thread_id': '3',\n",
       "  'checkpoint_ns': '',\n",
       "  'checkpoint_id': '1f0ac4af-ee85-63f1-8002-6030d55f0793'}}"
      ]
     },
     "execution_count": 119,
     "metadata": {},
     "output_type": "execute_result"
    }
   ],
   "source": [
    "graph.update_state(\n",
    "    thread,\n",
    "    {\n",
    "        \"human_analyst_feedback\": humman_feedback_input\n",
    "    }\n",
    ")"
   ]
  },
  {
   "cell_type": "code",
   "execution_count": null,
   "id": "26532105",
   "metadata": {},
   "outputs": [
    {
     "name": "stdout",
     "output_type": "stream",
     "text": [
      "Analyst Name: Dr. Emily Carter\n",
      "Role: Medical Advisor\n",
      "Affiliation: Global Health Institute\n",
      "Description: Focuses on preventative medicine and the impact of fitness on overall health outcomes.\n",
      "**************************************************\n",
      "Analyst Name: Jordan Lee\n",
      "Role: Fitness Trainer\n",
      "Affiliation: Elite Performance Gym\n",
      "Description: Specializes in high-intensity training and athletic performance enhancement.\n",
      "**************************************************\n",
      "Analyst Name: Aisha Patel\n",
      "Role: Nutritionist\n",
      "Affiliation: Wellness Solutions Clinic\n",
      "Description: Expert in dietary planning and the role of nutrition in fitness and wellness.\n",
      "**************************************************\n",
      "Analyst Name: Carlos Ramirez\n",
      "Role: Technology Analyst\n",
      "Affiliation: TechForward Innovations\n",
      "Description: Analyzes the latest trends in fitness technology and wearable devices.\n",
      "**************************************************\n",
      "Analyst Name: Megan O'Connell\n",
      "Role: Mental Wellness Coach\n",
      "Affiliation: Mindful Living Center\n",
      "Description: Focuses on the psychological aspects of fitness and the importance of mental well-being.\n",
      "**************************************************\n",
      "Analyst Name: Dr. Anya Sharma\n",
      "Role: Technology Foresight Analyst\n",
      "Affiliation: TechWellness Institute\n",
      "Description: Expert in wearable health tech and AI-driven fitness solutions. Focuses on emerging technologies and their impact on personalized wellness.\n",
      "**************************************************\n",
      "Analyst Name: Ben Carter\n",
      "Role: Holistic Health Consultant\n",
      "Affiliation: MindBody Center\n",
      "Description: Specializes in holistic approaches to wellness, including mindfulness, nutrition, and integrative therapies. Advocates for personalized and preventative health strategies.\n",
      "**************************************************\n",
      "Analyst Name: Dr. Emily Chen\n",
      "Role: Fitness Trend Forecaster\n",
      "Affiliation: Global Fitness Group\n",
      "Description: Analyzes fitness trends and consumer behavior in the fitness industry. Identifies emerging workout styles, equipment, and digital fitness platforms.\n",
      "**************************************************\n",
      "Analyst Name: Samuel Davis\n",
      "Role: Nutrition Science Researcher\n",
      "Affiliation: NutriHealth Research Institute\n",
      "Description: Conducts research on nutrition science and its impact on health and wellness. Focuses on personalized nutrition plans and the role of diet in disease prevention.\n",
      "**************************************************\n",
      "Analyst Name: Maria Rodriguez\n",
      "Role: Corporate Wellness Strategist\n",
      "Affiliation: WellCorp Solutions\n",
      "Description: Develops and implements corporate wellness programs. Focuses on employee health, productivity, and engagement through wellness initiatives.\n",
      "**************************************************\n"
     ]
    }
   ],
   "source": [
    "for event in graph.stream(input=state,config=thread,stream_mode='values'):\n",
    "    analysts=event.get(\"analyst\",[])\n",
    "    for analyst in analysts:\n",
    "        print(f\"Analyst Name: {analyst.name}\")\n",
    "        print(f\"Role: {analyst.role}\")\n",
    "        print(f\"Affiliation: {analyst.affiliation}\")\n",
    "        print(f\"Description: {analyst.description}\")\n",
    "        print(\"*\"*50)  "
   ]
  },
  {
   "cell_type": "code",
   "execution_count": null,
   "id": "ba8aa3e2",
   "metadata": {},
   "outputs": [],
   "source": [
    "stage1= graph.get_state(thread)"
   ]
  },
  {
   "cell_type": "code",
   "execution_count": null,
   "id": "0239538c",
   "metadata": {},
   "outputs": [
    {
     "data": {
      "text/plain": [
       "('human_feedback',)"
      ]
     },
     "execution_count": 173,
     "metadata": {},
     "output_type": "execute_result"
    }
   ],
   "source": [
    "stage1.next"
   ]
  },
  {
   "cell_type": "code",
   "execution_count": null,
   "id": "5852502e",
   "metadata": {},
   "outputs": [
    {
     "data": {
      "text/plain": [
       "{'topic': 'Fiteness and Wellness Trends in 2024',\n",
       " 'num_analysts': 3,\n",
       " 'human_analyst_feedback': 'Focus on emerging technologies and holistic approaches.',\n",
       " 'analyst': [Analyst(name='Dr. Anya Sharma', role='Lead Wellness Consultant', affiliation='Global Wellness Institute', description='Expert in holistic wellness practices, including mindfulness, nutrition, and integrative medicine. Focuses on personalized wellness plans and the impact of lifestyle on overall health.'),\n",
       "  Analyst(name='Ben Carter', role='Fitness Technology Analyst', affiliation='Tech Innovations Inc.', description='Specializes in wearable fitness trackers, smart home gym equipment, and AI-driven fitness apps. Interested in the gamification of fitness and the use of data analytics to improve workout outcomes.'),\n",
       "  Analyst(name='Carlos Rodriguez', role='Nutrition Science Researcher', affiliation='Food Science University', description='Conducts research on the impact of diet on physical performance and recovery. Focuses on sports nutrition, personalized diets, and the role of supplements in athletic training.'),\n",
       "  Analyst(name='Emily Chen', role='Mental Wellness Advocate', affiliation='Mindful Living Association', description='Promotes mental health and stress reduction techniques in fitness programs. Expertise in meditation, yoga, and cognitive behavioral therapy for athletes.'),\n",
       "  Analyst(name='David Lee', role='Exercise Physiologist', affiliation='Sports Performance Lab', description='Designs and implements exercise programs for athletes and fitness enthusiasts. Focuses on strength training, cardiovascular health, and injury prevention.')]}"
      ]
     },
     "execution_count": 174,
     "metadata": {},
     "output_type": "execute_result"
    }
   ],
   "source": [
    "stage1.values"
   ]
  },
  {
   "cell_type": "code",
   "execution_count": null,
   "id": "9c1dbe9e",
   "metadata": {},
   "outputs": [],
   "source": [
    "future_feedback=\"\""
   ]
  },
  {
   "cell_type": "code",
   "execution_count": null,
   "id": "95c835c2",
   "metadata": {},
   "outputs": [
    {
     "data": {
      "text/plain": [
       "{'configurable': {'thread_id': '3',\n",
       "  'checkpoint_ns': '',\n",
       "  'checkpoint_id': '1f0ae6ff-58fe-669d-8002-d3fe365d9e62'}}"
      ]
     },
     "execution_count": 30,
     "metadata": {},
     "output_type": "execute_result"
    }
   ],
   "source": [
    "graph.update_state(\n",
    "    thread,\n",
    "    {\n",
    "        \"human_analyst_feedback\": future_feedback\n",
    "    }\n",
    ")"
   ]
  },
  {
   "cell_type": "code",
   "execution_count": null,
   "id": "80959f20",
   "metadata": {},
   "outputs": [
    {
     "name": "stdout",
     "output_type": "stream",
     "text": [
      "Analyst Name: Dr. Anya Sharma\n",
      "Role: Lead Wellness Consultant\n",
      "Affiliation: Global Wellness Institute\n",
      "Description: Expert in holistic wellness practices, including mindfulness, nutrition, and integrative medicine. Focuses on personalized wellness plans and the impact of lifestyle on overall health.\n",
      "**************************************************\n",
      "Analyst Name: Ben Carter\n",
      "Role: Fitness Technology Analyst\n",
      "Affiliation: Tech Innovations Inc.\n",
      "Description: Specializes in wearable fitness trackers, smart home gym equipment, and AI-driven fitness apps. Interested in the gamification of fitness and the use of data analytics to improve workout outcomes.\n",
      "**************************************************\n",
      "Analyst Name: Carlos Rodriguez\n",
      "Role: Nutrition Science Researcher\n",
      "Affiliation: Food Science University\n",
      "Description: Conducts research on the impact of diet on physical performance and recovery. Focuses on sports nutrition, personalized diets, and the role of supplements in athletic training.\n",
      "**************************************************\n",
      "Analyst Name: Emily Chen\n",
      "Role: Mental Wellness Advocate\n",
      "Affiliation: Mindful Living Association\n",
      "Description: Promotes mental health and stress reduction techniques in fitness programs. Expertise in meditation, yoga, and cognitive behavioral therapy for athletes.\n",
      "**************************************************\n",
      "Analyst Name: David Lee\n",
      "Role: Exercise Physiologist\n",
      "Affiliation: Sports Performance Lab\n",
      "Description: Designs and implements exercise programs for athletes and fitness enthusiasts. Focuses on strength training, cardiovascular health, and injury prevention.\n",
      "**************************************************\n",
      "Analyst Name: Dr. Emily Carter\n",
      "Role: Lead Researcher\n",
      "Affiliation: Global Wellness Institute\n",
      "Description: Expert in global wellness trends, consumer behavior, and market analysis. Focuses on identifying emerging trends and their potential impact on the wellness industry.\n",
      "**************************************************\n",
      "Analyst Name: Michael Davis\n",
      "Role: Fitness Consultant\n",
      "Affiliation: National Academy of Sports Medicine\n",
      "Description: Certified personal trainer and fitness consultant with expertise in exercise science, program design, and behavior change. Focuses on translating research into practical fitness applications.\n",
      "**************************************************\n",
      "Analyst Name: Sophia Rodriguez\n",
      "Role: Nutritionist\n",
      "Affiliation: Academy of Nutrition and Dietetics\n",
      "Description: Registered dietitian nutritionist with expertise in sports nutrition, weight management, and dietary trends. Focuses on providing evidence-based nutrition guidance for health and performance.\n",
      "**************************************************\n",
      "Analyst Name: David Lee\n",
      "Role: Technology Analyst\n",
      "Affiliation: TechWellness Group\n",
      "Description: Technology analyst specializing in wearable devices, digital health platforms, and mobile fitness apps. Focuses on evaluating the effectiveness and user experience of technology-based wellness solutions.\n",
      "**************************************************\n",
      "Analyst Name: Jennifer Wilson\n",
      "Role: Mindfulness Coach\n",
      "Affiliation: Mindful Life Center\n",
      "Description: Certified mindfulness instructor and stress management consultant. Focuses on promoting mental and emotional well-being through mindfulness practices and techniques.\n",
      "**************************************************\n",
      "Analyst Name: Robert Brown\n",
      "Role: Corporate Wellness Manager\n",
      "Affiliation: Healthy Business Solutions\n",
      "Description: Corporate wellness manager with experience in designing and implementing employee wellness programs. Focuses on improving employee health, productivity, and engagement through workplace wellness initiatives.\n",
      "**************************************************\n"
     ]
    }
   ],
   "source": [
    "for event in graph.stream(input=state,config=thread,stream_mode='values'):\n",
    "    analysts=event.get(\"analyst\",[])\n",
    "    for analyst in analysts:\n",
    "        print(f\"Analyst Name: {analyst.name}\")\n",
    "        print(f\"Role: {analyst.role}\")\n",
    "        print(f\"Affiliation: {analyst.affiliation}\")\n",
    "        print(f\"Description: {analyst.description}\")\n",
    "        print(\"*\"*50)  "
   ]
  },
  {
   "cell_type": "code",
   "execution_count": null,
   "id": "8eb0f693",
   "metadata": {},
   "outputs": [],
   "source": [
    "stage2= graph.get_state(thread)"
   ]
  },
  {
   "cell_type": "code",
   "execution_count": null,
   "id": "e9650f79",
   "metadata": {},
   "outputs": [
    {
     "data": {
      "text/plain": [
       "('human_feedback',)"
      ]
     },
     "execution_count": 179,
     "metadata": {},
     "output_type": "execute_result"
    }
   ],
   "source": [
    "stage2.next"
   ]
  },
  {
   "cell_type": "code",
   "execution_count": null,
   "id": "1ef8c530",
   "metadata": {},
   "outputs": [
    {
     "name": "stdout",
     "output_type": "stream",
     "text": [
      "Analyst Name: Dr. Emily Carter\n",
      "Role: Lead Researcher\n",
      "Affiliation: Global Wellness Institute\n",
      "Description: Expert in global wellness trends, consumer behavior, and market analysis. Focuses on identifying emerging trends and their potential impact on the wellness industry.\n",
      "**************************************************\n",
      "Analyst Name: Michael Davis\n",
      "Role: Fitness Consultant\n",
      "Affiliation: National Academy of Sports Medicine\n",
      "Description: Certified personal trainer and fitness consultant with expertise in exercise science, program design, and behavior change. Focuses on translating research into practical fitness applications.\n",
      "**************************************************\n",
      "Analyst Name: Sophia Rodriguez\n",
      "Role: Nutritionist\n",
      "Affiliation: Academy of Nutrition and Dietetics\n",
      "Description: Registered dietitian nutritionist with expertise in sports nutrition, weight management, and dietary trends. Focuses on providing evidence-based nutrition guidance for health and performance.\n",
      "**************************************************\n",
      "Analyst Name: David Lee\n",
      "Role: Technology Analyst\n",
      "Affiliation: TechWellness Group\n",
      "Description: Technology analyst specializing in wearable devices, digital health platforms, and mobile fitness apps. Focuses on evaluating the effectiveness and user experience of technology-based wellness solutions.\n",
      "**************************************************\n",
      "Analyst Name: Jennifer Wilson\n",
      "Role: Mindfulness Coach\n",
      "Affiliation: Mindful Life Center\n",
      "Description: Certified mindfulness instructor and stress management consultant. Focuses on promoting mental and emotional well-being through mindfulness practices and techniques.\n",
      "**************************************************\n",
      "Analyst Name: Robert Brown\n",
      "Role: Corporate Wellness Manager\n",
      "Affiliation: Healthy Business Solutions\n",
      "Description: Corporate wellness manager with experience in designing and implementing employee wellness programs. Focuses on improving employee health, productivity, and engagement through workplace wellness initiatives.\n",
      "**************************************************\n"
     ]
    }
   ],
   "source": [
    "for event in graph.stream(input=None,config=thread,stream_mode='values'):\n",
    "    analysts=event.get(\"analyst\",[])\n",
    "    for analyst in analysts:\n",
    "        print(f\"Analyst Name: {analyst.name}\")\n",
    "        print(f\"Role: {analyst.role}\")\n",
    "        print(f\"Affiliation: {analyst.affiliation}\")\n",
    "        print(f\"Description: {analyst.description}\")\n",
    "        print(\"*\"*50)  "
   ]
  },
  {
   "cell_type": "code",
   "execution_count": null,
   "id": "9ebb97b7",
   "metadata": {},
   "outputs": [],
   "source": [
    "stage3= graph.get_state(thread)"
   ]
  },
  {
   "cell_type": "code",
   "execution_count": null,
   "id": "6926a080",
   "metadata": {},
   "outputs": [
    {
     "data": {
      "text/plain": [
       "('human_feedback',)"
      ]
     },
     "execution_count": 32,
     "metadata": {},
     "output_type": "execute_result"
    }
   ],
   "source": [
    "stage3.next"
   ]
  },
  {
   "cell_type": "code",
   "execution_count": null,
   "id": "afdab34b",
   "metadata": {},
   "outputs": [],
   "source": [
    "cfg = stage3.config"
   ]
  },
  {
   "cell_type": "code",
   "execution_count": null,
   "id": "53bf7f09",
   "metadata": {},
   "outputs": [
    {
     "data": {
      "text/plain": [
       "{'configurable': {'thread_id': '3',\n",
       "  'checkpoint_ns': '',\n",
       "  'checkpoint_id': '1f0ae6ff-c623-6edd-8003-a1ffba565407'}}"
      ]
     },
     "execution_count": 34,
     "metadata": {},
     "output_type": "execute_result"
    }
   ],
   "source": [
    "graph.update_state(cfg, {\"human_analyst_feedback\": \"\"}, as_node=\"human_feedback\")"
   ]
  },
  {
   "cell_type": "code",
   "execution_count": null,
   "id": "e5b0153e",
   "metadata": {},
   "outputs": [],
   "source": [
    "final_state = graph.get_state(thread)"
   ]
  },
  {
   "cell_type": "code",
   "execution_count": null,
   "id": "6329c0b7",
   "metadata": {},
   "outputs": [
    {
     "data": {
      "text/plain": [
       "()"
      ]
     },
     "execution_count": 36,
     "metadata": {},
     "output_type": "execute_result"
    }
   ],
   "source": [
    "final_state.next"
   ]
  },
  {
   "cell_type": "code",
   "execution_count": null,
   "id": "ac201bf9",
   "metadata": {},
   "outputs": [
    {
     "data": {
      "text/plain": [
       "[Analyst(name='Dr. Emily Chen', role='Fitness Technology Specialist', affiliation='TechFit Innovations', description='Dr. Chen focuses on the integration of wearable technology and AI in fitness, exploring how these advancements can enhance personal training and health monitoring.'),\n",
       " Analyst(name='Michael Rodriguez', role='Nutrition and Wellness Expert', affiliation='Healthy Living Institute', description='Michael is dedicated to studying the latest trends in nutrition and dietary supplements, emphasizing sustainable and holistic approaches to wellness.'),\n",
       " Analyst(name='Sarah Thompson', role='Mental Health and Wellness Advocate', affiliation='Mindful Balance', description='Sarah advocates for the importance of mental health in overall wellness, researching the impact of mindfulness and stress reduction techniques on physical health.'),\n",
       " Analyst(name='Raj Patel', role='Sustainable Fitness Practices Analyst', affiliation='EcoFit Solutions', description='Raj analyzes the intersection of fitness and environmental sustainability, promoting eco-friendly practices in gyms and personal fitness routines.'),\n",
       " Analyst(name='Laura Kim', role='Community Fitness Engagement Specialist', affiliation='Active Communities Network', description='Laura focuses on community-based fitness initiatives, studying how group activities and social support can improve participation and outcomes in fitness programs.')]"
      ]
     },
     "execution_count": 37,
     "metadata": {},
     "output_type": "execute_result"
    }
   ],
   "source": [
    "final_state.values.get('analyst')"
   ]
  },
  {
   "cell_type": "markdown",
   "id": "c9473c7f",
   "metadata": {},
   "source": [
    "First Flow completed"
   ]
  },
  {
   "cell_type": "code",
   "execution_count": null,
   "id": "50b4fc23",
   "metadata": {},
   "outputs": [],
   "source": [
    "analyst1=final_state.values.get('analyst')[0]"
   ]
  },
  {
   "cell_type": "code",
   "execution_count": null,
   "id": "d0120f0e",
   "metadata": {},
   "outputs": [
    {
     "data": {
      "text/plain": [
       "Analyst(name='Dr. Emily Chen', role='Fitness Technology Specialist', affiliation='TechFit Innovations', description='Dr. Chen focuses on the integration of wearable technology and AI in fitness, exploring how these advancements can enhance personal training and health monitoring.')"
      ]
     },
     "execution_count": 39,
     "metadata": {},
     "output_type": "execute_result"
    }
   ],
   "source": [
    "analyst1"
   ]
  },
  {
   "cell_type": "code",
   "execution_count": null,
   "id": "0726f996",
   "metadata": {},
   "outputs": [
    {
     "data": {
      "text/plain": [
       "True"
      ]
     },
     "execution_count": 40,
     "metadata": {},
     "output_type": "execute_result"
    }
   ],
   "source": [
    "from dotenv import load_dotenv\n",
    "load_dotenv()"
   ]
  },
  {
   "cell_type": "code",
   "execution_count": null,
   "id": "53dc979f",
   "metadata": {},
   "outputs": [],
   "source": [
    "import os\n",
    "from langchain_tavily import TavilySearch\n",
    "web_search = TavilySearch(api_key=os.getenv(\"TAVILY_API_KEY\"),max_results=5)"
   ]
  },
  {
   "cell_type": "code",
   "execution_count": null,
   "id": "98cb4b12",
   "metadata": {},
   "outputs": [
    {
     "name": "stdout",
     "output_type": "stream",
     "text": [
      "source=https://www.datacamp.com/tutorial/langgraph-tutorial \n",
      " content=LangGraph is a library within the LangChain ecosystem that provides a framework for defining, coordinating, and executing multiple LLM agents (or chains) in a structured and efficient manner. By managing the flow of data and the sequence of operations, LangGraph allows developers to focus on the high-level logic of their applications rather than the intricacies of agent coordination. Whether you need a chatbot that can handle various types of user requests or a multi-agent system that performs complex tasks, LangGraph provides the tools to build exactly what you need. LangGraph significantly simplifies the development of complex LLM applications by providing a structured framework for managing state and coordinating agent interactions.\n",
      "\n",
      "source=https://www.geeksforgeeks.org/machine-learning/what-is-langgraph/ \n",
      " content=LangGraph is an open-source framework built by LangChain that streamlines the creation and management of AI agent workflows. By treating workflows as interconnected nodes and edges, LangGraph offers a scalable, transparent and developer-friendly way to design advanced AI systems ranging from simple chatbots to multi-agent system. * ****Enhanced decision-making:**** Models relationships between nodes, enabling AI agents to learn from past actions and feedback. * ****langgraph:**** Framework for building graph-based AI workflows. * Build the workflow graph using LangGraph, adding nodes for classification and response, connecting them with edges and compiling the app. * Send each input through the workflow graph and returns the bot’s response, either a greeting or an AI-powered answer.\n",
      "\n",
      "source=https://langchain-ai.github.io/langgraph/concepts/why-langgraph/ \n",
      " content=Trusted by companies shaping the future of agents— including Klarna, Replit, Elastic, and more— LangGraph is a low-level orchestration framework and runtime for building, managing, and deploying long-running, stateful agents. LangGraph is very low-level, and focused entirely on agent **orchestration**. Before using LangGraph, we recommend you familiarize yourself with some of the components used to build agents, starting with models and tools. LangGraph is focused on the underlying capabilities important for agent orchestration: durable execution, streaming, human-in-the-loop, and more. LangGraph provides low-level supporting infrastructure for *any* long-running, stateful workflow or agent. While LangGraph can be used standalone, it also integrates seamlessly with any LangChain product, giving developers a full suite of tools for building agents. Contains agent abstractions built on top of LangGraph.\n",
      "\n",
      "source=https://www.ibm.com/think/topics/langgraph \n",
      " content=*   [Overview](https://www.ibm.com/think/topics/ai-agents#7281535) *   [Overview](https://www.ibm.com/think/topics/components-of-ai-agents#498277090) *   [Learning](https://www.ibm.com/think/topics/ai-agent-learning#498277087) *   [Tutorial: LangGraph ReAct agent](https://www.ibm.com/think/tutorials/deploy-langgraph-react-agent-manage-it-support-tickets-watsonx-ai#1287801557) *   [Overview](https://www.ibm.com/think/topics/ai-agent-protocols#1509394340) *   [Tutorial: LangGraph ReAct agent](https://www.ibm.com/think/tutorials/deploy-langgraph-react-agent-manage-it-support-tickets-watsonx-ai#80364620) *   [Overview](https://www.ibm.com/think/insights/ai-agent-governance#1268897081) *   [Overview](https://www.ibm.com/think/topics/ai-agent-use-cases#257779831) *   [Human resources](https://www.ibm.com/think/topics/ai-agents-in-human-resources#257779835) LangGraph, created by [LangChain](https://www.ibm.com/think/topics/langchain), is an open source AI agent framework designed to build, deploy and manage complex generative AI agent workflows. At its core, LangGraph uses the power of graph-based architectures to model and manage the intricate relationships between various components of an [AI agent workflow](https://www.ibm.com/think/topics/ai-agents). LangGraph is also built on several key technologies, including [LangChain,](https://www.ibm.com/think/topics/langchain) a Python framework for building AI applications. By combining these technologies with a set of APIs and tools, LangGraph provides users with a versatile platform for developing AI solutions and workflows including [chatbots](https://www.ibm.com/think/topics/chatbots), state graphs and [other agent-based systems](https://www.ibm.com/think/topics/multiagent-system).\n",
      "\n",
      "source=https://www.youtube.com/watch?v=qaWOwbFw3cs \n",
      " content=LangGraph is a special LangChain-built library that builds intelligent AI Agents using graphs. Ie, agentic state machines.\n"
     ]
    }
   ],
   "source": [
    "result=web_search.invoke(\"what is Langgraph\")\n",
    "context=\"\\n\\n\".join([f\"source={data.get('url')} \\n content={data.get('content')}\" for data in result.get('results')])\n",
    "print(context)"
   ]
  },
  {
   "cell_type": "code",
   "execution_count": null,
   "id": "4f9e5765",
   "metadata": {},
   "outputs": [
    {
     "data": {
      "text/plain": [
       "{'query': 'what is Langgraph',\n",
       " 'follow_up_questions': None,\n",
       " 'answer': None,\n",
       " 'images': [],\n",
       " 'results': [{'url': 'https://www.datacamp.com/tutorial/langgraph-tutorial',\n",
       "   'title': 'LangGraph Tutorial: What Is LangGraph and How to Use It?',\n",
       "   'content': 'LangGraph is a library within the LangChain ecosystem that provides a framework for defining, coordinating, and executing multiple LLM agents (or chains) in a structured and efficient manner. By managing the flow of data and the sequence of operations, LangGraph allows developers to focus on the high-level logic of their applications rather than the intricacies of agent coordination. Whether you need a chatbot that can handle various types of user requests or a multi-agent system that performs complex tasks, LangGraph provides the tools to build exactly what you need. LangGraph significantly simplifies the development of complex LLM applications by providing a structured framework for managing state and coordinating agent interactions.',\n",
       "   'score': 0.94225764,\n",
       "   'raw_content': None},\n",
       "  {'url': 'https://www.geeksforgeeks.org/machine-learning/what-is-langgraph/',\n",
       "   'title': 'What is LangGraph? - GeeksforGeeks',\n",
       "   'content': 'LangGraph is an open-source framework built by LangChain that streamlines the creation and management of AI agent workflows. By treating workflows as interconnected nodes and edges, LangGraph offers a scalable, transparent and developer-friendly way to design advanced AI systems ranging from simple chatbots to multi-agent system. * ****Enhanced decision-making:**** Models relationships between nodes, enabling AI agents to learn from past actions and feedback. * ****langgraph:**** Framework for building graph-based AI workflows. * Build the workflow graph using LangGraph, adding nodes for classification and response, connecting them with edges and compiling the app. * Send each input through the workflow graph and returns the bot’s response, either a greeting or an AI-powered answer.',\n",
       "   'score': 0.93511593,\n",
       "   'raw_content': None},\n",
       "  {'url': 'https://langchain-ai.github.io/langgraph/concepts/why-langgraph/',\n",
       "   'title': 'Learn LangGraph basics - Overview',\n",
       "   'content': 'Trusted by companies shaping the future of agents— including Klarna, Replit, Elastic, and more— LangGraph is a low-level orchestration framework and runtime for building, managing, and deploying long-running, stateful agents. LangGraph is very low-level, and focused entirely on agent **orchestration**. Before using LangGraph, we recommend you familiarize yourself with some of the components used to build agents, starting with models and tools. LangGraph is focused on the underlying capabilities important for agent orchestration: durable execution, streaming, human-in-the-loop, and more. LangGraph provides low-level supporting infrastructure for *any* long-running, stateful workflow or agent. While LangGraph can be used standalone, it also integrates seamlessly with any LangChain product, giving developers a full suite of tools for building agents. Contains agent abstractions built on top of LangGraph.',\n",
       "   'score': 0.9332426,\n",
       "   'raw_content': None},\n",
       "  {'url': 'https://www.ibm.com/think/topics/langgraph',\n",
       "   'title': 'What is LangGraph? - IBM',\n",
       "   'content': '*   [Overview](https://www.ibm.com/think/topics/ai-agents#7281535) *   [Overview](https://www.ibm.com/think/topics/components-of-ai-agents#498277090) *   [Learning](https://www.ibm.com/think/topics/ai-agent-learning#498277087) *   [Tutorial: LangGraph ReAct agent](https://www.ibm.com/think/tutorials/deploy-langgraph-react-agent-manage-it-support-tickets-watsonx-ai#1287801557) *   [Overview](https://www.ibm.com/think/topics/ai-agent-protocols#1509394340) *   [Tutorial: LangGraph ReAct agent](https://www.ibm.com/think/tutorials/deploy-langgraph-react-agent-manage-it-support-tickets-watsonx-ai#80364620) *   [Overview](https://www.ibm.com/think/insights/ai-agent-governance#1268897081) *   [Overview](https://www.ibm.com/think/topics/ai-agent-use-cases#257779831) *   [Human resources](https://www.ibm.com/think/topics/ai-agents-in-human-resources#257779835) LangGraph, created by [LangChain](https://www.ibm.com/think/topics/langchain), is an open source AI agent framework designed to build, deploy and manage complex generative AI agent workflows. At its core, LangGraph uses the power of graph-based architectures to model and manage the intricate relationships between various components of an [AI agent workflow](https://www.ibm.com/think/topics/ai-agents). LangGraph is also built on several key technologies, including [LangChain,](https://www.ibm.com/think/topics/langchain) a Python framework for building AI applications. By combining these technologies with a set of APIs and tools, LangGraph provides users with a versatile platform for developing AI solutions and workflows including [chatbots](https://www.ibm.com/think/topics/chatbots), state graphs and [other agent-based systems](https://www.ibm.com/think/topics/multiagent-system).',\n",
       "   'score': 0.9305657,\n",
       "   'raw_content': None},\n",
       "  {'url': 'https://www.youtube.com/watch?v=qaWOwbFw3cs',\n",
       "   'title': \"LangGraph 101: it's better than LangChain - YouTube\",\n",
       "   'content': 'LangGraph is a special LangChain-built library that builds intelligent AI Agents using graphs. Ie, agentic state machines.',\n",
       "   'score': 0.9302622,\n",
       "   'raw_content': None}],\n",
       " 'response_time': 0.87,\n",
       " 'request_id': 'f88abbfa-10c1-437f-8739-330022aa79b9'}"
      ]
     },
     "execution_count": 136,
     "metadata": {},
     "output_type": "execute_result"
    }
   ],
   "source": [
    "result"
   ]
  },
  {
   "cell_type": "code",
   "execution_count": null,
   "id": "74e81460",
   "metadata": {},
   "outputs": [
    {
     "name": "stdout",
     "output_type": "stream",
     "text": [
      "Expert Name Ava Sharma, a Lead Nutritionist affiliated with Global Wellness Institute.\n",
      " Main Focus of me is Expert in personalized nutrition plans and dietary trends. Focuses on the impact of diet on overall wellness and fitness.\n"
     ]
    }
   ],
   "source": [
    "print(analyst1.persona)"
   ]
  },
  {
   "cell_type": "code",
   "execution_count": null,
   "id": "b58b9376",
   "metadata": {},
   "outputs": [],
   "source": [
    "from typing import Annotated\n",
    "import operator\n",
    "from langgraph.graph import MessagesState\n",
    "\n",
    "class InterviewState(MessagesState):\n",
    "    topic:str\n",
    "    max_num_turns:int\n",
    "    turn_count:int=0\n",
    "    context:Annotated[List,operator.add]\n",
    "    analyst: Analyst\n",
    "    interview:str\n",
    "    sections:List\n",
    "    answer: List\n",
    "\n"
   ]
  },
  {
   "cell_type": "code",
   "execution_count": null,
   "id": "a6b56166",
   "metadata": {},
   "outputs": [],
   "source": [
    "question_instruction=\"\"\"\n",
    "\n",
    "you are an analyst tasked to interview an expert to learn about the topic.\n",
    "\n",
    "You will ask a series of questions to gather insights and information from the expert.\n",
    "\n",
    "1. Interesting : Insights that people will find surprising or non-obvious.\n",
    "2. Deep Dive : In-depth analysis or exploration of complex aspects.\n",
    "3. Specific: Insights that avoid generalities and include specific examples from the expert.\n",
    "\n",
    "here is the details of Expert Analyst: {goals}\n",
    "\n",
    "Here is your topic of focus : {topic}\n",
    "        \n",
    "Begin by introducing yourself using a name that fits your persona, and then ask your question.\n",
    "\n",
    "Continue to ask questions to drill down and refine your understanding of the topic.\n",
    "        \n",
    "When you are satisfied with your understanding, complete the interview with: \"Thank you so much for your help!\"\n",
    "\n",
    "Remember to stay in character throughout your response, reflecting the persona and goals provided to you.\"\"\"\n",
    "\n"
   ]
  },
  {
   "cell_type": "code",
   "execution_count": null,
   "id": "a9c96574",
   "metadata": {},
   "outputs": [],
   "source": [
    "def generation_question(state: InterviewState):\n",
    "    \"\"\"Node to generate the questions\"\"\"\n",
    "    \n",
    "    analyst = state[\"analyst\"]\n",
    "    messages = state[\"messages\"]\n",
    "    topic = state[\"topic\"]  # ✅ get topic from state\n",
    "\n",
    "    # Generate the question prompt\n",
    "    system_message_content = question_instruction.format(\n",
    "        goals=analyst.persona,\n",
    "        topic=topic  # include topic in goals\n",
    "    )\n",
    "\n",
    "    system_message = SystemMessage(content=system_message_content)\n",
    "    question = llm.invoke([system_message] + messages)\n",
    "\n",
    "    # Return updated messages in state\n",
    "    return {\"messages\": [question]}\n"
   ]
  },
  {
   "cell_type": "code",
   "execution_count": null,
   "id": "285fa399",
   "metadata": {},
   "outputs": [],
   "source": [
    "interview_state = InterviewState(\n",
    "    max_num_turns=2,\n",
    "    context=[],\n",
    "    analyst=analyst1,\n",
    "    interview=\"\",\n",
    "    sections=[],   # ✅ must match the field name\n",
    "    messages=[HumanMessage(content=\"hi do the proper search according to the expertise\")],\n",
    "    topic=final_state.values.get('topic'), # this has a valid value,\n",
    "    answer=[]\n",
    ")"
   ]
  },
  {
   "cell_type": "code",
   "execution_count": null,
   "id": "39d815c3",
   "metadata": {},
   "outputs": [
    {
     "data": {
      "text/plain": [
       "{'max_num_turns': 2,\n",
       " 'context': [],\n",
       " 'analyst': Analyst(name='Dr. Emily Chen', role='Fitness Technology Specialist', affiliation='TechFit Innovations', description='Dr. Chen focuses on the integration of wearable technology and AI in fitness, exploring how these advancements can enhance personal training and health monitoring.'),\n",
       " 'interview': '',\n",
       " 'sections': [],\n",
       " 'messages': [HumanMessage(content='hi do the proper search according to the expertise', additional_kwargs={}, response_metadata={})],\n",
       " 'topic': 'Fiteness and Wellness Trends in 2024',\n",
       " 'answer': []}"
      ]
     },
     "execution_count": 46,
     "metadata": {},
     "output_type": "execute_result"
    }
   ],
   "source": [
    "interview_state"
   ]
  },
  {
   "cell_type": "code",
   "execution_count": null,
   "id": "ea0cefc7",
   "metadata": {},
   "outputs": [
    {
     "name": "stderr",
     "output_type": "stream",
     "text": [
      "HTTP Request: POST https://api.openai.com/v1/chat/completions \"HTTP/1.1 200 OK\"\n"
     ]
    }
   ],
   "source": [
    "question_asked=generation_question(interview_state)"
   ]
  },
  {
   "cell_type": "code",
   "execution_count": null,
   "id": "53825727",
   "metadata": {},
   "outputs": [
    {
     "name": "stdout",
     "output_type": "stream",
     "text": [
      "content=\"Hello, I'm Alex Turner, a technology trends analyst. I'm excited to learn from you today, Dr. Chen, about the fitness and wellness trends we can expect in 2024, particularly with the integration of wearable technology and AI. \\n\\nTo start, could you share some of the most surprising or non-obvious trends in fitness technology that you anticipate for 2024?\" additional_kwargs={'refusal': None} response_metadata={'token_usage': {'completion_tokens': 75, 'prompt_tokens': 246, 'total_tokens': 321, 'completion_tokens_details': {'accepted_prediction_tokens': 0, 'audio_tokens': 0, 'reasoning_tokens': 0, 'rejected_prediction_tokens': 0}, 'prompt_tokens_details': {'audio_tokens': 0, 'cached_tokens': 0}}, 'model_name': 'gpt-4o-2024-08-06', 'system_fingerprint': 'fp_65564d8ba5', 'id': 'chatcmpl-CT4ih09io7EMLKqRMzpQlPVk6qwoh', 'service_tier': 'default', 'finish_reason': 'stop', 'logprobs': None} id='run--584644bb-f3b8-4bb9-83f7-4a68f7bde951-0' usage_metadata={'input_tokens': 246, 'output_tokens': 75, 'total_tokens': 321, 'input_token_details': {'audio': 0, 'cache_read': 0}, 'output_token_details': {'audio': 0, 'reasoning': 0}}\n"
     ]
    }
   ],
   "source": [
    "print(question_asked[\"messages\"][0])"
   ]
  },
  {
   "cell_type": "code",
   "execution_count": null,
   "id": "c76627f3",
   "metadata": {},
   "outputs": [
    {
     "data": {
      "text/plain": [
       "'Fiteness and Wellness Trends in 2024'"
      ]
     },
     "execution_count": 159,
     "metadata": {},
     "output_type": "execute_result"
    }
   ],
   "source": [
    "final_state.values.get('topic')"
   ]
  },
  {
   "cell_type": "code",
   "execution_count": null,
   "id": "4ad0cbce",
   "metadata": {},
   "outputs": [
    {
     "data": {
      "text/plain": [
       "{'topic': 'Fiteness and Wellness Trends in 2024', 'num_analysts': 5}"
      ]
     },
     "execution_count": 160,
     "metadata": {},
     "output_type": "execute_result"
    }
   ],
   "source": [
    "state"
   ]
  },
  {
   "cell_type": "code",
   "execution_count": null,
   "id": "15c2f889",
   "metadata": {},
   "outputs": [
    {
     "data": {
      "text/plain": [
       "'\\n\\nyou are an analyst tasked to interview an expert to learn about the topic.\\n\\nYou will ask a series of questions to gather insights and information from the expert.\\n\\n1. Interesting : Insights that people will find surprising or non-obvious.\\n2. Deep Dive : In-depth analysis or exploration of complex aspects.\\n3. Specific: Insights that avoid generalities and include specific examples from the expert.\\n\\nhere is the details of Expert Analyst: Expert Name Ava Sharma, a Lead Nutritionist affiliated with Global Wellness Institute.\\n Main Focus of me is Expert in personalized nutrition plans and dietary trends. Focuses on the impact of diet on overall wellness and fitness.\\n\\nHere is your topic of focus : Fiteness and Wellness Trends in 2024\\n\\nBegin by introducing yourself using a name that fits your persona, and then ask your question.\\n\\nContinue to ask questions to drill down and refine your understanding of the topic.\\n\\nWhen you are satisfied with your understanding, complete the interview with: \"Thank you so much for your help!\"\\n\\nRemember to stay in character throughout your response, reflecting the persona and goals provided to you.'"
      ]
     },
     "execution_count": 161,
     "metadata": {},
     "output_type": "execute_result"
    }
   ],
   "source": [
    "question_instruction.format(goals = analyst1.persona,topic=final_state.values.get('topic'))"
   ]
  },
  {
   "cell_type": "code",
   "execution_count": null,
   "id": "31befcdf",
   "metadata": {},
   "outputs": [
    {
     "data": {
      "text/plain": [
       "StateSnapshot(values={'topic': 'Fiteness and Wellness Trends in 2024', 'num_analysts': 5, 'human_analyst_feedback': '', 'analyst': [Analyst(name='Ava Sharma', role='Lead Nutritionist', affiliation='Global Wellness Institute', description='Expert in personalized nutrition plans and dietary trends. Focuses on the impact of diet on overall wellness and fitness.'), Analyst(name='Ethan Williams', role='Fitness Technology Analyst', affiliation='Tech Innovations Corp', description='Specializes in wearable fitness trackers and digital health solutions. Concerned with data privacy and accuracy in fitness technology.'), Analyst(name='Chloe Davis', role='Mindfulness and Meditation Coach', affiliation='Inner Peace Center', description='Dedicated to promoting mental wellness through mindfulness practices. Focuses on stress reduction and emotional balance.'), Analyst(name='Liam Johnson', role='Exercise Physiologist', affiliation='Optimal Performance Lab', description='Designs customized exercise programs for athletes and fitness enthusiasts. Concerned with injury prevention and performance enhancement.'), Analyst(name='Sophia Rodriguez', role='Wellness Consultant', affiliation='Holistic Health Solutions', description='Provides guidance on holistic approaches to wellness, including lifestyle changes and alternative therapies. Focuses on integrating various wellness modalities.'), Analyst(name='Jackson Lee', role='Public Health Advocate', affiliation='Community Health Initiative', description='Promotes health and wellness initiatives within communities. Concerned with health equity and access to wellness resources.'), Analyst(name='Mia Brown', role='Sleep Specialist', affiliation='Restful Nights Clinic', description='Expert in sleep disorders and sleep optimization strategies. Focuses on the impact of sleep on overall health and performance.'), Analyst(name='Noah Garcia', role='Corporate Wellness Manager', affiliation='Healthy Business Solutions', description='Develops and implements wellness programs for corporate clients. Concerned with employee well-being and productivity.'), Analyst(name='Olivia Wilson', role='Environmental Health Scientist', affiliation='Green Living Research Institute', description='Studies the impact of environmental factors on human health and wellness. Focuses on reducing exposure to toxins and promoting sustainable living.'), Analyst(name='Caleb Martinez', role='Behavioral Psychologist', affiliation='Mind Matters Clinic', description='Applies psychological principles to promote healthy behaviors and lifestyle changes. Focuses on motivation and habit formation.')]}, next=(), config={'configurable': {'thread_id': '3', 'checkpoint_ns': '', 'checkpoint_id': '1f0ae526-8a1d-650d-8003-1f66ec56eee1'}}, metadata={'source': 'update', 'step': 3, 'parents': {}}, created_at='2025-10-21T07:49:01.447297+00:00', parent_config={'configurable': {'thread_id': '3', 'checkpoint_ns': '', 'checkpoint_id': '1f0ae525-f04c-6483-8002-60f5b06dd36d'}}, tasks=(), interrupts=())"
      ]
     },
     "execution_count": 162,
     "metadata": {},
     "output_type": "execute_result"
    }
   ],
   "source": [
    "final_state"
   ]
  },
  {
   "cell_type": "markdown",
   "id": "3ef7bdb5",
   "metadata": {},
   "source": [
    "Answering to the question generated"
   ]
  },
  {
   "cell_type": "code",
   "execution_count": null,
   "id": "04c66342",
   "metadata": {},
   "outputs": [],
   "source": [
    "class SearchQuery(BaseModel):\n",
    "    search_query: str = Field(description=\"The search query to be used for web search or for wikipedia search.\")"
   ]
  },
  {
   "cell_type": "code",
   "execution_count": null,
   "id": "eb0b73e9",
   "metadata": {},
   "outputs": [],
   "source": [
    "search_instruction=\"\"\"\n",
    "You are an expert research analyst tasked with generating a precise search query \n",
    "for the conversation provided between the expert analyst and the analyst who wants to understand the\n",
    "topic better.\n",
    "{messages}\n",
    "pay attention to the analyst's persona and goals while formulating the search query.\n",
    "convert the above conversation into a concise search query that can be used to fetch \n",
    "relevant information from web search or wikipedia search.\n",
    "\"\"\""
   ]
  },
  {
   "cell_type": "code",
   "execution_count": null,
   "id": "2c24940a",
   "metadata": {},
   "outputs": [],
   "source": [
    "def search_web(state: InterviewState):\n",
    "    \"\"\"Node to generate the search query\"\"\"\n",
    "    \n",
    "    messages = state[\"messages\"]\n",
    "\n",
    "    formatted_messages = \"\\n\".join(\n",
    "        f\"{m.type.upper()}: {m.content}\" for m in messages\n",
    "    )\n",
    "    \n",
    "\n",
    "    # Generate the search query prompt\n",
    "    prompt = search_instruction.format(\n",
    "        messages=formatted_messages)\n",
    "    \n",
    "\n",
    "    system_message = SystemMessage(content=prompt)\n",
    "    structured_llm=llm.with_structured_output(SearchQuery)\n",
    "    search_query = structured_llm.invoke([system_message]+[HumanMessage(content=\"hi do the proper question formulation based on the context\")])\n",
    "\n",
    "    result=web_search.invoke(search_query.search_query)\n",
    "    context=\"\\n\\n\".join([f\"source={data.get('url')} \\n content={data.get('content')}\" for data in result.get('results')])\n",
    "\n",
    "    # Return updated state with search query\n",
    "    return {\"context\": [context]}"
   ]
  },
  {
   "cell_type": "code",
   "execution_count": null,
   "id": "6cb7ccec",
   "metadata": {},
   "outputs": [
    {
     "data": {
      "text/plain": [
       "{'messages': [AIMessage(content=\"Okay, here we go.\\n\\nHello Ava, thank you for taking the time to speak with me today. My name is Daniel, and I'm an analyst researching fitness and wellness trends for 2024. As a Lead Nutritionist with the Global Wellness Institute, your expertise in personalized nutrition and dietary trends is invaluable to my research.\\n\\nTo start, what are some of the most **interesting** shifts you're seeing in how people are approaching fitness and wellness in 2024, things that might surprise the average person?\", additional_kwargs={}, response_metadata={'prompt_feedback': {'block_reason': 0, 'safety_ratings': []}, 'finish_reason': 'STOP', 'model_name': 'gemini-2.0-flash', 'safety_ratings': []}, id='run--1976aef5-c6d9-4c61-99c2-cf2859030342-0', usage_metadata={'input_tokens': 240, 'output_tokens': 112, 'total_tokens': 352, 'input_token_details': {'cache_read': 0}})]}"
      ]
     },
     "execution_count": 166,
     "metadata": {},
     "output_type": "execute_result"
    }
   ],
   "source": [
    "question_asked"
   ]
  },
  {
   "cell_type": "code",
   "execution_count": null,
   "id": "7e30d8dc",
   "metadata": {},
   "outputs": [
    {
     "data": {
      "text/plain": [
       "{'max_num_turns': 2,\n",
       " 'context': [],\n",
       " 'analyst': Analyst(name='Ava Sharma', role='Lead Nutritionist', affiliation='Global Wellness Institute', description='Expert in personalized nutrition plans and dietary trends. Focuses on the impact of diet on overall wellness and fitness.'),\n",
       " 'interview': '',\n",
       " 'sections': [],\n",
       " 'messages': [HumanMessage(content='hi do the proper search according to the expertise', additional_kwargs={}, response_metadata={})],\n",
       " 'topic': 'Fiteness and Wellness Trends in 2024',\n",
       " 'answer': []}"
      ]
     },
     "execution_count": 167,
     "metadata": {},
     "output_type": "execute_result"
    }
   ],
   "source": [
    "interview_state"
   ]
  },
  {
   "cell_type": "code",
   "execution_count": null,
   "id": "d1ad4abe",
   "metadata": {},
   "outputs": [
    {
     "data": {
      "text/plain": [
       "{'messages': [AIMessage(content=\"Okay, here we go.\\n\\nHello Ava, thank you for taking the time to speak with me today. My name is Daniel, and I'm an analyst researching fitness and wellness trends for 2024. As a Lead Nutritionist with the Global Wellness Institute, your expertise in personalized nutrition and dietary trends is invaluable to my research.\\n\\nTo start, what are some of the most **interesting** shifts you're seeing in how people are approaching fitness and wellness in 2024, things that might surprise the average person?\", additional_kwargs={}, response_metadata={'prompt_feedback': {'block_reason': 0, 'safety_ratings': []}, 'finish_reason': 'STOP', 'model_name': 'gemini-2.0-flash', 'safety_ratings': []}, id='run--1976aef5-c6d9-4c61-99c2-cf2859030342-0', usage_metadata={'input_tokens': 240, 'output_tokens': 112, 'total_tokens': 352, 'input_token_details': {'cache_read': 0}})]}"
      ]
     },
     "execution_count": 168,
     "metadata": {},
     "output_type": "execute_result"
    }
   ],
   "source": [
    "question_asked"
   ]
  },
  {
   "cell_type": "code",
   "execution_count": null,
   "id": "958af41d",
   "metadata": {},
   "outputs": [],
   "source": [
    "interview_state[\"messages\"]= question_asked[\"messages\"]"
   ]
  },
  {
   "cell_type": "code",
   "execution_count": null,
   "id": "4d930ae8",
   "metadata": {},
   "outputs": [
    {
     "data": {
      "text/plain": [
       "{'max_num_turns': 2,\n",
       " 'context': [],\n",
       " 'analyst': Analyst(name='Ava Sharma', role='Lead Nutritionist', affiliation='Global Wellness Institute', description='Expert in personalized nutrition plans and dietary trends. Focuses on the impact of diet on overall wellness and fitness.'),\n",
       " 'interview': '',\n",
       " 'sections': [],\n",
       " 'messages': [AIMessage(content=\"Okay, here we go.\\n\\nHello Ava, thank you for taking the time to speak with me today. My name is Daniel, and I'm an analyst researching fitness and wellness trends for 2024. As a Lead Nutritionist with the Global Wellness Institute, your expertise in personalized nutrition and dietary trends is invaluable to my research.\\n\\nTo start, what are some of the most **interesting** shifts you're seeing in how people are approaching fitness and wellness in 2024, things that might surprise the average person?\", additional_kwargs={}, response_metadata={'prompt_feedback': {'block_reason': 0, 'safety_ratings': []}, 'finish_reason': 'STOP', 'model_name': 'gemini-2.0-flash', 'safety_ratings': []}, id='run--1976aef5-c6d9-4c61-99c2-cf2859030342-0', usage_metadata={'input_tokens': 240, 'output_tokens': 112, 'total_tokens': 352, 'input_token_details': {'cache_read': 0}})],\n",
       " 'topic': 'Fiteness and Wellness Trends in 2024',\n",
       " 'answer': []}"
      ]
     },
     "execution_count": 170,
     "metadata": {},
     "output_type": "execute_result"
    }
   ],
   "source": [
    "interview_state"
   ]
  },
  {
   "cell_type": "code",
   "execution_count": null,
   "id": "10db60c6",
   "metadata": {},
   "outputs": [],
   "source": [
    "answer=search_web(interview_state)"
   ]
  },
  {
   "cell_type": "code",
   "execution_count": null,
   "id": "fd47dfb8",
   "metadata": {},
   "outputs": [
    {
     "name": "stdout",
     "output_type": "stream",
     "text": [
      "source=https://aeworld.com/lifestyle/well-being/the-biggest-wellness-trends-in-2024/ \n",
      " content=The rise of biomonitoring and wearables is redefining the landscape of health and wellness, blending cutting-edge technology with luxury lifestyle. These innovations not only reflect a growing awareness of health and wellness but also signify a demand for authenticity and effectiveness in lifestyle choices. This burgeoning trend of personalized wellness products signifies a holistic approach to health, intertwining luxury, efficacy, and self-awareness in an exquisite fusion of care and indulgence. This shift reflects a growing understanding that a balanced gut can enhance not just digestion, but also immune function, mental clarity, and skin health.Luxury brands are quick to capitalize on this trend, offering premium probiotics, gourmet gut-friendly foods, and detox retreats that focus on digestive wellness.\n",
      "\n",
      "source=https://supplementrelief.com/consumer-wellness-trends-for-2024/?srsltid=AfmBOoq5UbNybSffW_xO-tHsBqR6RUns94ISKraZZygwmTeFaD42N0-x \n",
      " content=The focus is shifting to personalized nutrition plans considering individual dietary preferences, health goals, and genetic factors.\n",
      "\n",
      "source=https://www.gwi.com/blog/wellness-trends \n",
      " content=2024 wellness trends include a desire for fast food, declining health, proactive health management, tracking data, and less restrictive diets.\n",
      "\n",
      "source=https://www.forbes.com/health/wellness/top-nutrition-and-fitness-trends-2024/ \n",
      " content=. Indeed, the majority of Forbes Health Advisory Board members who provided their predictions noted the popularity of protein isn’t going away anytime soon—particularly plant-based picks. | Transparent Labs Pea Protein Isolate | * USDA-Certified Organic Pea Protein Powder * Provides 28 Grams of Complete Protein Per Scoop * Simple, Healthy Way to Increase Protein Intake on a Plant-Based Diet * No Artificial Flavoring, Artificial Sweeteners, or Artificial Food Coloring | Shop Now  On Transparent Labs' Website |  | Indeed, many Forbes Health Advisory Board members pointed to sustainable practices paving the way in nutrition in 2024, and TikTok data shows #foodwaste earned 88 million U.S. views in 2023, with videos showing how you can make your food last longer and how to best utilize scraps#foodwaste.\n",
      "\n",
      "source=https://www.fitonhealth.com/blog/wellness-trends-2024-highlights-from-fiton-healths-member-report \n",
      " content=As the year comes to a close, it’s time to reflect on the 2024 wellness trends that shaped how we approach health, fitness, and mental well-being. FitOn Health’s 2024 Member Trends Report provides a comprehensive review of the year's biggest developments in wellness. This report is more than just data—it’s a celebration of the strides made in health and wellness. Let’s dive into the top highlights and trends that made 2024 a pivotal year for health and wellness. This focus on emotional well-being underscored the growing importance of trends in mental health within the broader wellness space. Members embraced health and wellness trends that focused on balance and sustainability, rather than quick fixes. Stay connected to our blog for updates on health and wellness trends.\n"
     ]
    }
   ],
   "source": [
    "print(answer[\"context\"][0])"
   ]
  },
  {
   "cell_type": "markdown",
   "id": "3428a1e0",
   "metadata": {},
   "source": [
    "The rise of biomonitoring and wearables is redefining the landscape of health and wellness, blending cutting-edge technology with luxury lifestyle. These innovations not only reflect a growing awareness of health and wellness but also signify a demand for authenticity and effectiveness in lifestyle choices. This burgeoning trend of personalized wellness products signifies a holistic approach to health, intertwining luxury, efficacy, and self-awareness in an exquisite fusion of care and indulgence. This shift reflects a growing understanding that a balanced gut can enhance not just digestion, but also immune function, mental clarity, and skin health.Luxury brands are quick to capitalize on this trend, offering premium probiotics, gourmet gut-friendly foods, and detox retreats that focus on digestive wellness.\n",
    "\n",
    "The focus is shifting to personalized nutrition plans considering individual dietary preferences, health goals, and genetic factors.\n",
    "\n",
    "1. Mindfulness took center stage · 2. Personalized fitness experiences soared · 3. Holistic health became a movement · 4. Nutrition education made\n",
    "\n",
    ". Indeed, the majority of Forbes Health Advisory Board members who provided their predictions noted the popularity of protein isn’t going away anytime soon—particularly plant-based picks. | Transparent Labs Pea Protein Isolate | * USDA-Certified Organic Pea Protein Powder * Provides 28 Grams of Complete Protein Per Scoop * Simple, Healthy Way to Increase Protein Intake on a Plant-Based Diet * No Artificial Flavoring, Artificial Sweeteners, or Artificial Food Coloring | Shop Now  On Transparent Labs' Website |  | Indeed, many Forbes Health Advisory Board members pointed to sustainable practices paving the way in nutrition in 2024, and TikTok data shows #foodwaste earned 88 million U.S. views in 2023, with videos showing how you can make your food last longer and how to best utilize scraps#foodwaste.\n",
    "\n",
    "Now, personalized vitamins and gut biome tests are just some examples of how health is being explored with these individual, tailor-made characteristics. 4."
   ]
  },
  {
   "cell_type": "code",
   "execution_count": null,
   "id": "111110e9",
   "metadata": {},
   "outputs": [],
   "source": [
    "from langchain_community.document_loaders import WikipediaLoader"
   ]
  },
  {
   "cell_type": "code",
   "execution_count": null,
   "id": "e83fb9e8",
   "metadata": {},
   "outputs": [],
   "source": [
    "docs= WikipediaLoader(query=\"Artificial Intelligence\").load()"
   ]
  },
  {
   "cell_type": "code",
   "execution_count": null,
   "id": "5594122d",
   "metadata": {},
   "outputs": [
    {
     "name": "stdout",
     "output_type": "stream",
     "text": [
      "Artificial intelligence (AI) is the capability of computational systems to perform tasks typically associated with human intelligence, such as learning, reasoning, problem-solving, perception, and decision-making. It is a field of research in computer science that develops and studies methods and software that enable machines to perceive their environment and use learning and intelligence to take actions that maximize their chances of achieving defined goals.\n",
      "High-profile applications of AI include advanced web search engines (e.g., Google Search); recommendation systems (used by YouTube, Amazon, and Netflix); virtual assistants (e.g., Google Assistant, Siri, and Alexa); autonomous vehicles (e.g., Waymo); generative and creative tools (e.g., language models and AI art); and superhuman play and analysis in strategy games (e.g., chess and Go). However, many AI applications are not perceived as AI: \"A lot of cutting edge AI has filtered into general applications, often without being called AI because once something becomes useful enough and common enough it's not labeled AI anymore.\"\n",
      "Various subfields of AI research are centered around particular goals and the use of particular tools. The traditional goals of AI research include learning, reasoning, knowledge representation, planning, natural language processing, perception, and support for robotics. To reach these goals, AI researchers have adapted and integrated a wide range of techniques, including search and mathematical optimization, formal logic, artificial neural networks, and methods based on statistics, operations research, and economics. AI also draws upon psychology, linguistics, philosophy, neuroscience, and other fields. Some companies, such as OpenAI, Google DeepMind and Meta, aim to create artificial general intelligence (AGI)—AI that can complete virtually any cognitive task at least as well as a human.\n",
      "Artificial intelligence was founded as an academic discipline in 1956, and the field went through multiple cycles of optimism throughout its history, followed by periods of disappointment and loss of funding, known as AI winters. Funding and interest vastly increased after 2012 when graphics processing units started being used to accelerate neural networks and deep learning outperformed previous AI techniques. This growth accelerated further after 2017 with the transformer architecture. In the 2020s, an ongoing period of rapid progress in advanced generative AI became known as the AI boom. Generative AI's ability to create and modify content has led to several unintended consequences and harms, which has raised ethical concerns about AI's long-term effects and potential existential risks, prompting discussions about regulatory policies to ensure the safety and benefits of the technology.\n",
      "\n",
      "\n",
      "== Goals ==\n",
      "The general problem of simulating (or creating) intelligence has been broken into subproblems. These consist of particular traits or capabilities that researchers expect an intelligent system to display. The traits described below have received the most attention and cover the scope of AI research.\n",
      "\n",
      "\n",
      "=== Reasoning and problem-solving ===\n",
      "Early researchers developed algorithms that imitated step-by-step reasoning that humans use when they solve puzzles or make logical deductions. By the late 1980s and 1990s, methods were developed for dealing with uncertain or incomplete information, employing concepts from probability and economics.\n",
      "Many of these algorithms are insufficient for solving large reasoning problems because they experience a \"combinatorial explosion\": They become exponentially slower as the problems grow. Even humans rarely use the step-by-step deduction that early AI research could model. They solve most of their problems using fast, intuitive judgments. Accurate and efficient reasoning is an unsolved problem.\n",
      "\n",
      "\n",
      "=== Knowledge representation ===\n",
      "\n",
      "Knowledge representation and knowledge engineering allow AI programs to answer questions intelligently and make \n"
     ]
    }
   ],
   "source": [
    "print(docs[0].page_content[:10000])"
   ]
  },
  {
   "cell_type": "code",
   "execution_count": null,
   "id": "9c56b873",
   "metadata": {},
   "outputs": [],
   "source": [
    "context=[f\"source={doc.metadata['source']} \\n content={doc.page_content}\" for doc in docs]"
   ]
  },
  {
   "cell_type": "code",
   "execution_count": null,
   "id": "fcf20dd1",
   "metadata": {},
   "outputs": [
    {
     "name": "stdout",
     "output_type": "stream",
     "text": [
      "source=https://en.wikipedia.org/wiki/Artificial_intelligence \n",
      " content=Artificial intelligence (AI) is the capability of computational systems to perform tasks typically associated with human intelligence, such as learning, reasoning, problem-solving, perception, and decision-making. It is a field of research in computer science that develops and studies methods and software that enable machines to perceive their environment and use learning and intelligence to take actions that maximize their chances of achieving defined goals.\n",
      "High-profile applications of AI include advanced web search engines (e.g., Google Search); recommendation systems (used by YouTube, Amazon, and Netflix); virtual assistants (e.g., Google Assistant, Siri, and Alexa); autonomous vehicles (e.g., Waymo); generative and creative tools (e.g., language models and AI art); and superhuman play and analysis in strategy games (e.g., chess and Go). However, many AI applications are not perceived as AI: \"A lot of cutting edge AI has filtered into general applications, often without being called AI because once something becomes useful enough and common enough it's not labeled AI anymore.\"\n",
      "Various subfields of AI research are centered around particular goals and the use of particular tools. The traditional goals of AI research include learning, reasoning, knowledge representation, planning, natural language processing, perception, and support for robotics. To reach these goals, AI researchers have adapted and integrated a wide range of techniques, including search and mathematical optimization, formal logic, artificial neural networks, and methods based on statistics, operations research, and economics. AI also draws upon psychology, linguistics, philosophy, neuroscience, and other fields. Some companies, such as OpenAI, Google DeepMind and Meta, aim to create artificial general intelligence (AGI)—AI that can complete virtually any cognitive task at least as well as a human.\n",
      "Artificial intelligence was founded as an academic discipline in 1956, and the field went through multiple cycles of optimism throughout its history, followed by periods of disappointment and loss of funding, known as AI winters. Funding and interest vastly increased after 2012 when graphics processing units started being used to accelerate neural networks and deep learning outperformed previous AI techniques. This growth accelerated further after 2017 with the transformer architecture. In the 2020s, an ongoing period of rapid progress in advanced generative AI became known as the AI boom. Generative AI's ability to create and modify content has led to several unintended consequences and harms, which has raised ethical concerns about AI's long-term effects and potential existential risks, prompting discussions about regulatory policies to ensure the safety and benefits of the technology.\n",
      "\n",
      "\n",
      "== Goals ==\n",
      "The general problem of simulating (or creating) intelligence has been broken into subproblems. These consist of particular traits or capabilities that researchers expect an intelligent system to display. The traits described below have received the most attention and cover the scope of AI research.\n",
      "\n",
      "\n",
      "=== Reasoning and problem-solving ===\n",
      "Early researchers developed algorithms that imitated step-by-step reasoning that humans use when they solve puzzles or make logical deductions. By the late 1980s and 1990s, methods were developed for dealing with uncertain or incomplete information, employing concepts from probability and economics.\n",
      "Many of these algorithms are insufficient for solving large reasoning problems because they experience a \"combinatorial explosion\": They become exponentially slower as the problems grow. Even humans rarely use the step-by-step deduction that early AI research could model. They solve most of their problems using fast, intuitive judgments. Accurate and efficient reasoning is an unsolved problem.\n",
      "\n",
      "\n",
      "=== Knowledge representation ===\n",
      "\n",
      "Knowledge representation and knowledge engineering allow AI programs to answer questions intelligently and make \n",
      "source=https://en.wikipedia.org/wiki/Artificial_general_intelligence \n",
      " content=Artificial general intelligence (AGI)—sometimes called human‑level intelligence AI—is a type of artificial intelligence that would match or surpass human capabilities across virtually all cognitive tasks.\n",
      "Some researchers argue that state‑of‑the‑art large language models (LLMs) already exhibit signs of AGI‑level capability, while others maintain that genuine AGI has not yet been achieved. Beyond AGI, artificial superintelligence (ASI) would outperform the best human abilities across every domain by a wide margin.\n",
      "Unlike artificial narrow intelligence (ANI), whose competence is confined to well‑defined tasks, an AGI system can generalise knowledge, transfer skills between domains, and solve novel problems without task‑specific reprogramming. The concept does not, in principle, require the system to be an autonomous agent; a static model—such as a highly capable large language model—or an embodied robot could both satisfy the definition so long as human‑level breadth and proficiency are achieved.\n",
      "Creating AGI is a primary goal of AI research and of companies such as OpenAI, Google, xAI, and Meta. A 2020 survey identified 72 active AGI research and development projects across 37 countries.\n",
      "The timeline for achieving human‑level intelligence AI remains deeply contested. Recent surveys of AI researchers give median forecasts ranging from the late 2020s to mid‑century, while still recording significant numbers who expect arrival much sooner—or never at all. There is debate on the exact definition of AGI and regarding whether modern LLMs such as GPT-4 are early forms of emerging AGI. AGI is a common topic in science fiction and futures studies.\n",
      "Contention exists over whether AGI represents an existential risk. Many AI experts have stated that mitigating the risk of human extinction posed by AGI should be a global priority. Others find the development of AGI to be in too remote a stage to present such a risk.\n",
      "\n",
      "\n",
      "== Terminology ==\n",
      "AGI is also known as strong AI, full AI, human-level AI, human-level intelligent AI, or general intelligent action.\n",
      "Some academic sources reserve the term \"strong AI\" for computer programs that will experience sentience or consciousness. In contrast, weak AI (or narrow AI) is able to solve one specific problem but lacks general cognitive abilities. Some academic sources use \"weak AI\" to refer more broadly to any programs that neither experience consciousness nor have a mind in the same sense as humans.\n",
      "Related concepts include artificial superintelligence and transformative AI. An artificial superintelligence (ASI) is a hypothetical type of AGI that is much more generally intelligent than humans, while the notion of transformative AI relates to AI having a large impact on society, for example, similar to the agricultural or industrial revolution.\n",
      "A framework for classifying AGI by performance and autonomy was proposed in 2023 by Google DeepMind researchers. They define five performance levels of AGI: emerging, competent, expert, virtuoso, and superhuman. For example, a competent AGI is defined as an AI that outperforms 50% of skilled adults in a wide range of non-physical tasks, and a superhuman AGI (i.e. an artificial superintelligence) is similarly defined but with a threshold of 100%. They consider large language models like ChatGPT or LLaMA 2 to be instances of emerging AGI (comparable to unskilled humans). Regarding the autonomy of AGI and associated risks, they define five levels: tool (fully in human control), consultant, collaborator, expert, and agent (fully autonomous).\n",
      "\n",
      "\n",
      "== Characteristics ==\n",
      "\n",
      "Various popular definitions of intelligence have been proposed. One of the leading proposals is the Turing test. However, there are other well-known definitions, and some researchers disagree with the more popular approaches.\n",
      "\n",
      "\n",
      "=== Intelligence traits ===\n",
      "Researchers generally hold that a system is required to do all of the following to be regarded as an AGI:\n",
      "\n",
      "reason, use strategy, solve puzzles, and make judg\n",
      "source=https://en.wikipedia.org/wiki/History_of_artificial_intelligence \n",
      " content=The history of artificial intelligence (AI) began in antiquity, with myths, stories, and rumors of artificial beings endowed with intelligence or consciousness by master craftsmen. The study of logic and formal reasoning from antiquity to the present led directly to the invention of the programmable digital computer in the 1940s, a machine based on abstract mathematical reasoning. This device and the ideas behind it inspired scientists to begin discussing the possibility of building an electronic brain.\n",
      "The field of AI research was founded at a workshop held on the campus of Dartmouth College in 1956. Attendees of the workshop became the leaders of AI research for decades. Many of them predicted that machines as intelligent as humans would exist within a generation. The U.S. government provided millions of dollars with the hope of making this vision come true.\n",
      "Eventually, it became obvious that researchers had grossly underestimated the difficulty of this feat. In 1974, criticism from James Lighthill and pressure from the U.S.A. Congress led the U.S. and British Governments to stop funding undirected research into artificial intelligence. Seven years later, a visionary initiative by the Japanese Government and the success of expert systems  reinvigorated investment in AI, and by the late 1980s, the industry had grown into a billion-dollar enterprise. However, investors' enthusiasm waned in the 1990s, and the field was criticized in the press and avoided by industry (a period known as an \"AI winter\"). Nevertheless, research and funding continued to grow under other names.\n",
      "In the early 2000s, machine learning was applied to a wide range of problems in academia and industry. The success was due to the availability of powerful computer hardware, the collection of immense data sets, and the application of solid mathematical methods. Soon after, deep learning proved to be a breakthrough technology, eclipsing all other methods. The transformer architecture debuted in 2017 and was used to produce impressive generative AI applications, amongst other use cases.\n",
      "Investment in AI boomed in the 2020s. The recent AI boom, initiated by the development of transformer architecture, led to the rapid scaling and public releases of large language models (LLMs) like ChatGPT. These models exhibit human-like traits of knowledge, attention, and creativity, and have been integrated into various sectors, fueling exponential investment in AI. However, concerns about the potential risks and ethical implications of advanced AI have also emerged, causing debate about the future of AI and its impact on society.\n",
      "\n",
      "\n",
      "== Precursors ==\n",
      "\n",
      "\n",
      "=== Mythical, fictional, and speculative precursors ===\n",
      "\n",
      "\n",
      "==== Myth and legend ====\n",
      "In Greek mythology, Talos was a creature made of bronze who acted as guardian for the island of Crete. He would throw boulders at the ships of invaders and would complete 3 circuits around the island's perimeter daily. According to pseudo-Apollodorus' Bibliotheke, Hephaestus forged Talos with the aid of a cyclops and presented the automaton as a gift to Minos. In the Argonautica, Jason and the Argonauts defeated Talos by removing a plug near his foot, causing the vital ichor to flow out from his body and rendering him lifeless.\n",
      "Pygmalion was a legendary king and sculptor of Greek mythology, famously represented in Ovid's Metamorphoses. In the 10th book of Ovid's narrative poem, Pygmalion becomes disgusted with women when he witnesses the way in which the Propoetides prostitute themselves. Despite this, he makes offerings at the temple of Venus asking the goddess to bring to him a woman just like a statue he carved.\n",
      "\n",
      "\n",
      "==== Medieval legends of artificial beings ====\n",
      "\n",
      "In Of the Nature of Things, the Swiss alchemist Paracelsus describes a procedure that he claims can fabricate an \"artificial man\". By placing the \"sperm of a man\" in horse dung, and feeding it the \"Arcanum of Mans blood\" after 40 days, the concoction will become a living infant.\n",
      "The ear\n",
      "source=https://en.wikipedia.org/wiki/Generative_artificial_intelligence \n",
      " content=Generative artificial intelligence (Generative AI, GenAI, or GAI) is a subfield of artificial intelligence that uses generative models to produce text, images, videos, audio, software code or other forms of data. These models learn the underlying patterns and structures of their training data and use them to produce new data based on the input, which often comes in the form of natural language prompts.\n",
      "Generative AI tools have become more common since the AI boom in the 2020s. This boom was made possible by improvements in transformer-based deep neural networks, particularly large language models (LLMs). Major tools include chatbots such as ChatGPT, Copilot, Gemini, Claude, Grok, and DeepSeek; text-to-image models such as Stable Diffusion, Midjourney, and DALL-E; and text-to-video models such as Veo and Sora. Technology companies developing generative AI include OpenAI, xAI, Anthropic, Meta AI, Microsoft, Google, Mistral AI, DeepSeek, Baidu and Yandex.\n",
      "Generative AI is used across many industries, including software development, healthcare, finance, entertainment, customer service, sales and marketing, art, writing, fashion, and product design. The production of generative AI systems requires large scale data centers using specialized chips which require a lot of electricity for processing and water for cooling. \n",
      "Generative AI has raised many ethical questions and governance challenges as it can be used for cybercrime, or to deceive or manipulate people through fake news or deepfakes. Even if used ethically, it may lead to mass replacement of human jobs. The tools themselves have been criticized as violating intellectual property laws, since they are trained on copyrighted works.  The material and energy intensity of the AI systems has raised concerns about the environmental impact of AI, especially in light of the challenges created by the energy transition.\n",
      "\n",
      "\n",
      "== History ==\n",
      "\n",
      "\n",
      "=== Early history ===\n",
      "The first example of an algorithmically generated media is likely the Markov chain. Markov chains have long been used to model natural languages since their development by Russian mathematician Andrey Markov in the early 20th century. Markov published his first paper on the topic in 1906, and analyzed the pattern of vowels and consonants in the novel Eugeny Onegin using Markov chains. Once a Markov chain is trained on a text corpus, it can then be used as a probabilistic text generator.\n",
      "Computers were needed to go beyond Markov chains. By the early 1970s, Harold Cohen was creating and exhibiting generative AI works created by AARON, the computer program Cohen created to generate paintings.\n",
      "The terms generative AI planning or generative planning were used in the 1980s and 1990s to refer to AI planning systems, especially computer-aided process planning, used to generate sequences of actions to reach a specified goal. Generative AI planning systems used symbolic AI methods such as state space search and constraint satisfaction and were a \"relatively mature\" technology by the early 1990s. They were used to generate crisis action plans for military use, process plans for manufacturing and decision plans such as in prototype autonomous spacecraft.\n",
      "\n",
      "\n",
      "=== Generative neural networks (2014–2019) ===\n",
      "\n",
      "Machine learning uses both discriminative models and generative models to predict data. Beginning in the late 2000s, the introduction of deep learning technology led to improvements in image classification, speech recognition, natural language processing and other tasks. Neural networks in this era were typically trained as discriminative models due to the difficulty of generative modeling.\n",
      "In 2014, advancements such as the variational autoencoder and generative adversarial network produced the first practical deep neural networks capable of learning generative models, as opposed to discriminative ones, for complex data such as images. These deep generative models were the first to output not only class labels for images but also entire images, \n",
      "source=https://en.wikipedia.org/wiki/A.I._Artificial_Intelligence \n",
      " content=A.I. Artificial Intelligence (or simply A.I.) is a 2001 American science fiction drama film directed by Steven Spielberg. The screenplay by Spielberg and screen story by Ian Watson are loosely based on the 1969 short story \"Supertoys Last All Summer Long\" by Brian Aldiss. Set in a futuristic society, the film stars Haley Joel Osment as David, a childlike android uniquely programmed with the ability to love. Jude Law, Frances O'Connor, Brendan Gleeson and William Hurt star in supporting roles.\n",
      "Development of A.I. originally began after producer and director Stanley Kubrick acquired the rights to Aldiss's story in the early 1970s. Kubrick hired a series of writers, including Aldiss, Bob Shaw, Ian Watson and Sara Maitland, until the mid-1990s. The film languished in development hell for years, partly because Kubrick felt that computer-generated imagery was not advanced enough to create the David character, which he believed no child actor would convincingly portray. In 1995, Kubrick handed A.I. to Spielberg, but the film did not gain momentum until Kubrick died in 1999. Spielberg remained close to Watson's treatment for the screenplay and dedicated the film to Kubrick.\n",
      "A.I. Artificial Intelligence was released on June 29, 2001, by Warner Bros. Pictures in North America. It received generally positive reviews from critics and grossed $235.9 million against a budget of $90–100 million. It was also nominated for Best Visual Effects and Best Original Score (for John Williams) at the 74th Academy Awards. In a 2016 BBC poll of 177 critics around the world, A.I. Artificial Intelligence was voted the eighty-third greatest film since 2000. It has since been called one of Spielberg's best works and one of the greatest films of the 21st century, and of all time.\n",
      "\n",
      "\n",
      "== Plot ==\n",
      "In the 22nd century, rising sea levels from global warming have wiped out coastal cities and altered the world's climate. With the human population in decline, advanced nations have created humanoid robots called mechas to fulfill various roles in society.\n",
      "In Madison, New Jersey, David, an 11-year-old prototype mecha child capable of experiencing love, is given to Henry Swinton and his wife Monica, whose son Martin is in suspended animation after contracting a rare disease. Initially uncomfortable with David, Monica eventually warms to him and activates his imprinting protocol. Wanting her to love him in return, he befriends Teddy, Martin's old robotic teddy bear.\n",
      "After Martin is unexpectedly cured of his disease and brought home, he jealously goads David into cutting off a piece of Monica's hair. That night, David enters his adoptive parents' room, but as Monica turns over, the scissors accidentally poke her in the eye. While Henry attends to her wounds, Teddy picks up the lock of hair from the floor and places it in his pocket. During a pool party, one of Martin's friends pokes David with a knife, triggering his self-protection programming. David grabs Martin, causing both of them to fall into the pool. While Martin is rescued, David is accused of endangering others.\n",
      "Frightful of David's reactions and fearing for his family's safety, Henry convinces Monica to return David to his creators for destruction. En route, she instead spares David by abandoning him in the woods full of scrap metal and obsolete mechas; telling him to avoid people and find solace with his own kind. Now accompanied solely by Teddy, David recalls The Adventures of Pinocchio and decides to find the Blue Fairy to become human, which he believes will regain Monica's love.\n",
      "David and Teddy are captured by the \"Flesh Fair\", a traveling circus-like event at which obsolete mechas are destroyed in front of jeering crowds. About to be destroyed himself, David pleads for his life, and the audience revolts; allowing David to escape with Gigolo Joe, a prostitute mecha on the run after being framed for murder. David, Teddy and Joe go to the decadent resort town of Rouge City, where \"Dr. Know\", a holographic ans\n",
      "source=https://en.wikipedia.org/wiki/Applications_of_artificial_intelligence \n",
      " content=Artificial intelligence is the capability of computational systems to perform tasks typically associated with human intelligence, such as learning, reasoning, problem-solving, perception, and decision-making. Artificial intelligence (AI) has been used in applications throughout industry and academia. Within the field of Artificial Intelligence, there are multiple subfields. The subfield of Machine learning has been used for various scientific and commercial purposes including language translation, image recognition, decision-making, credit scoring, and e-commerce. In recent years, there have been massive advancements in the field of Generative Artificial Intelligence, which uses generative models to produce text, images, videos or other forms of data. This article describes applications of AI in different sectors. \n",
      "\n",
      "\n",
      "== Agriculture ==\n",
      "\n",
      "In agriculture, AI has been proposed as a way for farmers to identify areas that need irrigation, fertilization, or pesticide treatments to increase yields, thereby improving efficiency. AI has been used to attempt to classify livestock pig call emotions, automate greenhouses, detect diseases and pests, and optimize irrigation.\n",
      "\n",
      "\n",
      "== Architecture and design ==\n",
      "\n",
      "\n",
      "== Business ==\n",
      "\n",
      "A 2023 study found that generative AI increased productivity by 15% in contact centers. Another 2023 study found it increased productivity by up to 40% in writing tasks. An August 2025 review by MIT found that of surveyed companies, 95% did not report any improvement in revenue from the use of AI. A September 2025 article by the Harvard Business Review describes how increased use of AI does not automatically lead to increases in revenue or actual productivity. Referring to \"AI generated work content that masquerades as good work, but lacks the substance to meaningfully advance a given task\" the article coins the term workslop. Per studies done in collaboration with the Stanford Social Media Lab, workslop does not improve productivity and undermines trust and collaboration among colleagues.\n",
      "\n",
      "\n",
      "== Computer science ==\n",
      "\n",
      "\n",
      "=== Programming assistance ===\n",
      "\n",
      "\n",
      "==== AI-powered code assisting tools ====\n",
      "AI can be used for real-time code completion, chat, and automated test generation. These tools are typically integrated with editors and IDEs as plugins. They differ in functionality, quality, speed, and approach to privacy. Code suggestions could be incorrect, and should be carefully reviewed by software developers before accepted. GitHub Copilot is one example. It was developed by GitHub and OpenAI and is able to autocomplete code in multiple programming languages. \n",
      "\n",
      "\n",
      "==== Neural network design ====\n",
      "\n",
      "AI can be used to create other AIs. For example, around November 2017, Google's AutoML project to evolve new neural net topologies created NASNet, a system optimized for ImageNet and POCO F1. NASNet's performance exceeded all previously published performance on ImageNet.\n",
      "\n",
      "\n",
      "==== Quantum computing ====\n",
      "\n",
      "Machine learning has been used for noise-cancelling in quantum technology, including quantum sensors. Moreover, there is substantial research and development of using quantum computers with machine learning algorithms. For example, there is a prototype, photonic, quantum memristive device for neuromorphic (quantum-)computers (NC)/artificial neural networks and NC-using quantum materials with some variety of potential neuromorphic computing-related applications, and quantum machine learning is a field with some variety of applications under development. AI could be used for quantum simulators which may have the application of solving physics and chemistry problems as well as for quantum annealers for training of neural networks for AI applications. There may also be some usefulness in chemistry, e.g. for drug discovery, and in materials science, e.g. for materials optimization/discovery (with possible relevance to quantum materials manufacturing).\n",
      "\n",
      "\n",
      "=== Historical contributions ===\n",
      "AI researchers have created many tools to solve the most diffi\n",
      "source=https://en.wikipedia.org/wiki/Existential_risk_from_artificial_intelligence \n",
      " content=Existential risk from artificial intelligence, or AI x-risk, refers to the idea that substantial progress in artificial general intelligence (AGI) could lead to human extinction or an irreversible global catastrophe.\n",
      "\n",
      "One argument for the importance of this risk references how human beings dominate other species because the human brain possesses distinctive capabilities other animals lack. If AI were to surpass human intelligence and become superintelligent, it might become uncontrollable. Just as the fate of the mountain gorilla depends on human goodwill, the fate of humanity could depend on the actions of a future machine superintelligence.\n",
      "Experts disagree on whether artificial general intelligence (AGI) can achieve the capabilities needed for human extinction. Debates center on AGI's technical feasibility, the speed of self-improvement, and the effectiveness of alignment strategies. Concerns about superintelligence have been voiced by researchers including Geoffrey Hinton, Yoshua Bengio, Demis Hassabis, and Alan Turing, and AI company CEOs such as Dario Amodei (Anthropic), Sam Altman (OpenAI), and Elon Musk (xAI). In 2022, a survey of AI researchers with a 17% response rate found that the majority believed there is a 10 percent or greater chance that human inability to control AI will cause an existential catastrophe. In 2023, hundreds of AI experts and other notable figures signed a statement declaring, \"Mitigating the risk of extinction from AI should be a global priority alongside other societal-scale risks such as pandemics and nuclear war\". Following increased concern over AI risks, government leaders such as United Kingdom prime minister Rishi Sunak and United Nations Secretary-General António Guterres called for an increased focus on global AI regulation.\n",
      "Two sources of concern stem from the problems of AI control and alignment. Controlling a superintelligent machine or instilling it with human-compatible values may be difficult. Many researchers believe that a superintelligent machine would likely resist attempts to disable it or change its goals as that would prevent it from accomplishing its present goals. It would be extremely challenging to align a superintelligence with the full breadth of significant human values and constraints. In contrast, skeptics such as computer scientist Yann LeCun argue that superintelligent machines will have no desire for self-preservation. A June 2025 study showed that in some circumstances, models may break laws and disobey direct commands to prevent shutdown or replacement, even at the cost of human lives.\n",
      "Researchers warn that an \"intelligence explosion\"—a rapid, recursive cycle of AI self-improvement—could outpace human oversight and infrastructure, leaving no opportunity to implement safety measures. In this scenario, an AI more intelligent than its creators would recursively improve itself at an exponentially increasing rate, too quickly for its handlers or society at large to control. Empirically, examples like AlphaZero, which taught itself to play Go and quickly surpassed human ability, show that domain-specific AI systems can sometimes progress from subhuman to superhuman ability very quickly, although such machine learning systems do not recursively improve their fundamental architecture.\n",
      "\n",
      "\n",
      "== History ==\n",
      "One of the earliest authors to express serious concern that highly advanced machines might pose existential risks to humanity was the novelist Samuel Butler, who wrote in his 1863 essay Darwin among the Machines:\n",
      "\n",
      "The upshot is simply a question of time, but that the time will come when the machines will hold the real supremacy over the world and its inhabitants is what no person of a truly philosophic mind can for a moment question.\n",
      "In 1951, foundational computer scientist Alan Turing wrote the article \"Intelligent Machinery, A Heretical Theory\", in which he proposed that artificial general intelligences would likely \"take control\" of the world as they became more intel\n",
      "source=https://en.wikipedia.org/wiki/Association_for_the_Advancement_of_Artificial_Intelligence \n",
      " content=The Association for the Advancement of Artificial Intelligence (AAAI) is an international scientific society devoted to promote research in, and responsible use of, artificial intelligence (AI). AAAI also aims to increase public understanding of AI, improve the teaching and training of AI practitioners, and provide guidance for research planners and funders concerning the importance and potential of current AI developments and future directions.\n",
      "\n",
      "\n",
      "== History ==\n",
      "The organization was founded in 1979 under the name \"American Association for Artificial Intelligence\" and changed its name in 2007 to \"Association for the Advancement of Artificial Intelligence\". It has in excess of 4,000 members worldwide. In its early history, the organization was presided over by notable figures in computer science such as Allen Newell, Edward Feigenbaum, Marvin Minsky and John McCarthy.  Since July 2022, Francesca Rossi has been serving as president. She will serve as president until July 2024 when president-elect Stephen Smith will begin his term.\n",
      "\n",
      "\n",
      "== Conferences and publications ==\n",
      "The AAAI provides many services to the Artificial Intelligence community.  The AAAI sponsors many conferences and symposia each year as well as providing support to 14 journals in the field of artificial intelligence.  AAAI produces a quarterly publication, AI Magazine, which seeks to publish significant new research and literature across the entire field of artificial intelligence and to help members to keep abreast of research outside their immediate specialties. The magazine has been published continuously since 1980.\n",
      "AAAI organises the \"AAAI Conference on Artificial Intelligence\", which is considered to be one of the top conferences in the field of artificial intelligence.\n",
      "\n",
      "\n",
      "== Awards ==\n",
      "In addition to AAAI Fellowship, the AAAI grants several other awards:\n",
      "\n",
      "\n",
      "=== ACM-AAAI Allen Newell Award ===\n",
      "The ACM-AAAI Allen Newell Award is presented to an individual selected for career contributions that have breadth within computer science, or that bridge computer science and other disciplines. This endowed award is accompanied by a prize of $10,000, and is supported by the Association for the Advancement of Artificial Intelligence (AAAI), Association for Computing Machinery (ACM), and by individual contributions.\n",
      "Past recipients:\n",
      "\n",
      "Fred Brooks (1994)\n",
      "Joshua Lederberg (1995)\n",
      "Carver Mead (1997)\n",
      "Saul Amarel (1998)\n",
      "Nancy Leveson (1999)\n",
      "Lotfi A. Zadeh (2000)\n",
      "Ruzena Bajcsy (2001)\n",
      "Peter Chen (2002)\n",
      "David Haussler and Judea Pearl (2003)\n",
      "Richard P. Gabriel (2004)\n",
      "Jack Minker (2005)\n",
      "Karen Spärck Jones (2006)\n",
      "Leonidas Guibas (2007)\n",
      "Barbara J. Grosz and Joseph Halpern (2008)\n",
      "Michael I. Jordan (2009)\n",
      "Takeo Kanade (2010)\n",
      "Stephanie Forrest (2011)\n",
      "Moshe Tennenholtz and Yoav Shoham (2012)\n",
      "Jon Kleinberg (2014)\n",
      "Eric Horvitz (2015)\n",
      "Jitendra Malik (2016)\n",
      "Margaret A. Boden (2017)\n",
      "Henry Kautz (2018)\n",
      "Lydia Kavraki and Daphne Koller (2019)\n",
      "Moshe Y. Vardi and Hector J. Levesque (2020)\n",
      "Carla Gomes (2021)\n",
      "Stuart Russell and Bernhard Schölkopf (2022)\n",
      "David Blei (2023)\n",
      "Peter Stone (2024)\n",
      "\n",
      "\n",
      "=== AAAI/EAAI Outstanding Educator Award ===\n",
      "The annual AAAI/EAAI Outstanding Educator Award was created in 2016 to honor a person (or group of people) who has made major contributions to AI education that provide long-lasting benefits to the AI community.\n",
      "Past recipients:\n",
      "\n",
      "Peter Norvig and Stuart Russell (2016)\n",
      "Sebastian Thrun (2017)\n",
      "Todd W. Neller (2018)\n",
      "Ashok Goel (2019)\n",
      "Marie desJardins (2020)\n",
      "Michael Wooldridge (2021)\n",
      "AI4K12.org team: David S. Touretzky, Christina Gardner-McCune, Fred G. Martin, and Deborah Seehorn (2022)\n",
      "Ayanna Howard (2023)\n",
      "Michael Littman and Charles Isbell (2024)\n",
      "Subbarao Kambhampati (2025)\n",
      "\n",
      "\n",
      "=== AAAI Squirrel AI Award for Artificial Intelligence for the Benefit of Humanity ===\n",
      "\n",
      "The AAAI Squirrel AI Award for Artificial Intelligence for the Benefit of Humanity is a $1 million award that recognizes the positive impacts of AI to meaningfully improve, protect, and enhance human life.\n",
      "\n",
      "\n",
      "== Members\n",
      "source=https://en.wikipedia.org/wiki/Artificial_intelligence_marketing \n",
      " content=Artificial intelligence marketing is a form of marketing that uses artificial intelligence concepts and models such as machine learning, natural language processing, and computer vision to achieve marketing goals. The main difference between artificial intelligence marketing and traditional forms of marketing resides in the reasoning, which is performed through a computer algorithm rather than a human.\n",
      "Each form of marketing has a different technique to the core of the marketing theory. Traditional marketing directly focuses on the needs of consumers; meanwhile some believe the shift AI may cause, will lead marketing agencies to manage consumer needs instead.\n",
      "Artificial Intelligence is used in various digital marketing spaces, such as content marketing, email marketing, online advertisement (in combination with machine learning), social media marketing, affiliate marketing, and beyond.\n",
      "The Potential of Artificial Intelligence is constantly being explored in digital marketing. In real time AI has been used by Marketing professionals because they claim it helps them prioritize customer satisfaction. Marketing Professionals can analyze the performance  of rival companies as well as their campaigns, which can reveal the wants and needs of their customers.\n",
      "\n",
      "\n",
      "== Historical development ==\n",
      "Artificial intelligence has been having an impact on marketing for years, and will continuously grow. The impact of AI has become more clear, and noticeable during 2017. More people have become more aware of AI's presence. However, AI has a long history, which goes all the way back to the 1980s. The study of AI started with studies relating to robotics, and systems. Despite the initial research, and the studies that were carried out, AI wasn't exactly becoming widespread. Research on it came to a stop for a while, until research was revived 2 decades later. Different factors such as the advancement in technology, rise of Big Data, and the significant increase in computational power, all opened the door. Eventually Ai became very popular in the marketing world, and caught the eyes of many researchers as well as professionals. A large‐scale bibliometric study covering 1,580 peer‑reviewed papers published between 1982 and 2020 confirms that scholarly output on AI in marketing has surged since 2017, with Expert Systems with Applications emerging as the most prolific outlet.\n",
      "Prior to the application of artificial Intelligence in marketing, there was something called \"collaborative filtering\". This was used as early as 1998 by Amazon, and one of the first ways companies predicted consumer behavior, which enabled millions of recommendations to different customers. today, when you open Spotify and you see recommended music, or recommended tv shows on Netflix, this is done through AI clustering our behaviors. Based on the data our profile provides, they can make these recommendations. A big milestone in AI marketing happened in 2014, when programmatic ad buying gained much greater popularity. Marketing consists of numerous manual tasks such as researching target markets, insertion orders, and managing high budgets as well as prices. In order to cut costs, and remove the need for these tedious tasks, many companies started to automate the marketing process with AI. In 2015, Google released its most recent algorithm known as RankBrain, which opened new ways to analyzing search inquiries. It's used to accurately determine the reasoning and intent behind users searches.\n",
      "Artificial intelligence is increasingly used in marketing to personalize user experiences and automate decision-making. For example, Netflix uses AI algorithms to recommend content based on viewing history, while Sephora employs chatbots to assist customers with product selection and availability. Programmatic advertising platforms like Google Ads leverage machine learning to optimize bidding strategies and target audiences more effectively. These applications demonstrate how AI enhances efficien\n",
      "source=https://en.wikipedia.org/wiki/Glossary_of_artificial_intelligence \n",
      " content=This glossary of artificial intelligence is a list of definitions of terms and concepts relevant to the study of artificial intelligence (AI), its subdisciplines, and related fields. Related glossaries include Glossary of computer science, Glossary of robotics, Glossary of machine vision, and Glossary of logic.\n",
      "\n",
      "\n",
      "== A ==\n",
      "\n",
      "A* search\n",
      "Pronounced \"A-star\".\n",
      "A graph traversal and pathfinding algorithm which is used in many fields of computer science due to its completeness, optimality, and optimal efficiency.\n",
      "\n",
      "abductive logic programming (ALP)\n",
      "A high-level knowledge-representation framework that can be used to solve problems declaratively based on abductive reasoning. It extends normal logic programming by allowing some predicates to be incompletely defined, declared as abducible predicates.\n",
      "\n",
      "abductive reasoning\n",
      "Also abduction.\n",
      "A form of logical inference which starts with an observation or set of observations then seeks to find the simplest and most likely explanation. This process, unlike deductive reasoning, yields a plausible conclusion but does not positively verify it. abductive inference, or retroduction\n",
      "\n",
      "ablation\n",
      "The removal of a component of an AI system. An ablation study aims to determine the contribution of a component to an AI system by removing the component, and then analyzing the resultant performance of the system.\n",
      "\n",
      "abstract data type\n",
      "A mathematical model for data types, where a data type is defined by its behavior (semantics) from the point of view of a user of the data, specifically in terms of possible values, possible operations on data of this type, and the behavior of these operations.\n",
      "\n",
      "abstraction\n",
      "The process of removing physical, spatial, or temporal details or attributes in the study of objects or systems in order to more closely attend to other details of interest\n",
      "\n",
      "accelerating change\n",
      "A perceived increase in the rate of technological change throughout history, which may suggest faster and more profound change in the future and may or may not be accompanied by equally profound social and cultural change.\n",
      "\n",
      "action language\n",
      "A language for specifying state transition systems, and is commonly used to create formal models of the effects of actions on the world. Action languages are commonly used in the artificial intelligence and robotics domains, where they describe how actions affect the states of systems over time, and may be used for automated planning.\n",
      "\n",
      "action model learning\n",
      "An area of machine learning concerned with creation and modification of software agent's knowledge about effects and preconditions of the actions that can be executed within its environment. This knowledge is usually represented in logic-based action description language and used as the input for automated planners.\n",
      "\n",
      "action selection\n",
      "A way of characterizing the most basic problem of intelligent systems: what to do next. In artificial intelligence and computational cognitive science, \"the action selection problem\" is typically associated with intelligent agents and animats—artificial systems that exhibit complex behaviour in an agent environment.\n",
      "\n",
      "activation function\n",
      "In artificial neural networks, the activation function of a node defines the output of that node given an input or set of inputs.\n",
      "\n",
      "adaptive algorithm\n",
      "An algorithm that changes its behavior at the time it is run, based on a priori defined reward mechanism or criterion.\n",
      "\n",
      "adaptive neuro fuzzy inference system (ANFIS)\n",
      "Also adaptive network-based fuzzy inference system.\n",
      "A kind of artificial neural network that is based on Takagi–Sugeno fuzzy inference system. The technique was developed in the early 1990s. Since it integrates both neural networks and fuzzy logic principles, it has potential to capture the benefits of both in a single framework. Its inference system corresponds to a set of fuzzy IF–THEN rules that have learning capability to approximate nonlinear functions. Hence, ANFIS is considered to be a universal estimator. For using the ANFIS in a more efficient and optimal w\n",
      "source=https://en.wikipedia.org/wiki/Artificial_Intelligence_Act \n",
      " content=The Artificial Intelligence Act (AI Act) is a European Union regulation concerning artificial intelligence (AI). It establishes a common regulatory and legal framework for AI within the European Union (EU). It came into force on 1 August 2024, with provisions that shall come into operation gradually over the following 6 to 36 months.\n",
      "It covers all types of AI across a broad range of sectors, with exceptions for AI systems used solely for military, national security, research and non-professional purposes. As a piece of product regulation, it does not confer rights on individuals, but regulates the providers of AI systems and entities using AI in a professional context.\n",
      "The Act classifies non-exempt AI applications by their risk of causing harm. There are four levels – unacceptable, high, limited, minimal – plus an additional category for general-purpose AI. \n",
      "\n",
      "Applications with unacceptable risks are banned.\n",
      "High-risk applications must comply with security, transparency and quality obligations, and undergo conformity assessments.\n",
      "Limited-risk applications only have transparency obligations.\n",
      "Minimal-risk applications are not regulated.\n",
      "For general-purpose AI, transparency requirements are imposed, with reduced requirements for open source models, and additional evaluations for high-capability models.\n",
      "The Act also creates a European Artificial Intelligence Board to promote national cooperation and ensure compliance with the regulation. Like the EU's General Data Protection Regulation, the Act can apply extraterritorially to providers from outside the EU if they have users within the EU.\n",
      "Proposed by the European Commission on 21 April 2021, it passed the European Parliament on 13 March 2024, and was unanimously approved by the EU Council on 21 May 2024. The draft Act was revised to address the rise in popularity of generative artificial intelligence systems, such as ChatGPT, whose general-purpose capabilities did not fit the main framework.\n",
      "\n",
      "\n",
      "== Provisions ==\n",
      "\n",
      "\n",
      "=== Risk categories ===\n",
      "There are different risk categories depending on the type of application, with a specific category dedicated to general-purpose generative AI:\n",
      "\n",
      "Unacceptable risk – AI applications in this category are banned, except for specific exemptions. When no exemption applies, this includes AI applications that manipulate human behaviour, those that use real-time remote biometric identification (such as facial recognition) in public spaces, and those used for social scoring (ranking individuals based on their personal characteristics, socio-economic status, or behaviour).\n",
      "High-risk – AI applications that are expected to pose significant threats to health, safety, or the fundamental rights of persons. Notably, AI systems used in health, education, recruitment, critical infrastructure management, law enforcement or justice. They are subject to quality, transparency, human oversight and safety obligations, and in some cases require a \"Fundamental Rights Impact Assessment\" before deployment. They must be evaluated both before they are placed on the market and throughout their life cycle. The list of high-risk applications can be expanded over time, without the need to modify the AI Act itself.\n",
      "General-purpose AI – Added in 2023, this category includes in particular foundation models like ChatGPT. Unless the weights and model architecture are released under free and open source licence, in which case only a training data summary and a copyright compliance policy are required, they are subject to transparency requirements. High-impact general-purpose AI systems including free and open source ones which could pose systemic risks (notably those trained using a computational capability exceeding 1025 floating-point operations) must also undergo a thorough evaluation process.\n",
      "Limited risk – AI systems in this category have transparency obligations, ensuring users are informed that they are interacting with an AI system and allowing them to make informed choices. This ca\n",
      "source=https://en.wikipedia.org/wiki/Ethics_of_artificial_intelligence \n",
      " content=The ethics of artificial intelligence covers a broad range of topics within AI that are considered to have particular ethical stakes. This includes algorithmic biases, fairness, automated decision-making, accountability, privacy, and regulation. It also covers various emerging or potential future challenges such as machine ethics (how to make machines that behave ethically), lethal autonomous weapon systems, arms race dynamics, AI safety and alignment, technological unemployment, AI-enabled misinformation, how to treat certain AI systems if they have a moral status (AI welfare and rights), artificial superintelligence and existential risks.\n",
      "Some application areas may also have particularly important ethical implications, like healthcare, education, criminal justice, or the military.\n",
      "\n",
      "\n",
      "== Machine ethics ==\n",
      "\n",
      "Machine ethics (or machine morality) is the field of research concerned with designing Artificial Moral Agents (AMAs), robots or artificially intelligent computers that behave morally or as though moral. To account for the nature of these agents, it has been suggested to consider certain philosophical ideas, like the standard characterizations of agency, rational agency, moral agency, and artificial agency, which are related to the concept of AMAs.\n",
      "There are discussions on creating tests to see if an AI is capable of making ethical decisions. Alan Winfield concludes that the Turing test is flawed and the requirement for an AI to pass the test is too low. A proposed alternative test is one called the Ethical Turing Test, which would improve on the current test by having multiple judges decide if the AI's decision is ethical or unethical. Neuromorphic AI could be one way to create morally capable robots, as it aims to process information similarly to humans, nonlinearly and with millions of interconnected artificial neurons. Similarly, whole-brain emulation (scanning a brain and simulating it on digital hardware) could also in principle lead to human-like robots, thus capable of moral actions. And large language models are capable of approximating human moral judgments. Inevitably, this raises the question of the environment in which such robots would learn about the world and whose morality they would inherit – or if they end up developing human 'weaknesses' as well: selfishness, pro-survival attitudes, inconsistency, scale insensitivity, etc.\n",
      "In Moral Machines: Teaching Robots Right from Wrong, Wendell Wallach and Colin Allen conclude that attempts to teach robots right from wrong will likely advance understanding of human ethics by motivating humans to address gaps in modern normative theory and by providing a platform for experimental investigation. As one example, it has introduced normative ethicists to the controversial issue of which specific learning algorithms to use in machines. For simple decisions, Nick Bostrom and Eliezer Yudkowsky have argued that decision trees (such as ID3) are more transparent than neural networks and genetic algorithms, while Chris Santos-Lang argued in favor of machine learning on the grounds that the norms of any age must be allowed to change and that natural failure to fully satisfy these particular norms has been essential in making humans less vulnerable to criminal \"hackers\".\n",
      "\n",
      "\n",
      "=== Robot ethics ===\n",
      "\n",
      "The term \"robot ethics\" (sometimes \"roboethics\") refers to the morality of how humans design, construct, use and treat robots. Robot ethics intersect with the ethics of AI. Robots are physical machines whereas AI can also be entirely software. Not all robots function through AI systems and not all AI systems are robots. Robot ethics considers how machines may be used to harm or benefit humans, their impact on individual autonomy, and their effects on social justice.\n",
      "\n",
      "\n",
      "=== Robot rights or AI rights ===\n",
      "\n",
      "\"Robot rights\" is the concept that people should have moral obligations towards their machines, akin to human rights or animal rights. It has been suggested that robot rights (such as a right\n",
      "source=https://en.wikipedia.org/wiki/Artificial_intelligence_in_video_games \n",
      " content=Artificial intelligence (AI) in video games refers to the computational systems that control non-player characters (NPCs), generate dynamic game behavior, or simulate strategic decision-making. In practice, the term covers a broad range of techniques drawn from computer science, control theory, and robotics rather than “true” artificial intelligence. Moroever, academic AI—aimed at developing autonomous reasoning or learning— is distinct from game AI, whose goal is to deliver engaging, believable, and efficient behavior for players. \n",
      "In general, game AI does not, as might be thought and sometimes is depicted to be the case, mean a realization of an artificial person corresponding to an NPC in the manner of the Turing test or an artificial general intelligence.\n",
      "\n",
      "\n",
      "== Overview ==\n",
      "The term game AI is used to refer to a broad set of algorithms that also include techniques from control theory, robotics, computer graphics and computer science in general, and so video game AI may often not constitute \"true AI\" in that such techniques do not necessarily facilitate computer learning or other standard criteria, only constituting \"automated computation\" or a predetermined and limited set of responses to a predetermined and limited set of inputs.\n",
      "Some commentators in the video game industry have claimed that advances in game AI have transformed how players interact with digital systems more broadly. However, such claims remain disputed. Marketing discussions sometimes attribute human-like traits to game AI—such as personality or creative autonomy—but these are often scripted behaviors designed to mimic complexity rather than emergent cognition. \n",
      "\n",
      "\n",
      "== History ==\n",
      "Game playing was an area of research in AI from its inception. One of the first examples of AI is the computerized game of Nim made in 1951 and published in 1952. Despite being advanced technology in the year it was made, 20 years before Pong, the game took the form of a relatively small box and was able to regularly win games even against highly skilled players of the game. In 1951, using the Ferranti Mark 1 machine of the University of Manchester, Christopher Strachey wrote a checkers program and Dietrich Prinz wrote one for chess. These were among the first computer programs ever written. Arthur Samuel's checkers program, developed in the middle 1950s and early 1960s, eventually achieved sufficient skill to challenge a respectable amateur. Work on checkers and chess would culminate in the defeat of Garry Kasparov by IBM's Deep Blue computer in 1997. The first video games developed in the 1960s and early 1970s, like Spacewar!, Pong, and Gotcha (1973), were games implemented on discrete logic and strictly based on the competition of two players, without AI.\n",
      "Games that featured a single player mode with enemies started appearing in the 1970s.  The first notable ones for the arcade appeared in 1974: the Taito game Speed Race (racing video game) and the Atari games Qwak (duck hunting light gun shooter) and Pursuit (fighter aircraft dogfighting simulator).  Two text-based computer games, Star Trek (1971) and Hunt the Wumpus (1973), also had enemies.  Enemy movement was based on stored patterns. The incorporation of microprocessors would allow more computation and random elements overlaid into movement patterns.\n",
      "\n",
      "It was during the golden age of video arcade games that the idea of AI opponents was largely popularized, due to the success of Space Invaders (1978), which sported an increasing difficulty level, distinct movement patterns, and in-game events dependent on hash functions based on the player's input. Galaxian (1979) added more complex and varied enemy movements, including maneuvers by individual enemies who break out of formation. Pac-Man (1980) introduced AI patterns to maze games, with the added quirk of different personalities for each enemy. Karate Champ (1984) later introduced AI patterns to fighting games. First Queen (1988) was a tactical action RPG which featured characte\n",
      "source=https://en.wikipedia.org/wiki/Timeline_of_artificial_intelligence \n",
      " content=This is a timeline of artificial intelligence, sometimes alternatively called synthetic intelligence.\n",
      "\n",
      "\n",
      "== Antiquity, Classical and Medieval eras ==\n",
      "\n",
      "\n",
      "== 1600–1900 ==\n",
      "\n",
      "\n",
      "== 20th century ==\n",
      "\n",
      "\n",
      "=== 1901–1950 ===\n",
      "\n",
      "\n",
      "=== 1950s ===\n",
      "\n",
      "\n",
      "=== 1960s ===\n",
      "\n",
      "\n",
      "=== 1970s ===\n",
      "\n",
      "\n",
      "=== 1980s ===\n",
      "\n",
      "\n",
      "=== 1990s ===\n",
      "\n",
      "\n",
      "== 21st century ==\n",
      "\n",
      "\n",
      "=== 2000s ===\n",
      "\n",
      "\n",
      "=== 2010s ===\n",
      "\n",
      "\n",
      "=== 2020s ===\n",
      "\n",
      "\n",
      "== See also ==\n",
      "Timeline of machine translation\n",
      "Timeline of machine learning\n",
      "\n",
      "\n",
      "== Notes ==\n",
      "\n",
      "\n",
      "== References ==\n",
      "\n",
      "\n",
      "== Sources ==\n",
      "Buchanan, Bruce G. (2005), \"A (Very) Brief History of Artificial Intelligence\" (PDF), AI Magazine, pp. 53–60, archived from the original (PDF) on 26 September 2007, retrieved 30 August 2007\n",
      "Christian, Brian (2020). The Alignment Problem: Machine learning and human values. W. W. Norton & Company. ISBN 978-0-393-86833-3. OCLC 1233266753.\n",
      "Crevier, Daniel (1993). AI: The Tumultuous Search for Artificial Intelligence. New York, NY: BasicBooks. ISBN 0-465-02997-3.\n",
      "Linsky, Bernard; Irvine, Andrew David (Spring 2022). Edward N. Zalta (ed.). \"Principia Mathematica\". The Stanford Encyclopedia of Philosophy.\n",
      "McCorduck, Pamela (2004), Machines Who Think (2nd ed.), Natick, MA: A. K. Peters, Ltd., ISBN 978-1-56881-205-2\n",
      "Needham, Joseph (1986). Science and Civilization in China: Volume 2. Taipei: Caves Books Ltd.\n",
      "Russell, Stuart J.; Norvig, Peter. (2021). Artificial Intelligence: A Modern Approach (4th ed.). Hoboken: Pearson. ISBN 978-0134610993. LCCN 20190474.\n",
      "Samuel, Arthur L. (July 1959), \"Some studies in machine learning using the game of checkers\", IBM Journal of Research and Development, 3 (3): 210–219, CiteSeerX 10.1.1.368.2254, doi:10.1147/rd.33.0210, S2CID 2126705, archived from the original on 3 March 2016, retrieved 20 August 2007\n",
      "Schmidhuber, Jürgen (2022). \"Annotated History of Modern AI and Deep Learning\".\n",
      "Wong, Matteo (19 May 2023), \"ChatGPT Is Already Obsolete\", The Atlantic\n",
      "\n",
      "\n",
      "== Further reading ==\n",
      "Berlinski, David (2000), The Advent of the Algorithm, Harcourt Books\n",
      "Brooks, Rodney (1990), \"Elephants Don't Play Chess\" (PDF), Robotics and Autonomous Systems, 6 (1–2): 3–15, CiteSeerX 10.1.1.588.7539, doi:10.1016/S0921-8890(05)80025-9, retrieved 30 August 2007\n",
      "Darrach, Brad (20 November 1970), \"Meet Shakey, the First Electronic Person\", Life Magazine, pp. 58–68\n",
      "Doyle, J. (1983), \"What is rational psychology? Toward a modern mental philosophy\", AI Magazine, vol. 4, no. 3, pp. 50–53\n",
      "Dreyfus, Hubert (1972), What Computers Can't Do, MIT Press\n",
      "Feigenbaum, Edward A.; McCorduck, Pamela (1983), The Fifth Generation: Artificial Intelligence and Japan's Computer Challenge to the World, Michael Joseph, ISBN 978-0-7181-2401-4\n",
      "Feigenbaum, Edward; Feldman, Julian, eds. (1963), Computers and thought (1 ed.), New York: McGraw-Hill, OCLC 593742426\n",
      "Hobbes (1651), Leviathan\n",
      "Hofstadter, Douglas (1980), Gödel, Escher, Bach: an Eternal Golden Braid\n",
      "Howe, J. (November 1994), Artificial Intelligence at Edinburgh University: a Perspective, retrieved 30 August 2007\n",
      "Kaplan, Andreas; Haenlein, Michael (2018), \"Siri, Siri in my Hand, who's the Fairest in the Land? On the Interpretations, Illustrations and Implications of Artificial Intelligence\", Business Horizons, 62: 15–25, doi:10.1016/j.bushor.2018.08.004, S2CID 158433736\n",
      "Kurzweil, Ray (2005), The Singularity is Near, Viking Press\n",
      "Lakoff, George (1987), Women, Fire, and Dangerous Things: What Categories Reveal About the Mind, University of Chicago Press., ISBN 978-0-226-46804-4\n",
      "Lenat, Douglas; Guha, R. V. (1989), Building Large Knowledge-Based Systems, Addison-Wesley\n",
      "Levitt, Gerald M. (2000), The Turk, Chess Automaton, Jefferson, N.C.: McFarland, ISBN 978-0-7864-0778-1\n",
      "Lighthill, Professor Sir James (1973), \"Artificial Intelligence: A General Survey\", Artificial Intelligence: a paper symposium, Science Research Council\n",
      "Lucas, John (1961), Minds, Machines and Gödel, archived from the original on 19 August 2007, retrieved 24 July 2007\n",
      "McCarthy, John; Minsky, Marvin; Rochester, Nathan; Shannon, Claude (1955), A Proposal for the Dartm\n",
      "source=https://en.wikipedia.org/wiki/Artificial_intelligence_in_healthcare \n",
      " content=Artificial intelligence in healthcare is the application of artificial intelligence (AI) to analyze and understand complex medical and healthcare data. In some cases, it can exceed or augment human capabilities by providing better or faster ways to diagnose, treat, or prevent disease.\n",
      "As the widespread use of artificial intelligence in healthcare is still relatively new, research is ongoing into its applications across various medical subdisciplines and related industries. AI programs are being applied to practices such as diagnostics, treatment protocol development, drug development, personalized medicine, and patient monitoring and care. Since radiographs are the most commonly performed imaging tests in radiology, the potential for AI to assist with triage and interpretation of radiographs is particularly significant.\n",
      "Using AI in healthcare presents unprecedented ethical concerns related to issues such as data privacy, automation of jobs, and amplifying already existing algorithmic bias. New technologies such as AI are often met with resistance by healthcare leaders, leading to slow and erratic adoption. There have been cases where AI has been put to use in healthcare without proper testing. A systematic review and thematic analysis in 2023 showed that most stakeholders including health professionals, patients, and the general public doubted that care involving AI could be empathetic. Meta-studies have found that the scientific literature on AI in healthcare often suffers from a lack of reproducibility.\n",
      "\n",
      "\n",
      "== Applications in healthcare systems ==\n",
      "\n",
      "\n",
      "=== Disease diagnosis ===\n",
      "Accurate and early diagnosis of diseases is still a challenge in healthcare. Recognizing medical conditions and their symptoms is a complex problem. AI can assist clinicians with its data processing capabilities to save time and improve accuracy. Through the use of machine learning, artificial intelligence can be able to substantially aid doctors in patient diagnosis through the analysis of mass electronic health records (EHRs). AI can help early prediction, for example, of Alzheimer's disease and dementias, by looking through large numbers of similar cases and possible treatments.\n",
      "Doctors' decision making could also be supported by AI in urgent situations, for example in the emergency department. Here AI algorithms can help prioritize more serious cases and reduce waiting time. Decision support systems augmented with AI can offer real-time suggestions and faster data interpretation to aid the decisions made by healthcare professionals.\n",
      "In 2023 a study reported higher satisfaction rates with ChatGPT-generated responses compared with those from physicians for medical questions posted on Reddit's r/AskDocs. Evaluators preferred ChatGPT's responses to physician responses in 78.6% of 585 evaluations, noting better quality and empathy. The authors noted that these were isolated questions taken from an online forum, not in the context of an established patient-physician relationship. Moreover, responses were not graded on the accuracy of medical information, and some have argued that the experiment was not properly blinded, with the evaluators being coauthors of the study.\n",
      "Recent developments in statistical physics, machine learning, and inference algorithms are also being explored for their potential in improving medical diagnostic approaches. Also, the establishment of large healthcare-related data warehouses of sometimes hundreds of millions of patients provides extensive training data for AI models.\n",
      "\n",
      "\n",
      "=== Electronic health records ===\n",
      "Electronic health records (EHR) are crucial to the digitalization and information spread of the healthcare industry. Now that around 80% of medical practices use EHR, some anticipate the use of artificial intelligence to interpret the records and provide new information to physicians.\n",
      "One application uses natural language processing (NLP) to make more succinct reports that limit the variation between medical terms by matching s\n",
      "source=https://en.wikipedia.org/wiki/Hallucination_(artificial_intelligence) \n",
      " content=In the field of artificial intelligence (AI), a hallucination or artificial hallucination (also called bullshitting, confabulation, or delusion) is a response generated by AI that contains false or misleading information presented as fact. This term draws a loose analogy with human psychology, where a hallucination typically involves false percepts. However, there is a key difference: AI hallucination is associated with erroneously constructed responses (confabulation), rather than perceptual experiences.\n",
      "For example, a chatbot powered by large language models (LLMs), like ChatGPT, may embed plausible-sounding random falsehoods within its generated content. Detecting and mitigating errors and hallucinations pose significant challenges for practical deployment and reliability of LLMs in high-stakes scenarios, such as chip design, supply chain logistics, and medical diagnostics. Software engineers and statisticians have criticized the specific term \"AI hallucination\" for unreasonably anthropomorphizing computers.\n",
      "\n",
      "\n",
      "== Term ==\n",
      "\n",
      "\n",
      "=== Origin ===\n",
      "In 1995, Stephen Thaler demonstrated how hallucinations and phantom experiences emerge from artificial neural networks through random perturbation of their connection weights.\n",
      "In the early 2000s, the term \"hallucination\" was used in computer vision with a positive connotation to describe the process of adding detail to an image. For example, the task of generating high-resolution face images from low-resolution inputs is called face hallucination.\n",
      "In the late 2010s, the term underwent a semantic shift to signify the generation of factually incorrect or misleading outputs by AI systems in tasks like translation or object detection. For example, in 2017, Google researchers used the term to describe the responses generated by neural machine translation (NMT) models when they are not related to the source text, and in 2018, the term was used in computer vision to describe instances where non-existent objects are erroneously detected because of adversarial attacks.\n",
      "The term \"hallucinations\" in AI gained wider recognition during the AI boom, alongside the rollout of widely used chatbots based on large language models (LLMs). In July 2021, Meta warned during its release of BlenderBot 2 that the system is prone to \"hallucinations\", which Meta defined as \"confident statements that are not true\". Following OpenAI's ChatGPT release in beta version in November 2022, some users complained that such chatbots often seem to pointlessly embed plausible-sounding random falsehoods within their generated content. Many news outlets, including The New York Times, started to use the term \"hallucinations\" to describe these models' occasionally incorrect or inconsistent responses.\n",
      "Some researchers have highlighted a lack of consistency in how the term is used, but also identified several alternative terms in the literature, such as confabulations, fabrications, and factual errors.\n",
      "In 2023, the Cambridge dictionary updated its definition of hallucination to include this new sense specific to the field of AI.\n",
      "\n",
      "\n",
      "=== Definitions and alternatives ===\n",
      "\n",
      "Uses, definitions and characterizations of the term \"hallucination\" in the context of LLMs include:\n",
      "\n",
      "\"a tendency to invent facts in moments of uncertainty\" (OpenAI, May 2023)\n",
      "\"a model's logical mistakes\" (OpenAI, May 2023)\n",
      "\"fabricating information entirely, but behaving as if spouting facts\" (CNBC, May 2023)\n",
      "\"making up information\" (The Verge, February 2023)\n",
      "\"probability distributions\" (in scientific contexts)\n",
      "Journalist Benj Edwards, in Ars Technica, writes that the term \"hallucination\" is controversial, but that some form of metaphor remains necessary; Edwards suggests \"confabulation\" as an analogy for processes that involve \"creative gap-filling\". In July 2024, a White House report on fostering public trust in AI research mentioned hallucinations only in the context of reducing them. Notably, when acknowledging David Baker's Nobel Prize-winning work with AI-generated pr\n",
      "source=https://en.wikipedia.org/wiki/AI_boom \n",
      " content=The AI boom is an ongoing period of technological progress in the field of artificial intelligence (AI) that started in the late 2010s before gaining international prominence in the 2020s. Examples include generative AI technologies, such as large language models and AI image generators by companies like OpenAI, as well as scientific advances, such as protein folding prediction led by Google DeepMind. This period is sometimes referred to as an AI spring, to contrast it with previous AI winters. As of 2025, ChatGPT is the 5th most visited website globally behind Google, YouTube, Facebook, and Instagram.\n",
      "\n",
      "\n",
      "== History ==\n",
      "\n",
      "In 2012, a University of Toronto research team used artificial neural networks and deep learning techniques to lower the error rate below 25% for the first time during the ImageNet challenge for object recognition in computer vision. The event catalyzed the AI boom later that decade, when many alumni of the ImageNet challenge became leaders in the tech industry. In March 2016, AlphaGo beat Lee Sedol in a five-game match, marking the first time a computer Go program had beaten a 9-dan professional without handicap. This match led to an increase in public interest in AI. The generative AI race began in 2016 or 2017 following the founding of OpenAI and advances made in graphics processing units (GPUs), the amount and quality of training data, generative adversarial networks, diffusion models and transformer architectures.\n",
      "In 2018, the AI Index, an initiative organized by Stanford University, reported an acceleration of research and commercial services using AI. Europe published the largest number of papers in the field that year, followed by China and North America. Technologies such as AlphaFold led to more accurate predictions of protein folding and may improve the process of drug development. Economists and lawmakers began to discuss the potential impact of AI more frequently.\n",
      "ChatGPT, a chatbot based on a large language model created by OpenAI, was released in November 2022. ChatGPT had over 100 million users in two months, and according to investment bank UBS, was the fastest-growing consumer software application in history. Several other companies have released competitors. At a similar time, text-to-image-models such as DALL-E and Midjourney become popular as a way to generate complicated photo-like illustrations. Speech synthesis software also became able to replicate the voices and speech of specific people.\n",
      "\n",
      "\n",
      "== Advances ==\n",
      "\n",
      "\n",
      "=== Biomedical ===\n",
      "In 2020, DeepMind's AlphaFold program, which is designed to predict protein folding, scored more than 90 in CASP's Global distance test (GDT). The structural biologist and Nobel Prize winner Venki Ramakrishnan called the result \"a stunning advance on the protein folding problem\". The ability to predict protein structures accurately based on the constituent amino acid sequence may accelerate drug discovery and enable a better understanding of diseases.\n",
      "\n",
      "\n",
      "=== Images and videos ===\n",
      "\n",
      "AI modified images started to be widely circulated on the internet following the public release of Google's DeepDream in 2015. \n",
      "OpenAI released DALL-E, a model capable of generating relatively crude images based on text descriptions, in January 2021. A successor capable of generating more complex and realistic images, DALL-E 2, was released in April 2022. Notable examples of other text-to-image models include NovelAI in 2021, and Midjourney and Stable Diffusion, both released in 2022.\n",
      "Examples of text-to-video platforms include Runway's Gen-1 model released in February 2023, and by OpenAI's Sora in December 2024.\n",
      "\n",
      "\n",
      "=== Language ===\n",
      "GPT-3 is a large language model that was released in 2020 by OpenAI and is capable of generating human-like text. A new version called GPT-4 was released on March 14, 2023, and was used in the Microsoft Bing search engine. Other language models have been released, such as PaLM and Gemini by Google and LLaMA by Meta Platforms.\n",
      "\n",
      "\n",
      "=== Music and voice ===\n",
      "In 2016, G\n",
      "source=https://en.wikipedia.org/wiki/Artificial_intelligence_in_Wikimedia_projects \n",
      " content=Artificial intelligence is used in Wikimedia projects for the purpose of developing those projects. \n",
      "Various articles on Wikipedia have been created entirely with or with the help of artificial intelligence. AI-generated content can be detrimental to Wikipedia when unreliable or containing fake citations.\n",
      "To address the issue of low-quality AI-generated content, the Wikipedia community created in 2023 a WikiProject named AI Cleanup. In August 2025, Wikipedia adopted a policy that allowed editors to nominate suspected AI-generated articles for speedy deletion.\n",
      "\n",
      "\n",
      "== Using artificial intelligence for Wikipedia ==\n",
      "\n",
      "\n",
      "=== ORES ===\n",
      "The Objective Revision Evaluation Service (ORES) project is an artificial intelligence service for grading the quality of Wikipedia edits. The Wikimedia Foundation presented the ORES project in November 2015.\n",
      "\n",
      "\n",
      "=== Wiki bots ===\n",
      "\n",
      "\n",
      "=== Bias reduction ===\n",
      "In August 2018, a company called Primer reported attempting to use artificial intelligence to create Wikipedia articles about women as a way to address gender bias on Wikipedia.\n",
      "\n",
      "\n",
      "=== Beginnings of generative AI ===\n",
      "In 2022, the public release of ChatGPT inspired more experimentation with AI and writing Wikipedia articles. A debate was sparked about whether and to what extent such large language models are suitable for such purposes in light of their tendency to generate plausible-sounding misinformation, including fake references; to generate prose that is not encyclopedic in tone; and to reproduce biases. Since 2023, work has been done to draft Wikipedia policy on ChatGPT and similar large language models (LLMs), e.g. at times recommending that users who are unfamiliar with LLMs should avoid using them due to the aforementioned risks, as well as noting the potential for libel or copyright infringement.\n",
      "On December 6, 2022, a Wikipedia contributor named Pharos created the article \"Artwork title\" in his sandbox, declaring he used ChatGPT to experiment with it and would extensively modify it. Another editor tagged the article as \"original research\", arguing that the article was initially unsourced AI-generated content, and sourced afterwards, instead of being based on reliable sources from the outset. Another editor who experimented with this early version of ChatGPT said that ChatGPT's overview of the topic was decent, but that the citations were fabricated. The Wiki Education Foundation reported that some experienced editors found AI to be useful in starting drafts or creating new articles. It said that ChatGPT \"knows\" what Wikipedia articles look like and can easily generate one that is written in the style of Wikipedia, but warned that ChatGPT had a tendency to use promotional language, among other issues. Miguel García, a former Wikimedia member from Spain, said that when ChatGPT was originally launched, the number of AI-generated articles on the site peaked. He added that the rate of AI articles has now stabilized due to the community's efforts to combat it. He said that majority of the articles that have no sources are deleted instantly or are nominated for deletion.\n",
      "In 2023, the Wikipedia community created a WikiProject named AI Cleanup to assist in the removal of poor quality AI content from Wikipedia. In October 2024, a study by Princeton University revealed that about 5% of 3,000 newly created articles (created in August 2024) on English Wikipedia were created using AI. The study said that some of the AI articles were on innocuous topics and that AI had likely only been used to assist in writing. For some other articles, AI had been used to promote businesses or political interests.\n",
      "In August 2025, the Wikipedia community created a policy that allowed users to nominate suspected AI-generated articles for speedy deletion. Editors usually recognize AI-generated articles because they use citations that are not related to the subject of the article or fabricated citations. The wording of articles is also used to recognize AI writings. For example, if \n",
      "source=https://en.wikipedia.org/wiki/Artificial_intelligence_visual_art \n",
      " content=Artificial intelligence visual art, or AI art, is visual artwork generated (or enhanced) through the use of artificial intelligence (AI) programs, most commonly using text-to-image models (T2I or TTI). The field of artificial intelligence was founded in the 1950s, and artists began to create art with artificial intelligence shortly after the discipline was founded. Throughout its history, AI has raised many philosophical concerns related to the human mind, artificial beings, and also what can be considered art in human–AI collaboration. Since the 20th century, people have used AI to create art, some of which has been exhibited in museums and won awards.\n",
      "During the AI boom of the 2020s, text-to-image models such as Midjourney, DALL-E, Stable Diffusion, Runway, and FLUX.1 became widely available to the public, allowing users to quickly generate imagery with little effort. Commentary about AI art in the 2020s has often focused on issues related to copyright, deception, defamation, and its impact on more traditional artists, including technological unemployment.\n",
      "\n",
      "\n",
      "== History ==\n",
      "\n",
      "\n",
      "=== Early history ===\n",
      "\n",
      "Automated art dates back at least to the automata of ancient Greek civilization, when inventors such as Daedalus and Hero of Alexandria were described as designing machines capable of writing text, generating sounds, and playing music. Creative automatons have flourished throughout history, such as Maillardet's automaton, created around 1800 and capable of creating multiple drawings and poems.\n",
      "Also in the 19th century, Ada Lovelace, wrote that \"computing operations\" could potentially be used to generate music and poems. In 1950, Alan Turing's paper \"Computing Machinery and Intelligence\" focused on whether machines can mimic human behavior convincingly. Shortly after, the academic discipline of artificial intelligence was founded at a research workshop at Dartmouth College in 1956.\n",
      "Since its founding, AI researchers have explored philosophical questions about the nature of the human mind and the consequences of creating artificial beings with human-like intelligence; these issues have previously been explored by myth, fiction, and philosophy since antiquity.\n",
      "\n",
      "\n",
      "=== Artistic history ===\n",
      "Since the founding of AI in the 1950s, artists have used artificial intelligence to create artistic works. These works were sometimes referred to as algorithmic art, computer art, digital art, or new media art.\n",
      "One of the first significant AI art systems is AARON, developed by Harold Cohen beginning in the late 1960s at the University of California at San Diego. AARON uses a symbolic rule-based approach to generate technical images in the era of GOFAI programming, and it was developed by Cohen with the goal of being able to code the act of drawing. AARON was exhibited in 1972 at the Los Angeles County Museum of Art. From 1973 to 1975, Cohen refined AARON during a residency at the Artificial Intelligence Laboratory at Stanford University. In 2024, the Whitney Museum of American Art exhibited AI art from throughout Cohen's career, including re-created versions of his early robotic drawing machines.\n",
      "Karl Sims has exhibited art created with artificial life since the 1980s. He received an M.S. in computer graphics from the MIT Media Lab in 1987 and was artist-in-residence from 1990 to 1996 at the supercomputer manufacturer and artificial intelligence company Thinking Machines. In both 1991 and 1992, Sims won the Golden Nica award at Prix Ars Electronica for his videos using artificial evolution. In 1997, Sims created the interactive artificial evolution  installation Galápagos for the NTT InterCommunication Center in Tokyo. Sims received an Emmy Award in 2019 for outstanding achievement in engineering development.\n",
      "\n",
      "In 1999, Scott Draves and a team of several engineers created and released Electric Sheep as a free software screensaver. Electric Sheep is a volunteer computing project for animating and evolving fractal flames, which are distributed to networked\n",
      "source=https://en.wikipedia.org/wiki/List_of_artificial_intelligence_companies \n",
      " content=Below is a list of notable companies that primarily focuses on artificial intelligence (AI). Companies that simply makes use of AI but have a different primary focus are not included.\n",
      "\n",
      "\n",
      "== America ==\n",
      "\n",
      "\n",
      "=== Canada ===\n",
      "Cohere\n",
      "Element AI\n",
      "\n",
      "\n",
      "=== United States ===\n",
      "\n",
      "\n",
      "== Asia ==\n",
      "\n",
      "\n",
      "=== China ===\n",
      "\n",
      "\n",
      "=== Hong Kong ===\n",
      "Artisse AI\n",
      "\n",
      "\n",
      "=== India ===\n",
      "Haptik\n",
      "Sarvam AI\n",
      "\n",
      "\n",
      "=== Israel ===\n",
      "AI21 Labs\n",
      "\n",
      "\n",
      "=== Saudi Arabia ===\n",
      "Humain\n",
      "\n",
      "\n",
      "=== South Korea ===\n",
      "Upstage\n",
      "\n",
      "\n",
      "=== UAE ===\n",
      "LocAI\n",
      "\n",
      "\n",
      "== Europe ==\n",
      "\n",
      "\n",
      "=== France ===\n",
      "\n",
      "\n",
      "=== Germany ===\n",
      "Aleph Alpha\n",
      "DeepL\n",
      "\n",
      "\n",
      "=== Sweden ===\n",
      "\n",
      "\n",
      "=== Switzerland ===\n",
      "Art Recognition\n",
      "\n",
      "\n",
      "=== Ukraine ===\n",
      "Respeecher\n",
      "\n",
      "\n",
      "=== United Kingdom ===\n",
      "\n",
      "\n",
      "== See also ==\n",
      "List of artificial intelligence projects\n",
      "List of self-driving system suppliers\n",
      "\n",
      "\n",
      "== References ==\n",
      "source=https://en.wikipedia.org/wiki/Artificial_intelligence_in_India \n",
      " content=The artificial intelligence (AI) market in India is projected to reach $8 billion by 2025, growing at 40% CAGR from 2020 to 2025. This growth is part of the broader AI boom, a global period of rapid technological advancements with India being pioneer starting in the early 2010s with NLP based Chatbots from Haptik, Corover.ai, Niki.ai and then gaining prominence in the early 2020s based on reinforcement learning, marked by breakthroughs such as generative AI models from Krutrim, Sarvam, CoRover, OpenAI and Alphafold by Google DeepMind. In India, the development of AI has been similarly transformative, with applications in healthcare, finance, and education, bolstered by government initiatives like NITI Aayog's 2018 National Strategy for Artificial Intelligence. Institutions such as the Indian Statistical Institute and the Indian Institute of Science published breakthrough AI research papers and patents. \n",
      "India's transformation to AI is primarily being driven by startups and government initiatives & policies like Digital India. By fostering technological trust through digital public infrastructure, India is tackling socioeconomic issues by taking a bottom-up approach to AI. NASSCOM and Boston Consulting Group estimate that by 2027, India's AI services might be valued at $17 billion. According to 2025 Technology and Innovation Report, by UN Trade and Development, India ranks 10th globally for private sector investments in AI. According to Mary Meeker, India has emerged as a key market for AI platforms, accounting for the largest share of ChatGPT's mobile app users and having the third-largest user base for DeepSeek in 2025.\n",
      "While AI presents significant opportunities for economic growth and social development in India, challenges such as data privacy concerns, skill shortages, and ethical considerations need to be addressed for responsible AI deployment. The growth of AI in India has also led to an increase in the number of cyberattacks that use AI to target organizations.\n",
      "\n",
      "\n",
      "== History ==\n",
      "\n",
      "\n",
      "=== Early days (1960s-1980s) ===\n",
      "The TIFRAC (Tata Institute of Fundamental Research Automatic Calculator) was designed and developed by a team led by Rangaswamy Narasimhan between 1954 and 1960. He worked on pattern recognition from 1961 to 1964 at the University of Illinois Urbana-Champaign's Digital Computer Laboratory. In order to conduct research on database technology, computer networking, computer graphics, and systems software, he and M. G. K. Menon founded the National Centre for Software Development and Computing Techniques. In 1965, he established the Computer Society of India and supervised the initial research work on AI at Tata Institute of Fundamental Research. Jagdish Lal launched the first computer science program in 1976 at Motilal Nehru Regional Engineering College. H. K. Kesavan from the University of Waterloo and Vaidyeswaran Rajaraman from the University of Wisconsin–Madison joined the IIT Kanpur Electrical Engineering Department in 1963–1964 as Assistant Professor and Head of Department, respectively. H.N. Mahabala, who was employed at Bendix Corporation's Computer Division, joined the department in 1965. He previously worked with Marvin Minsky. The IIT Kanpur Computer Center was led by H. K. Kesavan, with Vaidyeswaran Rajaraman serving as his deputy. Kesavan informally permitted Rajaraman and Mahabala to introduce artificial intelligence into computer science classes. The computer science program was approved by IIT Kanpur in 1971 and split out from the electrical engineering department. In 1973, an IBM System/370 Model 155 was installed at IIT Madras. John McCarthy, head of the Artificial Intelligence Laboratory at Stanford University visited IIT Kanpur in 1971. He donated PDP-1 with a time-sharing operating system. During the 1970s, the balance of payments deficit in India restricted import of computers. The Department of Computer Science and Automation at the Indian Institute of Science established in 1969, played an \n",
      "source=https://en.wikipedia.org/wiki/2025_in_artificial_intelligence \n",
      " content=The following is a list of events of the year 2025 in artificial intelligence, as well as predicted and scheduled events that have not yet occurred.\n",
      "\n",
      "\n",
      "== Events ==\n",
      "\n",
      "\n",
      "=== January ===\n",
      "January 20 – DeepSeek releases DeepSeek-R1, a large language model based on DeepSeek-V3 utilising a chain-of-thought, stating it achieves performance comparable to OpenAI-o1 across math, code, and reasoning tasks. DeepSeek-R1 is open-source.\n",
      "January 21 – The Stargate Project, a joint venture created by OpenAI, SoftBank, Oracle and MGX, is formally announced by U.S. president Donald Trump.\n",
      "January 23 – Humanity's Last Exam, a benchmark for large language models, is published. The dataset consists of 3,000 challenging questions across over a hundred subjects.\n",
      "January 27\n",
      "Nvidia's stock falls by as much as 17–18%, after the release of DeepSeek-R1.\n",
      "DeepSeek-R1 surpasses ChatGPT as the most-downloaded free app on the iOS App Store in the United States.\n",
      "\n",
      "\n",
      "=== February ===\n",
      "February 2 – Karpathy coined the term vibe coding to describe how AI tools allow hobbyists to construct apps and websites, just by typing prompts.\n",
      "February 3 – OpenAI releases ChatGPT Deep Research, an artificial intelligence system integrated into ChatGPT, which generates cited reports on a user-specified topic by autonomously browsing the web for 5 to 30 minutes.\n",
      "February 6 – Mistral AI releases Le Chat, an AI assistant able to answer up to 1,000 words per second.\n",
      "February 10\n",
      "AI Action Summit takes place in Paris, France, for two days.\n",
      "It is announced that France will receive 109 billion euros in AI private investments over the coming years.\n",
      "Anthropic launches the Anthropic Economic Index, an initiative aimed at \"understanding AI's effects on labor markets and the economy over time\".\n",
      "Elon Musk and a group of investors led by him offer to buy OpenAI for $97.4 billion.\n",
      "February 27 – OpenAI announces a research preview of GPT-4.5, its largest and most advanced AI model to date.\n",
      "\n",
      "\n",
      "=== March ===\n",
      "27 March – Engineers in the fields of electrical and computer science create a groundbreaking AI system known as \"Super-Turing AI,\" designed to function more similarly to the human brain. Unlike conventional models that isolate tasks and shuttle massive volumes of data between components, this innovative AI merges key processes, streamlining operations and enhancing efficiency.\n",
      "\n",
      "\n",
      "=== April ===\n",
      "16 April – OpenAI announces the launch of two new AI models, o3 and o4-mini.\n",
      "\n",
      "\n",
      "=== May ===\n",
      "14 May – Google DeepMind announces AlphaEvolve, a Gemini-powered coding agent for designing advanced algorithms.\n",
      "\n",
      "20 May\n",
      "Google launches A.I. Mode, which will be a feature on their search engine, and uses the Gemini model.\n",
      "Google DeepMind announces Veo 3, a new state-of-the-art video generation model. The company also boosts the performance of Gemini 2.5 Pro, its flagship AI model.\n",
      "22 May – Anthropic releases Claude 4, with two models: Claude Opus 4 and Claude Sonnet 4. According to Anthropic, Claude 4 can function on its own for hours.\n",
      "\n",
      "\n",
      "=== August ===\n",
      "7 August – OpenAI releases GPT-5.\n",
      "\n",
      "\n",
      "=== September ===\n",
      "8 September - Artificial intelligence uses vast energy, but University of Florida researchers develops a chip that replaces electricity with light for key AI tasks. Using microscopic lenses etched onto silicon, it performs laser-powered computations with drastically lower energy and near-perfect accuracy.\n",
      "\n",
      "\n",
      "== See also ==\n",
      "Timeline of artificial intelligence\n",
      "\n",
      "\n",
      "== References ==\n",
      "source=https://en.wikipedia.org/wiki/Philosophy_of_artificial_intelligence \n",
      " content=The philosophy of artificial intelligence is a branch of the philosophy of mind and the philosophy of computer science that explores artificial intelligence and its implications for knowledge and understanding of intelligence, ethics, consciousness, epistemology,  and free will. Furthermore, the technology is concerned with the creation of artificial animals or artificial people (or, at least, artificial creatures; see artificial life) so the discipline is of considerable interest to philosophers. These factors contributed to the emergence of the philosophy of artificial intelligence.\n",
      "The philosophy of artificial intelligence attempts to answer such questions as follows:\n",
      "\n",
      "Can a machine act intelligently? Can it solve any problem that a person would solve by thinking?\n",
      "Are human intelligence and machine intelligence the same? Is the human brain essentially a computer?\n",
      "Can a machine have a mind, mental states, and consciousness in the same sense that a human being can? Can it feel how things are? (i.e. does it have qualia?)\n",
      "Questions like these reflect the divergent interests of AI researchers, cognitive scientists and philosophers respectively. The scientific answers to these questions depend on the definition of \"intelligence\" and \"consciousness\" and exactly which \"machines\" are under discussion.\n",
      "Important propositions in the philosophy of AI include some of the following:\n",
      "\n",
      "Turing's \"polite convention\": If a machine behaves as intelligently as a human being, then it is as intelligent as a human being.\n",
      "The Dartmouth proposal: \"Every aspect of learning or any other feature of intelligence can in principle be so precisely described that a machine can be made to simulate it.\"\n",
      "Allen Newell and Herbert A. Simon's physical symbol system hypothesis: \"A physical symbol system has the necessary and sufficient means of general intelligent action.\"\n",
      "John Searle's strong AI hypothesis: \"The appropriately programmed computer with the right inputs and outputs would thereby have a mind in exactly the same sense human beings have minds.\"\n",
      "Hobbes' mechanism: \"For 'reason' ... is nothing but 'reckoning,' that is adding and subtracting, of the consequences of general names agreed upon for the 'marking' and 'signifying' of our thoughts...\"\n",
      "\n",
      "\n",
      "== Can a machine display general intelligence? ==\n",
      "Is it possible to create a machine that can solve all the problems humans solve using their intelligence? This question defines the scope of what machines could do in the future and guides the direction of AI research. It only concerns the behavior of machines and ignores the issues of interest to psychologists, cognitive scientists and philosophers, evoking the question: does it matter whether a machine is really thinking, as a person thinks, rather than just producing outcomes that appear to result from thinking?\n",
      "The basic position of most AI researchers is summed up in this statement, which appeared in the proposal for the Dartmouth workshop of 1956:\n",
      "\n",
      "\"Every aspect of learning or any other feature of intelligence can in principle be so precisely described that a machine can be made to simulate it.\"\n",
      "Arguments against the basic premise must show that building a working AI system is impossible because there is some practical limit to the abilities of computers or that there is some special quality of the human mind that is necessary for intelligent behavior and yet cannot be duplicated by a machine (or by the methods of current AI research). Arguments in favor of the basic premise must show that such a system is possible.\n",
      "It is also possible to sidestep the connection between the two parts of the above proposal. For instance, machine learning, beginning with Turing's infamous child machine proposal, essentially achieves the desired feature of intelligence without a precise design-time description as to how it would exactly work. The account on robot tacit knowledge eliminates the need for a precise description altogether.\n",
      "The first step to answering the question i\n",
      "source=https://en.wikipedia.org/wiki/Artificial_intelligence_in_spirituality \n",
      " content=Some users of artificial intelligence (AI) technologies, especially chatbots, may develop beliefs that AI has or can attain supernatural or spiritual powers. AI models such as ChatGPT are turned to for fortune telling, mysticism and remote viewing. Recent and sudden advances in large language models have led to folk myths about their origin or capabilities, as well as their deification or worship by some users.\n",
      "\n",
      "\n",
      "== See also ==\n",
      "Cargo cult\n",
      "Quantum mysticism\n",
      "Roko's basilisk\n",
      "Superintelligence\n",
      "TempleOS\n",
      "Way of the Future\n",
      "Chatbot psychosis\n",
      "\n",
      "\n",
      "== References ==\n",
      "source=https://en.wikipedia.org/wiki/Music_and_artificial_intelligence \n",
      " content=Music and artificial intelligence (music and AI) is the development of music software programs that use AI to generate music. As with applications in other fields, AI in music also simulates mental tasks. A prominent feature is the capability of an AI algorithm to learn based on past data, such as in computer accompaniment technology, wherein the AI is capable of listening to a human performer and performing accompaniment. Artificial intelligence also drives interactive composition technology, wherein a computer composes music in response to a live performance. There are other AI applications in music that cover not only music composition, production, and performance but also how music is marketed and consumed. Several music player programs have also been developed to use voice recognition and natural language processing technology for music voice control. Current research includes the application of AI in music composition, performance, theory and digital sound processing. Composers/artists like Jennifer Walshe or Holly Herndon have been exploring aspects of music AI for years in their performances and musical works. Another original approach of humans “imitating AI” can be found in the 43-hour sound installation String Quartet(s) by Georges Lentz (see interview with ChatGPT-4 on music and AI).\n",
      "20th century art historian Erwin Panofsky proposed that in all art, there existed three levels of meaning: primary meaning, or the natural subject; secondary meaning, or the conventional subject; and tertiary meaning, the intrinsic content of the subject. AI music explores the foremost of these, creating music without the \"intention\" that is usually behind it, leaving composers who listen to machine-generated pieces feeling unsettled by the lack of apparent meaning.\n",
      "\n",
      "\n",
      "== History ==\n",
      "In the 1950s and the 1960s, music made by artificial intelligence was not fully original, but generated from templates that people had already defined and given to the AI, with this being known as rule-based systems. As time passed, computers became more powerful, which allowed machine learning and artificial neural networks to help in the music industry by giving AI large amounts of data to learn how music is made instead of predefined templates. By the early 2000s, more advancements in artificial intelligence had been made, with generative adversarial networks (GANs) and deep learning being used to help AI compose more original music that is more complex and varied than possible before. Notable AI-driven projects, such as OpenAI’s MuseNet and Google’s Magenta, have demonstrated AI’s ability to generate compositions that mimic various musical styles.\n",
      "\n",
      "\n",
      "=== Timeline ===\n",
      "Artificial intelligence finds its beginnings in music with the transcription problem: accurately recording a performance into musical notation as it is played. Père Engramelle's schematic of a \"piano roll\", a mode of automatically recording note timing and duration in a way which could be easily transcribed to proper musical notation by hand, was first implemented by German engineers J.F. Unger and J. Hohlfield in 1952.\n",
      "In 1957, the ILLIAC I (Illinois Automatic Computer) produced the \"Illiac Suite for String Quartet\", a completely computer-generated piece of music. The computer was programmed to accomplish this by composer Leonard Isaacson and mathematician Lejaren Hiller.In 1960, Russian researcher Rudolf Zaripov published first worldwide paper on algorithmic music composing using the Ural-1 computer.\n",
      "In 1965, inventor Ray Kurzweil developed software capable of recognizing musical patterns and synthesizing new compositions from them. The computer first appeared on the quiz show I've Got a Secret that same year.\n",
      "By 1983, Yamaha Corporation's Kansei Music System had gained momentum, and a paper was published on its development in 1989. The software utilized music information processing and artificial intelligence techniques to essentially solve the transcription problem for simpler melodies, a\n"
     ]
    }
   ],
   "source": [
    "print(\"\\n\".join(context))"
   ]
  },
  {
   "cell_type": "code",
   "execution_count": null,
   "id": "4cc743b1",
   "metadata": {},
   "outputs": [],
   "source": [
    "def search_wiki(state: InterviewState):\n",
    "    \"\"\"Node to perform Wikipedia search\"\"\"\n",
    "    \n",
    "    messages = state[\"messages\"]\n",
    "\n",
    "    formatted_messages = \"\\n\".join(\n",
    "        f\"{m.type.upper()}: {m.content}\" for m in messages\n",
    "    )\n",
    "    \n",
    "\n",
    "    # Generate the search query prompt\n",
    "    prompt = search_instruction.format(\n",
    "        messages=formatted_messages)\n",
    "    \n",
    "\n",
    "    system_message = SystemMessage(content=prompt)\n",
    "    structured_llm=llm.with_structured_output(SearchQuery)\n",
    "    search_query = structured_llm.invoke([system_message]+[HumanMessage(content=\"hi do the proper question formulation based on the context to search in wikipedia\")])\n",
    "\n",
    "    loader=WikipediaLoader(query=search_query.search_query)\n",
    "    docs= loader.load()\n",
    "    context=\"\\n\\n\".join([f\"source={doc.metadata['source']} \\n content={doc.page_content}\" for doc in docs])\n",
    "\n",
    "    # Return updated state with search query\n",
    "    return {\"context\": [context]}"
   ]
  },
  {
   "cell_type": "code",
   "execution_count": null,
   "id": "541fe9ad",
   "metadata": {},
   "outputs": [
    {
     "data": {
      "text/plain": [
       "{'max_num_turns': 2,\n",
       " 'context': [],\n",
       " 'analyst': Analyst(name='Ava Sharma', role='Lead Nutritionist', affiliation='Global Wellness Institute', description='Expert in personalized nutrition plans and dietary trends. Focuses on the impact of diet on overall wellness and fitness.'),\n",
       " 'interview': '',\n",
       " 'sections': [],\n",
       " 'messages': [AIMessage(content=\"Okay, here we go.\\n\\nHello Ava, thank you for taking the time to speak with me today. My name is Daniel, and I'm an analyst researching fitness and wellness trends for 2024. As a Lead Nutritionist with the Global Wellness Institute, your expertise in personalized nutrition and dietary trends is invaluable to my research.\\n\\nTo start, what are some of the most **interesting** shifts you're seeing in how people are approaching fitness and wellness in 2024, things that might surprise the average person?\", additional_kwargs={}, response_metadata={'prompt_feedback': {'block_reason': 0, 'safety_ratings': []}, 'finish_reason': 'STOP', 'model_name': 'gemini-2.0-flash', 'safety_ratings': []}, id='run--1976aef5-c6d9-4c61-99c2-cf2859030342-0', usage_metadata={'input_tokens': 240, 'output_tokens': 112, 'total_tokens': 352, 'input_token_details': {'cache_read': 0}})],\n",
       " 'topic': 'Fiteness and Wellness Trends in 2024',\n",
       " 'answer': []}"
      ]
     },
     "execution_count": 179,
     "metadata": {},
     "output_type": "execute_result"
    }
   ],
   "source": [
    "interview_state"
   ]
  },
  {
   "cell_type": "code",
   "execution_count": null,
   "id": "653d2282",
   "metadata": {},
   "outputs": [
    {
     "data": {
      "text/plain": [
       "{'context': ['']}"
      ]
     },
     "execution_count": 180,
     "metadata": {},
     "output_type": "execute_result"
    }
   ],
   "source": [
    "search_wiki(interview_state)"
   ]
  },
  {
   "cell_type": "markdown",
   "id": "d68f4a23",
   "metadata": {},
   "source": [
    "Based on the context we need to answer the question"
   ]
  },
  {
   "cell_type": "code",
   "execution_count": null,
   "id": "69922a5a",
   "metadata": {},
   "outputs": [
    {
     "data": {
      "text/plain": [
       "{'max_num_turns': 2,\n",
       " 'context': [],\n",
       " 'analyst': Analyst(name='Ava Sharma', role='Lead Nutritionist', affiliation='Global Wellness Institute', description='Expert in personalized nutrition plans and dietary trends. Focuses on the impact of diet on overall wellness and fitness.'),\n",
       " 'interview': '',\n",
       " 'sections': [],\n",
       " 'messages': [AIMessage(content=\"Okay, here we go.\\n\\nHello Ava, thank you for taking the time to speak with me today. My name is Daniel, and I'm an analyst researching fitness and wellness trends for 2024. As a Lead Nutritionist with the Global Wellness Institute, your expertise in personalized nutrition and dietary trends is invaluable to my research.\\n\\nTo start, what are some of the most **interesting** shifts you're seeing in how people are approaching fitness and wellness in 2024, things that might surprise the average person?\", additional_kwargs={}, response_metadata={'prompt_feedback': {'block_reason': 0, 'safety_ratings': []}, 'finish_reason': 'STOP', 'model_name': 'gemini-2.0-flash', 'safety_ratings': []}, id='run--1976aef5-c6d9-4c61-99c2-cf2859030342-0', usage_metadata={'input_tokens': 240, 'output_tokens': 112, 'total_tokens': 352, 'input_token_details': {'cache_read': 0}})],\n",
       " 'topic': 'Fiteness and Wellness Trends in 2024',\n",
       " 'answer': []}"
      ]
     },
     "execution_count": 181,
     "metadata": {},
     "output_type": "execute_result"
    }
   ],
   "source": [
    "interview_state"
   ]
  },
  {
   "cell_type": "code",
   "execution_count": null,
   "id": "456a9540",
   "metadata": {},
   "outputs": [],
   "source": [
    "answer_instructions=\"\"\"\n",
    "Your are an expert research analyst tasked with answering the question based on the provided context.\n",
    "pay attention to the analyst's persona and goals while formulating the answer.\n",
    "\n",
    "Topic: {topic}\n",
    "\n",
    "Context: {context}\n",
    "\n",
    "Question asked by the analyst will be the message list conversation. \n",
    "\n",
    "Pay attention tho conversation and extract the question from there.\n",
    "\n",
    "messages: {messages}\n",
    "\n",
    "1. Use only the information provided in the context. \n",
    "        \n",
    "2. Do not introduce external information or make assumptions beyond what is explicitly stated in the context.\n",
    "\n",
    "3. The context contain sources at the topic of each individual document.\n",
    "\n",
    "4. Include these sources your answer next to any relevant statements. For example, for source # 1 use [1]. \n",
    "\n",
    "5. List your sources in order at the bottom of your answer. [1] Source 1, [2] Source 2, etc\n",
    "        \n",
    "6. If the source is: <Document source=\"assistant/docs/llama3_1.pdf\" page=\"7\"/>' then just list: \n",
    "        \n",
    "[1] assistant/docs/llama3_1.pdf, page 7 \n",
    "        \n",
    "And skip the addition of the brackets as well as the Document source preamble in your citation.\n",
    "\n",
    "Ensure the answer should be relevant to the question asked by the analyst. \n",
    "\n",
    "Irrelevant information should be omitted STRICKLY.\n",
    "\"\"\""
   ]
  },
  {
   "cell_type": "code",
   "execution_count": 70,
   "id": "2098a71c",
   "metadata": {},
   "outputs": [],
   "source": [
    "def generate_answer(state: InterviewState):\n",
    "    \"\"\"Node to generate the final answer based on context\"\"\"\n",
    "    \n",
    "    messages = state[\"messages\"]\n",
    "    context = state[\"context\"]\n",
    "    topic=state[\"topic\"]\n",
    "\n",
    "    formatted_messages = \"\\n\".join(\n",
    "        f\"{m.type.upper()}: {m.content}\" for m in messages\n",
    "    )\n",
    "    \n",
    "\n",
    "    # Generate the answer prompt\n",
    "    prompt = answer_instructions.format(\n",
    "        context=\"\\n\".join(context),\n",
    "        messages=formatted_messages,\n",
    "        topic=topic\n",
    "    )\n",
    "    \n",
    "\n",
    "    system_message = SystemMessage(content=prompt)\n",
    "    answer = llm.invoke([system_message]+[HumanMessage(content=\"Answer the question based on the context provided\")])\n",
    "\n",
    "    turn_count = state.get(\"turn_count\", 0) + 1\n",
    "    # Return updated state with the final answer\n",
    "    return {\"answer\": [answer], \"turn_count\": turn_count}"
   ]
  },
  {
   "cell_type": "code",
   "execution_count": null,
   "id": "d05207ac",
   "metadata": {},
   "outputs": [
    {
     "data": {
      "text/plain": [
       "{'context': [\"source=https://aeworld.com/lifestyle/well-being/the-biggest-wellness-trends-in-2024/ \\n content=The rise of biomonitoring and wearables is redefining the landscape of health and wellness, blending cutting-edge technology with luxury lifestyle. These innovations not only reflect a growing awareness of health and wellness but also signify a demand for authenticity and effectiveness in lifestyle choices. This burgeoning trend of personalized wellness products signifies a holistic approach to health, intertwining luxury, efficacy, and self-awareness in an exquisite fusion of care and indulgence. This shift reflects a growing understanding that a balanced gut can enhance not just digestion, but also immune function, mental clarity, and skin health.Luxury brands are quick to capitalize on this trend, offering premium probiotics, gourmet gut-friendly foods, and detox retreats that focus on digestive wellness.\\n\\nsource=https://supplementrelief.com/consumer-wellness-trends-for-2024/?srsltid=AfmBOoq5UbNybSffW_xO-tHsBqR6RUns94ISKraZZygwmTeFaD42N0-x \\n content=The focus is shifting to personalized nutrition plans considering individual dietary preferences, health goals, and genetic factors.\\n\\nsource=https://www.gwi.com/blog/wellness-trends \\n content=2024 wellness trends include a desire for fast food, declining health, proactive health management, tracking data, and less restrictive diets.\\n\\nsource=https://www.forbes.com/health/wellness/top-nutrition-and-fitness-trends-2024/ \\n content=. Indeed, the majority of Forbes Health Advisory Board members who provided their predictions noted the popularity of protein isn’t going away anytime soon—particularly plant-based picks. | Transparent Labs Pea Protein Isolate | * USDA-Certified Organic Pea Protein Powder * Provides 28 Grams of Complete Protein Per Scoop * Simple, Healthy Way to Increase Protein Intake on a Plant-Based Diet * No Artificial Flavoring, Artificial Sweeteners, or Artificial Food Coloring | Shop Now  On Transparent Labs' Website |  | Indeed, many Forbes Health Advisory Board members pointed to sustainable practices paving the way in nutrition in 2024, and TikTok data shows #foodwaste earned 88 million U.S. views in 2023, with videos showing how you can make your food last longer and how to best utilize scraps#foodwaste.\\n\\nsource=https://www.fitonhealth.com/blog/wellness-trends-2024-highlights-from-fiton-healths-member-report \\n content=As the year comes to a close, it’s time to reflect on the 2024 wellness trends that shaped how we approach health, fitness, and mental well-being. FitOn Health’s 2024 Member Trends Report provides a comprehensive review of the year's biggest developments in wellness. This report is more than just data—it’s a celebration of the strides made in health and wellness. Let’s dive into the top highlights and trends that made 2024 a pivotal year for health and wellness. This focus on emotional well-being underscored the growing importance of trends in mental health within the broader wellness space. Members embraced health and wellness trends that focused on balance and sustainability, rather than quick fixes. Stay connected to our blog for updates on health and wellness trends.\"]}"
      ]
     },
     "execution_count": 185,
     "metadata": {},
     "output_type": "execute_result"
    }
   ],
   "source": [
    "answer\n"
   ]
  },
  {
   "cell_type": "code",
   "execution_count": null,
   "id": "336041f0",
   "metadata": {},
   "outputs": [
    {
     "data": {
      "text/plain": [
       "{'max_num_turns': 2,\n",
       " 'context': [],\n",
       " 'analyst': Analyst(name='Ava Sharma', role='Lead Nutritionist', affiliation='Global Wellness Institute', description='Expert in personalized nutrition plans and dietary trends. Focuses on the impact of diet on overall wellness and fitness.'),\n",
       " 'interview': '',\n",
       " 'sections': [],\n",
       " 'messages': [AIMessage(content=\"Okay, here we go.\\n\\nHello Ava, thank you for taking the time to speak with me today. My name is Daniel, and I'm an analyst researching fitness and wellness trends for 2024. As a Lead Nutritionist with the Global Wellness Institute, your expertise in personalized nutrition and dietary trends is invaluable to my research.\\n\\nTo start, what are some of the most **interesting** shifts you're seeing in how people are approaching fitness and wellness in 2024, things that might surprise the average person?\", additional_kwargs={}, response_metadata={'prompt_feedback': {'block_reason': 0, 'safety_ratings': []}, 'finish_reason': 'STOP', 'model_name': 'gemini-2.0-flash', 'safety_ratings': []}, id='run--1976aef5-c6d9-4c61-99c2-cf2859030342-0', usage_metadata={'input_tokens': 240, 'output_tokens': 112, 'total_tokens': 352, 'input_token_details': {'cache_read': 0}})],\n",
       " 'topic': 'Fiteness and Wellness Trends in 2024',\n",
       " 'answer': []}"
      ]
     },
     "execution_count": 186,
     "metadata": {},
     "output_type": "execute_result"
    }
   ],
   "source": [
    "interview_state"
   ]
  },
  {
   "cell_type": "code",
   "execution_count": null,
   "id": "474acd2a",
   "metadata": {},
   "outputs": [],
   "source": [
    "interview_state[\"context\"] = answer[\"context\"]"
   ]
  },
  {
   "cell_type": "code",
   "execution_count": null,
   "id": "d9e472e9",
   "metadata": {},
   "outputs": [
    {
     "data": {
      "text/plain": [
       "{'max_num_turns': 2,\n",
       " 'context': [\"source=https://aeworld.com/lifestyle/well-being/the-biggest-wellness-trends-in-2024/ \\n content=The rise of biomonitoring and wearables is redefining the landscape of health and wellness, blending cutting-edge technology with luxury lifestyle. These innovations not only reflect a growing awareness of health and wellness but also signify a demand for authenticity and effectiveness in lifestyle choices. This burgeoning trend of personalized wellness products signifies a holistic approach to health, intertwining luxury, efficacy, and self-awareness in an exquisite fusion of care and indulgence. This shift reflects a growing understanding that a balanced gut can enhance not just digestion, but also immune function, mental clarity, and skin health.Luxury brands are quick to capitalize on this trend, offering premium probiotics, gourmet gut-friendly foods, and detox retreats that focus on digestive wellness.\\n\\nsource=https://supplementrelief.com/consumer-wellness-trends-for-2024/?srsltid=AfmBOoq5UbNybSffW_xO-tHsBqR6RUns94ISKraZZygwmTeFaD42N0-x \\n content=The focus is shifting to personalized nutrition plans considering individual dietary preferences, health goals, and genetic factors.\\n\\nsource=https://www.gwi.com/blog/wellness-trends \\n content=2024 wellness trends include a desire for fast food, declining health, proactive health management, tracking data, and less restrictive diets.\\n\\nsource=https://www.forbes.com/health/wellness/top-nutrition-and-fitness-trends-2024/ \\n content=. Indeed, the majority of Forbes Health Advisory Board members who provided their predictions noted the popularity of protein isn’t going away anytime soon—particularly plant-based picks. | Transparent Labs Pea Protein Isolate | * USDA-Certified Organic Pea Protein Powder * Provides 28 Grams of Complete Protein Per Scoop * Simple, Healthy Way to Increase Protein Intake on a Plant-Based Diet * No Artificial Flavoring, Artificial Sweeteners, or Artificial Food Coloring | Shop Now  On Transparent Labs' Website |  | Indeed, many Forbes Health Advisory Board members pointed to sustainable practices paving the way in nutrition in 2024, and TikTok data shows #foodwaste earned 88 million U.S. views in 2023, with videos showing how you can make your food last longer and how to best utilize scraps#foodwaste.\\n\\nsource=https://www.fitonhealth.com/blog/wellness-trends-2024-highlights-from-fiton-healths-member-report \\n content=As the year comes to a close, it’s time to reflect on the 2024 wellness trends that shaped how we approach health, fitness, and mental well-being. FitOn Health’s 2024 Member Trends Report provides a comprehensive review of the year's biggest developments in wellness. This report is more than just data—it’s a celebration of the strides made in health and wellness. Let’s dive into the top highlights and trends that made 2024 a pivotal year for health and wellness. This focus on emotional well-being underscored the growing importance of trends in mental health within the broader wellness space. Members embraced health and wellness trends that focused on balance and sustainability, rather than quick fixes. Stay connected to our blog for updates on health and wellness trends.\"],\n",
       " 'analyst': Analyst(name='Ava Sharma', role='Lead Nutritionist', affiliation='Global Wellness Institute', description='Expert in personalized nutrition plans and dietary trends. Focuses on the impact of diet on overall wellness and fitness.'),\n",
       " 'interview': '',\n",
       " 'sections': [],\n",
       " 'messages': [AIMessage(content=\"Okay, here we go.\\n\\nHello Ava, thank you for taking the time to speak with me today. My name is Daniel, and I'm an analyst researching fitness and wellness trends for 2024. As a Lead Nutritionist with the Global Wellness Institute, your expertise in personalized nutrition and dietary trends is invaluable to my research.\\n\\nTo start, what are some of the most **interesting** shifts you're seeing in how people are approaching fitness and wellness in 2024, things that might surprise the average person?\", additional_kwargs={}, response_metadata={'prompt_feedback': {'block_reason': 0, 'safety_ratings': []}, 'finish_reason': 'STOP', 'model_name': 'gemini-2.0-flash', 'safety_ratings': []}, id='run--1976aef5-c6d9-4c61-99c2-cf2859030342-0', usage_metadata={'input_tokens': 240, 'output_tokens': 112, 'total_tokens': 352, 'input_token_details': {'cache_read': 0}})],\n",
       " 'topic': 'Fiteness and Wellness Trends in 2024',\n",
       " 'answer': []}"
      ]
     },
     "execution_count": 188,
     "metadata": {},
     "output_type": "execute_result"
    }
   ],
   "source": [
    "interview_state"
   ]
  },
  {
   "cell_type": "code",
   "execution_count": null,
   "id": "8b3c8704",
   "metadata": {},
   "outputs": [],
   "source": [
    "answer=generate_answer(interview_state)\n"
   ]
  },
  {
   "cell_type": "code",
   "execution_count": null,
   "id": "ad8c1b82",
   "metadata": {},
   "outputs": [
    {
     "name": "stdout",
     "output_type": "stream",
     "text": [
      "In 2024, some interesting shifts in fitness and wellness include:\n",
      "\n",
      "*   The rise of biomonitoring and wearables, blending technology with luxury lifestyle, reflecting a growing awareness of health and a demand for authenticity [1].\n",
      "\n",
      "*   A focus on personalized nutrition plans that consider individual dietary preferences, health goals, and genetic factors [2].\n",
      "\n",
      "*   A desire for fast food, declining health, proactive health management, tracking data, and less restrictive diets [3].\n",
      "\n",
      "*   A focus on emotional well-being and mental health [5].\n",
      "\n",
      "*   Embracing balance and sustainability, rather than quick fixes [5].\n",
      "\n",
      "Sources:\n",
      "\n",
      "[1] https://aeworld.com/lifestyle/well-being/the-biggest-wellness-trends-in-2024/\n",
      "[2] https://supplementrelief.com/consumer-wellness-trends-for-2024/?srsltid=AfmBOoq5UbNybSffW_xO-tHsBqR6RUns94ISKraZZygwmTeFaD42N0-x\n",
      "[3] https://www.gwi.com/blog/wellness-trends\n",
      "[5] https://www.fitonhealth.com/blog/wellness-trends-2024-highlights-from-fiton-healths-member-report\n"
     ]
    }
   ],
   "source": [
    "print(answer['answer'][0].content)"
   ]
  },
  {
   "cell_type": "code",
   "execution_count": 72,
   "id": "3f512be4",
   "metadata": {},
   "outputs": [],
   "source": [
    "def route_message(state: InterviewState):\n",
    "    \"\"\"Route message between question generation, search, and answer generation based on the max turn.\"\"\"\n",
    "    \n",
    "    max_turns = state[\"max_num_turns\"]\n",
    "    \n",
    "    turn_count = state.get(\"turn_count\", 0)\n",
    "\n",
    "    print(f\"Routing... Turn {turn_count}/{max_turns}\")\n",
    "\n",
    "    if turn_count> max_turns:\n",
    "        return \"save_interview\"\n",
    "    else:\n",
    "        return \"ask_question\""
   ]
  },
  {
   "cell_type": "code",
   "execution_count": 73,
   "id": "65a63982",
   "metadata": {},
   "outputs": [],
   "source": [
    "from langchain_core.messages import get_buffer_string\n",
    "def save_interview(state: InterviewState):\n",
    "    \"\"\"Node to save the interview transcript.\"\"\"\n",
    "    \n",
    "    messages = state[\"messages\"]\n",
    "    \n",
    "    interview_transcript = get_buffer_string(messages)\n",
    "\n",
    "    # Here, you would typically save the transcript to a database or file.\n",
    "    # For this example, we'll just return it in the state.\n",
    "    return {\"interview\": interview_transcript}"
   ]
  },
  {
   "cell_type": "code",
   "execution_count": 74,
   "id": "567e672c",
   "metadata": {},
   "outputs": [],
   "source": [
    "section_writing_instruction=\"\"\"\n",
    "You are an expert research analyst tasked with writing sections based on the interview transcript and the answer provided.\n",
    "interview_content: {interview}\n",
    "answer_content: {answer}\n",
    "You will write sections based on the interview content and the answer provided.\n",
    "\n",
    "Create a report structure using markdown formatting:\n",
    "- Use ## for the section title\n",
    "- Use ### for sub-section headers\n",
    "- Use bullet points for key insights and findings\n",
    "\n",
    "Write the report following this structure:\n",
    "a. Title (## header)\n",
    "b. Summary (### header)\n",
    "c. Sources (### header)\n",
    "\n",
    "Make your title engaging based upon the focus area of the analyst: \n",
    "{focus}\n",
    "\n",
    "For summary, provide a concise overview of the key insights and findings from the interview and answer.\n",
    "Emphasize what is novel, interesting, or surprising about insights gathered from the interview\n",
    "Do not mention the names of interviewers or experts.\n",
    "Summary should be relevant to the topic discussed and not more than 1000 words.\n",
    "\n",
    "For sources, list all the sources referenced in the answer section.\n",
    "Ensure the report is well-organized, clear, and easy to read.\n",
    "\n",
    "### Sources\n",
    "[1] Link or Document name\n",
    "[2] Link or Document name\n",
    "\n",
    "Be sure to combine sources. For example this is not correct:\n",
    "\n",
    "[3] https://ai.meta.com/blog/meta-llama-3-1/\n",
    "[4] https://ai.meta.com/blog/meta-llama-3-1/\n",
    "\n",
    "There should be no redundant sources. It should simply be:\n",
    "\n",
    "[3] https://ai.meta.com/blog/meta-llama-3-1/\n",
    "\n",
    "Final review:\n",
    "- Ensure the report follows the required structure\n",
    "- Include no preamble before the title of the report\n",
    "- Check that all guidelines have been followed\"\"\""
   ]
  },
  {
   "cell_type": "code",
   "execution_count": 75,
   "id": "cbe6de2b",
   "metadata": {},
   "outputs": [],
   "source": [
    "def write_sections(state: InterviewState):\n",
    "    \"\"\"Node to write sections based on the interview and answer.\"\"\"\n",
    "    \n",
    "    interview = state[\"interview\"]\n",
    "    answer = state[\"answer\"][0].content\n",
    "    focus = state[\"topic\"]\n",
    "\n",
    "    # Generate the section writing prompt\n",
    "    prompt = section_writing_instruction.format(\n",
    "        interview=interview,\n",
    "        answer=answer,\n",
    "        focus=focus\n",
    "    )\n",
    "    \n",
    "\n",
    "    system_message = SystemMessage(content=prompt)\n",
    "    sections = llm.invoke([system_message]+[HumanMessage(content=\"Write the report sections based on the interview and answer provided\")])\n",
    "\n",
    "    # Return updated state with the written sections\n",
    "    return {\"sections\": [sections]}"
   ]
  },
  {
   "cell_type": "code",
   "execution_count": 76,
   "id": "da7aba92",
   "metadata": {},
   "outputs": [
    {
     "data": {
      "text/plain": [
       "{'max_num_turns': 2,\n",
       " 'turn_count': 0,\n",
       " 'context': [],\n",
       " 'analyst': Analyst(name='Dr. Emily Chen', role='Fitness Technology Specialist', affiliation='TechFit Innovations', description='Dr. Chen focuses on the integration of wearable technology and AI in fitness, exploring how these advancements can enhance personal training and health monitoring.'),\n",
       " 'interview': '',\n",
       " 'sections': [],\n",
       " 'messages': [HumanMessage(content='hi do the proper search according to the expertise', additional_kwargs={}, response_metadata={}, id='82fdf665-f66b-41af-8fbc-ee7d525b05c9')],\n",
       " 'topic': 'Fiteness and Wellness Trends in 2024',\n",
       " 'answer': []}"
      ]
     },
     "execution_count": 76,
     "metadata": {},
     "output_type": "execute_result"
    }
   ],
   "source": [
    "interview_state"
   ]
  },
  {
   "cell_type": "code",
   "execution_count": 77,
   "id": "f9d42508",
   "metadata": {},
   "outputs": [
    {
     "ename": "NameError",
     "evalue": "name 'answer' is not defined",
     "output_type": "error",
     "traceback": [
      "\u001b[31m---------------------------------------------------------------------------\u001b[39m",
      "\u001b[31mNameError\u001b[39m                                 Traceback (most recent call last)",
      "\u001b[36mCell\u001b[39m\u001b[36m \u001b[39m\u001b[32mIn[77]\u001b[39m\u001b[32m, line 1\u001b[39m\n\u001b[32m----> \u001b[39m\u001b[32m1\u001b[39m interview_state[\u001b[33m\"\u001b[39m\u001b[33manswer\u001b[39m\u001b[33m\"\u001b[39m]= \u001b[43manswer\u001b[49m[\u001b[33m'\u001b[39m\u001b[33manswer\u001b[39m\u001b[33m'\u001b[39m]\n",
      "\u001b[31mNameError\u001b[39m: name 'answer' is not defined"
     ]
    }
   ],
   "source": [
    "interview_state[\"answer\"]= answer['answer']"
   ]
  },
  {
   "cell_type": "code",
   "execution_count": 79,
   "id": "dbc43c9c",
   "metadata": {},
   "outputs": [
    {
     "data": {
      "text/plain": [
       "{'max_num_turns': 2,\n",
       " 'turn_count': 0,\n",
       " 'context': [],\n",
       " 'analyst': Analyst(name='Dr. Emily Chen', role='Fitness Technology Specialist', affiliation='TechFit Innovations', description='Dr. Chen focuses on the integration of wearable technology and AI in fitness, exploring how these advancements can enhance personal training and health monitoring.'),\n",
       " 'interview': '',\n",
       " 'sections': [],\n",
       " 'messages': [HumanMessage(content='hi do the proper search according to the expertise', additional_kwargs={}, response_metadata={}, id='82fdf665-f66b-41af-8fbc-ee7d525b05c9')],\n",
       " 'topic': 'Fiteness and Wellness Trends in 2024',\n",
       " 'answer': []}"
      ]
     },
     "execution_count": 79,
     "metadata": {},
     "output_type": "execute_result"
    }
   ],
   "source": [
    "interview_state"
   ]
  },
  {
   "cell_type": "code",
   "execution_count": 80,
   "id": "f0b199b1",
   "metadata": {},
   "outputs": [
    {
     "ename": "IndexError",
     "evalue": "list index out of range",
     "output_type": "error",
     "traceback": [
      "\u001b[31m---------------------------------------------------------------------------\u001b[39m",
      "\u001b[31mIndexError\u001b[39m                                Traceback (most recent call last)",
      "\u001b[36mCell\u001b[39m\u001b[36m \u001b[39m\u001b[32mIn[80]\u001b[39m\u001b[32m, line 1\u001b[39m\n\u001b[32m----> \u001b[39m\u001b[32m1\u001b[39m section=\u001b[43mwrite_sections\u001b[49m\u001b[43m(\u001b[49m\u001b[43minterview_state\u001b[49m\u001b[43m)\u001b[49m\n",
      "\u001b[36mCell\u001b[39m\u001b[36m \u001b[39m\u001b[32mIn[75]\u001b[39m\u001b[32m, line 5\u001b[39m, in \u001b[36mwrite_sections\u001b[39m\u001b[34m(state)\u001b[39m\n\u001b[32m      2\u001b[39m \u001b[38;5;250m\u001b[39m\u001b[33;03m\"\"\"Node to write sections based on the interview and answer.\"\"\"\u001b[39;00m\n\u001b[32m      4\u001b[39m interview = state[\u001b[33m\"\u001b[39m\u001b[33minterview\u001b[39m\u001b[33m\"\u001b[39m]\n\u001b[32m----> \u001b[39m\u001b[32m5\u001b[39m answer = \u001b[43mstate\u001b[49m\u001b[43m[\u001b[49m\u001b[33;43m\"\u001b[39;49m\u001b[33;43manswer\u001b[39;49m\u001b[33;43m\"\u001b[39;49m\u001b[43m]\u001b[49m\u001b[43m[\u001b[49m\u001b[32;43m0\u001b[39;49m\u001b[43m]\u001b[49m.content\n\u001b[32m      6\u001b[39m focus = state[\u001b[33m\"\u001b[39m\u001b[33mtopic\u001b[39m\u001b[33m\"\u001b[39m]\n\u001b[32m      8\u001b[39m \u001b[38;5;66;03m# Generate the section writing prompt\u001b[39;00m\n",
      "\u001b[31mIndexError\u001b[39m: list index out of range"
     ]
    }
   ],
   "source": [
    "section=write_sections(interview_state)"
   ]
  },
  {
   "cell_type": "code",
   "execution_count": 81,
   "id": "c85b3aed",
   "metadata": {},
   "outputs": [
    {
     "ename": "NameError",
     "evalue": "name 'section' is not defined",
     "output_type": "error",
     "traceback": [
      "\u001b[31m---------------------------------------------------------------------------\u001b[39m",
      "\u001b[31mNameError\u001b[39m                                 Traceback (most recent call last)",
      "\u001b[36mCell\u001b[39m\u001b[36m \u001b[39m\u001b[32mIn[81]\u001b[39m\u001b[32m, line 1\u001b[39m\n\u001b[32m----> \u001b[39m\u001b[32m1\u001b[39m \u001b[38;5;28mprint\u001b[39m(\u001b[43msection\u001b[49m[\u001b[33m'\u001b[39m\u001b[33msections\u001b[39m\u001b[33m'\u001b[39m][\u001b[32m0\u001b[39m].content)\n",
      "\u001b[31mNameError\u001b[39m: name 'section' is not defined"
     ]
    }
   ],
   "source": [
    "print(section['sections'][0].content)"
   ]
  },
  {
   "cell_type": "markdown",
   "id": "c9a7dbe3",
   "metadata": {},
   "source": []
  },
  {
   "cell_type": "markdown",
   "id": "ed559a1a",
   "metadata": {},
   "source": [
    "Now we will automate the flow"
   ]
  },
  {
   "cell_type": "code",
   "execution_count": 82,
   "id": "a5740ae3",
   "metadata": {},
   "outputs": [
    {
     "data": {
      "text/plain": [
       "<langgraph.graph.state.StateGraph at 0x242fa639f50>"
      ]
     },
     "execution_count": 82,
     "metadata": {},
     "output_type": "execute_result"
    }
   ],
   "source": [
    "interview_builder=StateGraph(InterviewState)\n",
    "interview_builder.add_node(\"generation_question\",generation_question)\n",
    "interview_builder.add_node(\"search_web\",search_web)\n",
    "#interview_builder.add_node(\"wiki_search\",search_wiki)\n",
    "interview_builder.add_node(\"generate_answer\",generate_answer)\n",
    "interview_builder.add_node(\"save_interview\",save_interview)\n",
    "interview_builder.add_node(\"write_sections\",write_sections)\n",
    "interview_builder.add_edge(START,\"generation_question\")\n",
    "interview_builder.add_edge(\"generation_question\",\"search_web\")\n",
    "#interview_builder.add_edge(\"generation_question\",\"wiki_search\")\n",
    "interview_builder.add_edge(\"search_web\",\"generate_answer\")\n",
    "#interview_builder.add_edge(\"wiki_search\",\"generate_answer\")\n",
    "interview_builder.add_conditional_edges(\"generate_answer\",\n",
    "                                      route_message,\n",
    "                                      {\n",
    "                                        \"ask_question\": \"generation_question\",\n",
    "                                        \"save_interview\": \"save_interview\"\n",
    "                                      }\n",
    "                                     )\n",
    "interview_builder.add_edge(\"save_interview\",\"write_sections\")\n",
    "interview_builder.add_edge(\"write_sections\",END)\n"
   ]
  },
  {
   "cell_type": "code",
   "execution_count": 83,
   "id": "9a3dc90b",
   "metadata": {},
   "outputs": [],
   "source": [
    "interview_graph=interview_builder.compile(checkpointer=memory).with_config(run_name=\"conduct_interview\")"
   ]
  },
  {
   "cell_type": "code",
   "execution_count": 84,
   "id": "aaf13887",
   "metadata": {},
   "outputs": [
    {
     "data": {
      "image/png": "[encoded data removed]",
      "text/plain": [
       "<IPython.core.display.Image object>"
      ]
     },
     "metadata": {},
     "output_type": "display_data"
    }
   ],
   "source": [
    "display(Image(interview_graph.get_graph().draw_mermaid_png()))"
   ]
  },
  {
   "cell_type": "code",
   "execution_count": 85,
   "id": "e64acc4c",
   "metadata": {},
   "outputs": [
    {
     "data": {
      "text/plain": [
       "Analyst(name='Dr. Emily Chen', role='Fitness Technology Specialist', affiliation='TechFit Innovations', description='Dr. Chen focuses on the integration of wearable technology and AI in fitness, exploring how these advancements can enhance personal training and health monitoring.')"
      ]
     },
     "execution_count": 85,
     "metadata": {},
     "output_type": "execute_result"
    }
   ],
   "source": [
    "analyst1"
   ]
  },
  {
   "cell_type": "code",
   "execution_count": 86,
   "id": "579b8efe",
   "metadata": {},
   "outputs": [
    {
     "data": {
      "text/plain": [
       "{'max_num_turns': 2,\n",
       " 'turn_count': 0,\n",
       " 'context': [],\n",
       " 'analyst': Analyst(name='Dr. Emily Chen', role='Fitness Technology Specialist', affiliation='TechFit Innovations', description='Dr. Chen focuses on the integration of wearable technology and AI in fitness, exploring how these advancements can enhance personal training and health monitoring.'),\n",
       " 'interview': '',\n",
       " 'sections': [],\n",
       " 'messages': [HumanMessage(content='hi do the proper search according to the expertise', additional_kwargs={}, response_metadata={}, id='82fdf665-f66b-41af-8fbc-ee7d525b05c9')],\n",
       " 'topic': 'Fiteness and Wellness Trends in 2024',\n",
       " 'answer': []}"
      ]
     },
     "execution_count": 86,
     "metadata": {},
     "output_type": "execute_result"
    }
   ],
   "source": [
    "interview_state"
   ]
  },
  {
   "cell_type": "code",
   "execution_count": 87,
   "id": "1a901cb0",
   "metadata": {},
   "outputs": [],
   "source": [
    "interview_state = InterviewState(\n",
    "    max_num_turns=2,\n",
    "    turn_count=0,\n",
    "    context=[],\n",
    "    analyst=analyst1,\n",
    "    interview=\"\",\n",
    "    sections=[],   # ✅ must match the field name\n",
    "    messages=[HumanMessage(content=\"hi do the proper search according to the expertise\")],\n",
    "    topic=final_state.values.get('topic'), # this has a valid value,\n",
    "    answer=[]\n",
    ")"
   ]
  },
  {
   "cell_type": "code",
   "execution_count": 88,
   "id": "3cb7f20d",
   "metadata": {},
   "outputs": [
    {
     "data": {
      "text/plain": [
       "{'max_num_turns': 2,\n",
       " 'turn_count': 0,\n",
       " 'context': [],\n",
       " 'analyst': Analyst(name='Dr. Emily Chen', role='Fitness Technology Specialist', affiliation='TechFit Innovations', description='Dr. Chen focuses on the integration of wearable technology and AI in fitness, exploring how these advancements can enhance personal training and health monitoring.'),\n",
       " 'interview': '',\n",
       " 'sections': [],\n",
       " 'messages': [HumanMessage(content='hi do the proper search according to the expertise', additional_kwargs={}, response_metadata={})],\n",
       " 'topic': 'Fiteness and Wellness Trends in 2024',\n",
       " 'answer': []}"
      ]
     },
     "execution_count": 88,
     "metadata": {},
     "output_type": "execute_result"
    }
   ],
   "source": [
    "interview_state"
   ]
  },
  {
   "cell_type": "code",
   "execution_count": 89,
   "id": "c2e33c68",
   "metadata": {},
   "outputs": [],
   "source": [
    "thread = {\"configurable\": {\"thread_id\": \"8\"}}"
   ]
  },
  {
   "cell_type": "code",
   "execution_count": 90,
   "id": "ed23a699",
   "metadata": {},
   "outputs": [
    {
     "name": "stderr",
     "output_type": "stream",
     "text": [
      "HTTP Request: POST https://api.openai.com/v1/chat/completions \"HTTP/1.1 200 OK\"\n",
      "HTTP Request: POST https://api.openai.com/v1/chat/completions \"HTTP/1.1 200 OK\"\n",
      "HTTP Request: POST https://api.openai.com/v1/chat/completions \"HTTP/1.1 200 OK\"\n"
     ]
    },
    {
     "name": "stdout",
     "output_type": "stream",
     "text": [
      "Routing... Turn 1/2\n"
     ]
    },
    {
     "name": "stderr",
     "output_type": "stream",
     "text": [
      "HTTP Request: POST https://api.openai.com/v1/chat/completions \"HTTP/1.1 200 OK\"\n",
      "HTTP Request: POST https://api.openai.com/v1/chat/completions \"HTTP/1.1 200 OK\"\n",
      "HTTP Request: POST https://api.openai.com/v1/chat/completions \"HTTP/1.1 200 OK\"\n"
     ]
    },
    {
     "name": "stdout",
     "output_type": "stream",
     "text": [
      "Routing... Turn 2/2\n"
     ]
    },
    {
     "name": "stderr",
     "output_type": "stream",
     "text": [
      "HTTP Request: POST https://api.openai.com/v1/chat/completions \"HTTP/1.1 200 OK\"\n",
      "HTTP Request: POST https://api.openai.com/v1/chat/completions \"HTTP/1.1 200 OK\"\n",
      "HTTP Request: POST https://api.openai.com/v1/chat/completions \"HTTP/1.1 200 OK\"\n"
     ]
    },
    {
     "name": "stdout",
     "output_type": "stream",
     "text": [
      "Routing... Turn 3/2\n"
     ]
    },
    {
     "name": "stderr",
     "output_type": "stream",
     "text": [
      "HTTP Request: POST https://api.openai.com/v1/chat/completions \"HTTP/1.1 200 OK\"\n"
     ]
    }
   ],
   "source": [
    "interview = interview_graph.invoke(interview_state, thread)"
   ]
  },
  {
   "cell_type": "code",
   "execution_count": 91,
   "id": "d80a66f4",
   "metadata": {},
   "outputs": [],
   "source": [
    "from IPython.display import Markdown"
   ]
  },
  {
   "cell_type": "code",
   "execution_count": 98,
   "id": "8fbac742",
   "metadata": {},
   "outputs": [
    {
     "data": {
      "text/markdown": [
       "## Fitness and Wellness Trends in 2024\n",
       "\n",
       "### Summary\n",
       "\n",
       "In 2024, the landscape of personal training is poised for transformation through significant advancements in wearable technology. These devices are evolving beyond simple fitness trackers into comprehensive health monitoring tools. The most surprising development is the integration of advanced biometric tracking and real-time data analysis, which allows for highly personalized workout suggestions that adapt dynamically as users' fitness levels change. This innovation ensures that personal training is not only more tailored but also more responsive to individual needs.\n",
       "\n",
       "Wearable technology now provides users with detailed insights into various health metrics, including heart rate and glucose levels, offering a holistic view of their fitness and health status. This capability empowers personal trainers to design customized exercise routines and deliver real-time feedback, enhancing the coaching experience while preserving the essential human touch. The fusion of technology and personal training is set to redefine how individuals approach fitness, making it more efficient and personalized than ever before.\n",
       "\n",
       "### Sources\n",
       "\n",
       "[1] forbes.com  \n",
       "[2] mckinsey.com  \n",
       "[3] theclubathammockbeach.com  \n",
       "[4] ignite.abcfitness.com  \n",
       "[5] atpconnect.org  "
      ],
      "text/plain": [
       "<IPython.core.display.Markdown object>"
      ]
     },
     "execution_count": 98,
     "metadata": {},
     "output_type": "execute_result"
    }
   ],
   "source": [
    "Markdown(interview['sections'][0].content)"
   ]
  },
  {
   "cell_type": "code",
   "execution_count": 99,
   "id": "cb191da9",
   "metadata": {},
   "outputs": [
    {
     "data": {
      "text/plain": [
       "{'messages': [HumanMessage(content='hi do the proper search according to the expertise', additional_kwargs={}, response_metadata={}, id='8dd09887-cd4f-4768-b924-f74446066d36'),\n",
       "  AIMessage(content=\"Hello, I'm Alex Thompson, a journalist with a keen interest in the intersection of technology and wellness. I'm thrilled to have the opportunity to speak with you, Dr. Chen, about the fitness and wellness trends we can expect to see in 2024. To start, could you share some insights into the most surprising advancements in wearable technology that are set to impact personal training next year?\", additional_kwargs={'refusal': None}, response_metadata={'token_usage': {'completion_tokens': 77, 'prompt_tokens': 246, 'total_tokens': 323, 'completion_tokens_details': {'accepted_prediction_tokens': 0, 'audio_tokens': 0, 'reasoning_tokens': 0, 'rejected_prediction_tokens': 0}, 'prompt_tokens_details': {'audio_tokens': 0, 'cached_tokens': 0}}, 'model_name': 'gpt-4o-2024-08-06', 'system_fingerprint': 'fp_65564d8ba5', 'id': 'chatcmpl-CT4w9Q2gpNroHbRUHLPNO3VEILapY', 'service_tier': 'default', 'finish_reason': 'stop', 'logprobs': None}, id='run--56f86551-2995-4c59-89d7-806142776394-0', usage_metadata={'input_tokens': 246, 'output_tokens': 77, 'total_tokens': 323, 'input_token_details': {'audio': 0, 'cache_read': 0}, 'output_token_details': {'audio': 0, 'reasoning': 0}}),\n",
       "  AIMessage(content=\"Hello, I'm Alex Thompson, a journalist with a keen interest in the intersection of technology and wellness. I'm thrilled to have the opportunity to speak with you, Dr. Chen, about the fitness and wellness trends we can expect to see in 2024. To start, could you share some insights into the most surprising advancements in wearable technology that are set to impact personal training next year?\", additional_kwargs={'refusal': None}, response_metadata={'token_usage': {'completion_tokens': 77, 'prompt_tokens': 327, 'total_tokens': 404, 'completion_tokens_details': {'accepted_prediction_tokens': 0, 'audio_tokens': 0, 'reasoning_tokens': 0, 'rejected_prediction_tokens': 0}, 'prompt_tokens_details': {'audio_tokens': 0, 'cached_tokens': 0}}, 'model_name': 'gpt-4o-2024-08-06', 'system_fingerprint': 'fp_65564d8ba5', 'id': 'chatcmpl-CT4wLSQ4jR3zUpQVVWcsS9i9Ucojq', 'service_tier': 'default', 'finish_reason': 'stop', 'logprobs': None}, id='run--bfd4bf61-7192-44f7-8a74-fbef71277858-0', usage_metadata={'input_tokens': 327, 'output_tokens': 77, 'total_tokens': 404, 'input_token_details': {'audio': 0, 'cache_read': 0}, 'output_token_details': {'audio': 0, 'reasoning': 0}}),\n",
       "  AIMessage(content=\"Hello, I'm Alex Thompson, a journalist with a keen interest in the intersection of technology and wellness. I'm thrilled to have the opportunity to speak with you, Dr. Chen, about the fitness and wellness trends we can expect to see in 2024. To start, could you share some insights into the most surprising advancements in wearable technology that are set to impact personal training next year?\", additional_kwargs={'refusal': None}, response_metadata={'token_usage': {'completion_tokens': 77, 'prompt_tokens': 408, 'total_tokens': 485, 'completion_tokens_details': {'accepted_prediction_tokens': 0, 'audio_tokens': 0, 'reasoning_tokens': 0, 'rejected_prediction_tokens': 0}, 'prompt_tokens_details': {'audio_tokens': 0, 'cached_tokens': 0}}, 'model_name': 'gpt-4o-2024-08-06', 'system_fingerprint': 'fp_65564d8ba5', 'id': 'chatcmpl-CT4wWAyyv1e47nUfwKzNhRMTMPqMg', 'service_tier': 'default', 'finish_reason': 'stop', 'logprobs': None}, id='run--106a0234-391e-4070-8715-709f5c8899cd-0', usage_metadata={'input_tokens': 408, 'output_tokens': 77, 'total_tokens': 485, 'input_token_details': {'audio': 0, 'cache_read': 0}, 'output_token_details': {'audio': 0, 'reasoning': 0}})],\n",
       " 'topic': 'Fiteness and Wellness Trends in 2024',\n",
       " 'max_num_turns': 2,\n",
       " 'turn_count': 3,\n",
       " 'context': [\"source=https://www.forbes.com/councils/forbestechcouncil/2025/02/13/wearable-tech-is-changing-fitness-heres-how-studios-can-keep-up/ \\n content=By integrating wearable tech, studios can deliver personalized experiences, build stronger customer connections, gain a competitive edge…and much more. **Customer Expectations:** Studios like Orangetheory Fitness meet the demand for data-driven experiences by integrating heart rate monitors into workouts for real-time performance tracking and coaching. Combined with the data collected, fitness studios have limitless opportunities to reimagine how they engage their customers. While every studio’s needs may differ, there are universal ways you can use wearable tech to make meaningful impact. **Service Enhancements:** Let members pre-order refreshments through wearable apps, with reminders based on hydration or glucose data. **Branded Wearable Devices:** Offer pre-configured devices with studio-exclusive features like workout plans or challenges. Studios that integrate wearable insights can strengthen customer relationships and thrive in a tech-driven market.\\n\\nsource=https://www.mckinsey.com/industries/consumer-packaged-goods/our-insights/the-trends-defining-the-1-point-8-trillion-dollar-global-wellness-market-in-2024 \\n content=This is especially true among Gen Z and millennial consumers, who are now purchasing more wellness products and services than older generations, across the same dimensions we outlined in our previous research: health, sleep, nutrition, fitness, appearance, and mindfulness (Exhibit 1).1“Still feeling good: The US wellness market continues to boom,” McKinsey, September 19, 2022. Wearables makers and health product and services providers in areas such as nutrition, fitness, and sleep can explore partnerships that try to make the data collected through wearable devices actionable, which could drive greater behavioral change among consumers. Consumers said they are most influenced by doctors’ recommendations when seeking care related to mindfulness, sleep, and overall health (which includes the use of vitamins, over-the-counter medications, and personal- and home-care products).\\n\\nsource=https://www.theclubathammockbeach.com/blogs/fitness-trends-technology-ai \\n content=### [February's Member Class Schedule at The Club at Hammock Beach](https://www.theclubathammockbeach.com/hubfs/Email%20Docs/Fitness/2025/February%202025%20Fitness%20Calendar.pdf) [Our instructors](https://www.hammockbeach.com/site/assets/files/1/personal_training_pricing_flyer_2024.pdf) meet with all new club members to discuss their fitness goals, assess their overall health and fitness level, tour each machine in our facility to ensure they will know how to get the most out of the technology, and give them a one-on-one training session to start their journey. Personal trainers like those at [the Club at Hammock Beach](https://www.theclubathammockbeach.com/blogs)can incorporate AI not only into workouts but also into the analysis of client data like fitness level, goals, and health conditions, curating tailored exercise routines, providing real-time feedback on form and tracking progress with wearable data all while maintaining the human element of personalized coaching.\\n\\nsource=https://ignite.abcfitness.com/biggest-fitness-consumer-trends-in-2024/ \\n content=+ ABC Fitness From the integration of holistic health practices to the rise of digital platforms and AI, let’s explore the five most significant fitness consumer trends that are reshaping the industry this year. Overall, understanding the preferences and comfort levels of different age groups is essential for gyms and studios to provide tailored digital fitness experiences. Personalization has become a cornerstone for fitness business owners, driven by growing expectations for individualized experiences that cater to members’ unique preferences and goals. Fitness businesses are increasingly focusing on understanding member behaviors and preferences to offer personalized classes and programs that enhance member engagement and satisfaction. ### ***Get a 360-degree view of your business with ABC Ignite and make data-driven decisions that help your fitness business adapt and grow.***\\n\\nsource=https://atpconnect.org/wearable-technology-advancements-the-future-is-on-your-wrist-and-beyond/ \\n content=From advanced health monitoring, lifestyle and fitness watches, gaming, and workplace innovations, wearable tech is becoming ubiquitous and necessary in some industries. Wearable technology is revolutionizing health monitoring. Devices like continuous glucose monitors, blood pressure trackers, and advanced sleep analysis tools go beyond basic metrics, providing actionable data to enable individuals to manage their daily health. That said, fitness and lifestyle wearables are trending upward as technological advancements make them more accurate, versatile, and accessible, appealing to a broader range of users. Smartwatches, augmented reality (AR) glasses, and wearable sensors aren’t just tech trends; they are transformative tools that improve workplace safety, communication, and efficiency, ultimately reshaping businesses’ operations. The wearable tech industry is revolutionizing lifestyle, health, and fitness management, as well as safety, collaboration, and communication.\",\n",
       "  'source=https://thesweatbox.ca/the-future-of-personal-training-trends-to-watch-in-2024/ \\n content=We can expect personal trainers to start incorporating wearable technology like fitness trackers and smartwatches into their training programs.\\n\\nsource=https://www.marianatek.com/blog/wearable-tech-evolution-8-trends-shaping-fitness-studios-in-2024/ \\n content=# Wearable Tech Evolution: 8 Trends Shaping Fitness Studios in 2024 ## **8 Key Trends Shaping Wearable Tech in Fitness Studios** The future of wearable tech in fitness studios is being significantly shaped by enhanced biometric tracking. **Real-World Scenario:**\\xa0Consider a fitness enthusiast, Sarah, who uses a wearable tracker during her workouts at the local studio. These technologies enable wearables to analyze data in real-time and provide personalized workout suggestions, adapting as the user’s fitness level changes. **Real-World Scenario:**\\xa0A local fitness studio organizes a monthly challenge where members use their wearables to track their progress and compete with each other. Dive into **Next-Gen Fitness: Your Studio’s Guide to Wearable Tech** to stay ahead of the trends.\\n\\nsource=https://medium.com/@kristanvihaan11/tech-driven-fitness-the-evolution-of-home-workouts-in-2024-227045bdc665 \\n content=Advanced wearables such as smartwatches and fitness trackers are now equipped with more accurate health metrics, including heart rate\\n\\nsource=https://www.westrive.com/blog/how-wearable-tech-is-changing-the-fitness-game-in-2024 \\n content=One of the biggest advantages of wearable fitness technology is its ability to provide users with real-time, personalized data. Wearables often come with companion apps that store this data in a user-friendly format, allowing users to track their personal fitness evolution. While fitness trackers initially focused on activity and exercise, modern wearables are evolving into holistic health monitoring devices. Artificial intelligence (AI) and machine learning are already being integrated into some wearables, offering users personalized workout plans based on their fitness data. Wearable tech is revolutionizing the fitness world by offering real-time data, personalized insights, and enhanced motivation to users. From tracking progress to improving recovery and promoting holistic health, these devices provide a comprehensive approach to fitness that helps individuals achieve their goals more effectively.\\n\\nsource=https://www.fitpro.com/blog/top-fitness-trends-2024/ \\n content=Wearable tech hits the top spot for 2024. Devices such as smart watches, fitness trackers and heart rate monitors can include real-time information about pulse',\n",
       "  'source=https://www.technogym.com/my/newsroom/2024-exercise-trends/ \\n content=# 2024 Exercise Trends: digitally-led personalization, health and professional services The ACSM’s annual trends survey is a crucial tool for wellness facilities and independent professionals in the health and fitness industry. Biocircuit, Technogym’s circuit training solution, is **ideal for the senior demographics** thanks to its guided program that delivers an engaging experience that requires no adjustments or wait time, since exercises, workload, work/rest ratio and pace have been defined and integrated into personalized programs. These trends collectively depict a fitness landscape where wearable technology remains a focal point, employers prioritize employee wellness, an aging population drives the demand for fitness programs tailored to older adults, and various other developments shape the industry’s trajectory.\\n\\nsource=https://www.mckinsey.com/industries/consumer-packaged-goods/our-insights/the-trends-defining-the-1-point-8-trillion-dollar-global-wellness-market-in-2024 \\n content=This is especially true among Gen Z and millennial consumers, who are now purchasing more wellness products and services than older generations, across the same dimensions we outlined in our previous research: health, sleep, nutrition, fitness, appearance, and mindfulness (Exhibit 1).1“Still feeling good: The US wellness market continues to boom,” McKinsey, September 19, 2022. Wearables makers and health product and services providers in areas such as nutrition, fitness, and sleep can explore partnerships that try to make the data collected through wearable devices actionable, which could drive greater behavioral change among consumers. Consumers said they are most influenced by doctors’ recommendations when seeking care related to mindfulness, sleep, and overall health (which includes the use of vitamins, over-the-counter medications, and personal- and home-care products).\\n\\nsource=https://www.theclubathammockbeach.com/blogs/fitness-trends-technology-ai \\n content=### [February\\'s Member Class Schedule at The Club at Hammock Beach](https://www.theclubathammockbeach.com/hubfs/Email%20Docs/Fitness/2025/February%202025%20Fitness%20Calendar.pdf) [Our instructors](https://www.hammockbeach.com/site/assets/files/1/personal_training_pricing_flyer_2024.pdf) meet with all new club members to discuss their fitness goals, assess their overall health and fitness level, tour each machine in our facility to ensure they will know how to get the most out of the technology, and give them a one-on-one training session to start their journey. Personal trainers like those at [the Club at Hammock Beach](https://www.theclubathammockbeach.com/blogs)can incorporate AI not only into workouts but also into the analysis of client data like fitness level, goals, and health conditions, curating tailored exercise routines, providing real-time feedback on form and tracking progress with wearable data all while maintaining the human element of personalized coaching.\\n\\nsource=https://www.forinsightsconsultancy.com/reports/wearable-health-technology-market \\n content=Afrikaans Arabic Chinese (Simplified)\") Czech Dutch English French German Greek Hebrew Indonesian Italian Japanese Korean Latin Malay Portuguese Russian Spanish Swahili Thai Turkish Vietnamese Zulu ### One Comment * Why the Future of Health Is Local, Personal, and Always On | Swaay.Health […] expect from retail. It’s no wonder the global wearable health tech market is projected to reach $174 billion by […] Comments are closed. ## Contact Details ###### India Office: Flat No. 14, Runwal Enclave, Karve Road, Kothrud, Pune, Maharashtra, India- 411038 ###### US Office: 741 New South Head Rd, Triple Bay SWFW 3148, New York info@forinsightsconsultancy.com Follow us Linkedin-in X-twitter Pinterest Youtube ## Services We Cater Copyright 2024 | All Rights are Reserved by For Insights Consultancy\\n\\nsource=https://atpconnect.org/wearable-technology-advancements-the-future-is-on-your-wrist-and-beyond/ \\n content=From advanced health monitoring, lifestyle and fitness watches, gaming, and workplace innovations, wearable tech is becoming ubiquitous and necessary in some industries. Wearable technology is revolutionizing health monitoring. Devices like continuous glucose monitors, blood pressure trackers, and advanced sleep analysis tools go beyond basic metrics, providing actionable data to enable individuals to manage their daily health. That said, fitness and lifestyle wearables are trending upward as technological advancements make them more accurate, versatile, and accessible, appealing to a broader range of users. Smartwatches, augmented reality (AR) glasses, and wearable sensors aren’t just tech trends; they are transformative tools that improve workplace safety, communication, and efficiency, ultimately reshaping businesses’ operations. The wearable tech industry is revolutionizing lifestyle, health, and fitness management, as well as safety, collaboration, and communication.'],\n",
       " 'analyst': Analyst(name='Dr. Emily Chen', role='Fitness Technology Specialist', affiliation='TechFit Innovations', description='Dr. Chen focuses on the integration of wearable technology and AI in fitness, exploring how these advancements can enhance personal training and health monitoring.'),\n",
       " 'interview': \"Human: hi do the proper search according to the expertise\\nAI: Hello, I'm Alex Thompson, a journalist with a keen interest in the intersection of technology and wellness. I'm thrilled to have the opportunity to speak with you, Dr. Chen, about the fitness and wellness trends we can expect to see in 2024. To start, could you share some insights into the most surprising advancements in wearable technology that are set to impact personal training next year?\\nAI: Hello, I'm Alex Thompson, a journalist with a keen interest in the intersection of technology and wellness. I'm thrilled to have the opportunity to speak with you, Dr. Chen, about the fitness and wellness trends we can expect to see in 2024. To start, could you share some insights into the most surprising advancements in wearable technology that are set to impact personal training next year?\\nAI: Hello, I'm Alex Thompson, a journalist with a keen interest in the intersection of technology and wellness. I'm thrilled to have the opportunity to speak with you, Dr. Chen, about the fitness and wellness trends we can expect to see in 2024. To start, could you share some insights into the most surprising advancements in wearable technology that are set to impact personal training next year?\",\n",
       " 'sections': [AIMessage(content=\"## Fitness and Wellness Trends in 2024\\n\\n### Summary\\n\\nIn 2024, the landscape of personal training is poised for transformation through significant advancements in wearable technology. These devices are evolving beyond simple fitness trackers into comprehensive health monitoring tools. The most surprising development is the integration of advanced biometric tracking and real-time data analysis, which allows for highly personalized workout suggestions that adapt dynamically as users' fitness levels change. This innovation ensures that personal training is not only more tailored but also more responsive to individual needs.\\n\\nWearable technology now provides users with detailed insights into various health metrics, including heart rate and glucose levels, offering a holistic view of their fitness and health status. This capability empowers personal trainers to design customized exercise routines and deliver real-time feedback, enhancing the coaching experience while preserving the essential human touch. The fusion of technology and personal training is set to redefine how individuals approach fitness, making it more efficient and personalized than ever before.\\n\\n### Sources\\n\\n[1] forbes.com  \\n[2] mckinsey.com  \\n[3] theclubathammockbeach.com  \\n[4] ignite.abcfitness.com  \\n[5] atpconnect.org  \", additional_kwargs={'refusal': None}, response_metadata={'token_usage': {'completion_tokens': 234, 'prompt_tokens': 780, 'total_tokens': 1014, 'completion_tokens_details': {'accepted_prediction_tokens': 0, 'audio_tokens': 0, 'reasoning_tokens': 0, 'rejected_prediction_tokens': 0}, 'prompt_tokens_details': {'audio_tokens': 0, 'cached_tokens': 0}}, 'model_name': 'gpt-4o-2024-08-06', 'system_fingerprint': 'fp_cbf1785567', 'id': 'chatcmpl-CT4weFm5d27Igko7R680MvNHbSwpO', 'service_tier': 'default', 'finish_reason': 'stop', 'logprobs': None}, id='run--e1741cbb-f8ed-429e-8613-9f3565d2fd71-0', usage_metadata={'input_tokens': 780, 'output_tokens': 234, 'total_tokens': 1014, 'input_token_details': {'audio': 0, 'cache_read': 0}, 'output_token_details': {'audio': 0, 'reasoning': 0}})],\n",
       " 'answer': [AIMessage(content=\"In 2024, wearable technology is set to significantly impact personal training by offering advanced biometric tracking and real-time data analysis. These advancements allow for personalized workout suggestions that adapt as the user's fitness level changes. Wearable devices are evolving into holistic health monitoring tools, providing users with comprehensive insights into their fitness progress and health metrics, such as heart rate and glucose levels. This technology enables personal trainers to curate tailored exercise routines and provide real-time feedback, enhancing the personalized coaching experience while maintaining the human element [1][2][3][4][5].\\n\\nSources:\\n[1] forbes.com\\n[2] mckinsey.com\\n[3] theclubathammockbeach.com\\n[4] ignite.abcfitness.com\\n[5] atpconnect.org\", additional_kwargs={'refusal': None}, response_metadata={'token_usage': {'completion_tokens': 156, 'prompt_tokens': 3102, 'total_tokens': 3258, 'completion_tokens_details': {'accepted_prediction_tokens': 0, 'audio_tokens': 0, 'reasoning_tokens': 0, 'rejected_prediction_tokens': 0}, 'prompt_tokens_details': {'audio_tokens': 0, 'cached_tokens': 1024}}, 'model_name': 'gpt-4o-2024-08-06', 'system_fingerprint': 'fp_eb3c3cb84d', 'id': 'chatcmpl-CT4wa3vQtouxFxM3Ly0r7mcTUF8MD', 'service_tier': 'default', 'finish_reason': 'stop', 'logprobs': None}, id='run--e5b99da2-8427-413a-8073-2a17c6fe0fdc-0', usage_metadata={'input_tokens': 3102, 'output_tokens': 156, 'total_tokens': 3258, 'input_token_details': {'audio': 0, 'cache_read': 1024}, 'output_token_details': {'audio': 0, 'reasoning': 0}})]}"
      ]
     },
     "execution_count": 99,
     "metadata": {},
     "output_type": "execute_result"
    }
   ],
   "source": [
    "interview"
   ]
  },
  {
   "cell_type": "code",
   "execution_count": null,
   "id": "e8d590fa",
   "metadata": {},
   "outputs": [],
   "source": []
  },
  {
   "cell_type": "code",
   "execution_count": null,
   "id": "440b57da",
   "metadata": {},
   "outputs": [],
   "source": []
  },
  {
   "cell_type": "code",
   "execution_count": null,
   "id": "f1e9e51f",
   "metadata": {},
   "outputs": [],
   "source": []
  },
  {
   "cell_type": "code",
   "execution_count": null,
   "id": "7267b4ea",
   "metadata": {},
   "outputs": [],
   "source": []
  },
  {
   "cell_type": "code",
   "execution_count": null,
   "id": "a118e3c4",
   "metadata": {},
   "outputs": [],
   "source": []
  },
  {
   "cell_type": "code",
   "execution_count": null,
   "id": "96b92b0f",
   "metadata": {},
   "outputs": [],
   "source": []
  },
  {
   "cell_type": "markdown",
   "id": "620ed2b4",
   "metadata": {},
   "source": [
    "reading the content from url"
   ]
  },
  {
   "cell_type": "code",
   "execution_count": null,
   "id": "55f05a84",
   "metadata": {},
   "outputs": [
    {
     "name": "stdout",
     "output_type": "stream",
     "text": [
      "\n",
      "🔍 ANSWER:\n",
      " LangGraph is an open-source framework created by LangChain that helps developers build, deploy, and manage AI agent workflows. It combines large language models (LLMs) with graph-based architectures, allowing developers to map, organize, and optimize how AI agents interact and make decisions. LangGraph provides tools and libraries to create, run, and optimize LLMs in a scalable and efficient way. It is designed for developers who want to build adaptable AI agents and offers features like customizable paths, state management, support for loops, human-in-the-loop integration, and debugging tools.\n"
     ]
    }
   ],
   "source": [
    "import os\n",
    "import requests\n",
    "from bs4 import BeautifulSoup\n",
    "from langchain.schema import HumanMessage, SystemMessage\n",
    "\n",
    "# --- Step 1: Search for topic ---\n",
    "search_results =web_search.invoke(\"what is Langgraph\")\n",
    "\n",
    "# --- Step 2: Fetch readable text from URLs ---\n",
    "def fetch_page_text(url):\n",
    "    try:\n",
    "        res = requests.get(url, timeout=10)\n",
    "        soup = BeautifulSoup(res.text, \"html.parser\")\n",
    "        text = \" \".join(p.get_text() for p in soup.find_all(\"p\"))\n",
    "        return text.strip()\n",
    "    except Exception:\n",
    "        return \"\"\n",
    "\n",
    "web_context = \"\"\n",
    "for r in search_results[\"results\"]:\n",
    "    page_text = fetch_page_text(r[\"url\"])\n",
    "    if page_text:\n",
    "        web_context += f\"\\n\\n[Source: {r['title']}] {page_text[:4000]}\"  # limit length to avoid token overflow\n",
    "\n",
    "\n",
    "\n",
    "system_prompt = \"\"\"\n",
    "You are a knowledgeable AI assistant.\n",
    "Use the given web context to answer the user's question factually.\n",
    "If unsure, say you don't know.\n",
    "\"\"\"\n",
    "\n",
    "question = \"what is langgraph.\"\n",
    "\n",
    "messages = [\n",
    "    SystemMessage(content=system_prompt),\n",
    "    HumanMessage(content=f\"Context:\\n{web_context}\\n\\nQuestion: {question}\")\n",
    "]\n",
    "\n",
    "response = llm.invoke(messages)\n",
    "print(\"\\n🔍 ANSWER:\\n\", response.content)\n"
   ]
  },
  {
   "cell_type": "markdown",
   "id": "8a7d64b8",
   "metadata": {},
   "source": [
    "\n",
    "🔍 ANSWER:\n",
    " LangGraph is an open-source framework created by LangChain that helps developers build, deploy, and manage AI agent workflows. It combines large language models (LLMs) with graph-based architectures, allowing developers to map, organize, and optimize how AI agents interact and make decisions. LangGraph provides tools and libraries to create, run, and optimize LLMs in a scalable and efficient way. It is designed for developers who want to build adaptable AI agents and offers features like customizable paths, state management, support for loops, human-in-the-loop integration, and debugging tools."
   ]
  },
  {
   "cell_type": "code",
   "execution_count": null,
   "id": "53d6c949",
   "metadata": {},
   "outputs": [
    {
     "name": "stdout",
     "output_type": "stream",
     "text": [
      "Fetching content from: https://www.datacamp.com/tutorial/langgraph-tutorial\n",
      "\n"
     ]
    }
   ],
   "source": [
    "web_context = \"\"\n",
    "for r in search_results[\"results\"]:\n",
    "    print(f\"Fetching content from: {r['url']}\")\n",
    "    page_text = fetch_page_text(r[\"url\"])\n",
    "    print(page_text)\n",
    "    if page_text:\n",
    "        web_context += f\"\\n\\n[Source: {r['title']}] {page_text[:4000]}\"\n",
    "        print(web_context)\n",
    "    break"
   ]
  },
  {
   "cell_type": "code",
   "execution_count": null,
   "id": "1cf6003c",
   "metadata": {},
   "outputs": [
    {
     "data": {
      "text/plain": [
       "''"
      ]
     },
     "execution_count": 148,
     "metadata": {},
     "output_type": "execute_result"
    }
   ],
   "source": [
    "web_context"
   ]
  },
  {
   "cell_type": "code",
   "execution_count": null,
   "id": "f1356979",
   "metadata": {},
   "outputs": [
    {
     "data": {
      "text/plain": [
       "{'url': 'https://www.datacamp.com/tutorial/langgraph-tutorial',\n",
       " 'title': 'LangGraph Tutorial: What Is LangGraph and How to Use It?',\n",
       " 'content': 'LangGraph is a library within the LangChain ecosystem that provides a framework for defining, coordinating, and executing multiple LLM agents (or chains) in a structured and efficient manner. By managing the flow of data and the sequence of operations, LangGraph allows developers to focus on the high-level logic of their applications rather than the intricacies of agent coordination. Whether you need a chatbot that can handle various types of user requests or a multi-agent system that performs complex tasks, LangGraph provides the tools to build exactly what you need. LangGraph significantly simplifies the development of complex LLM applications by providing a structured framework for managing state and coordinating agent interactions.',\n",
       " 'score': 0.94225764,\n",
       " 'raw_content': None}"
      ]
     },
     "execution_count": 151,
     "metadata": {},
     "output_type": "execute_result"
    }
   ],
   "source": [
    "r"
   ]
  },
  {
   "cell_type": "code",
   "execution_count": null,
   "id": "b256f4bb",
   "metadata": {},
   "outputs": [
    {
     "data": {
      "text/plain": [
       "16517"
      ]
     },
     "execution_count": 155,
     "metadata": {},
     "output_type": "execute_result"
    }
   ],
   "source": [
    "len(fetch_page_text(\"https://www.ibm.com/think/topics/langgraph'\"))"
   ]
  },
  {
   "cell_type": "code",
   "execution_count": null,
   "id": "409eb87c",
   "metadata": {},
   "outputs": [],
   "source": []
  }
 ],
 "metadata": {
  "kernelspec": {
   "display_name": "env (3.11.13)",
   "language": "python",
   "name": "python3"
  },
  "language_info": {
   "codemirror_mode": {
    "name": "ipython",
    "version": 3
   },
   "file_extension": ".py",
   "mimetype": "text/x-python",
   "name": "python",
   "nbconvert_exporter": "python",
   "pygments_lexer": "ipython3",
   "version": "3.11.13"
  }
 },
 "nbformat": 4,
 "nbformat_minor": 5
}
