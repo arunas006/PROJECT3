{
 "cells": [
  {
   "cell_type": "code",
   "execution_count": 1,
   "id": "6dce9120",
   "metadata": {},
   "outputs": [
    {
     "name": "stdout",
     "output_type": "stream",
     "text": [
      "all okay\n"
     ]
    }
   ],
   "source": [
    "print(\"all okay\")"
   ]
  },
  {
   "cell_type": "code",
   "execution_count": 1,
   "id": "f102fb61",
   "metadata": {},
   "outputs": [
    {
     "name": "stderr",
     "output_type": "stream",
     "text": [
      "d:\\AGENT\\PROJECT3\\env\\Lib\\site-packages\\tqdm\\auto.py:21: TqdmWarning: IProgress not found. Please update jupyter and ipywidgets. See https://ipywidgets.readthedocs.io/en/stable/user_install.html\n",
      "  from .autonotebook import tqdm as notebook_tqdm\n"
     ]
    }
   ],
   "source": [
    "from research_analyst.utils.model_loader import ModelLoader"
   ]
  },
  {
   "cell_type": "code",
   "execution_count": 3,
   "id": "a0af1ebd",
   "metadata": {},
   "outputs": [
    {
     "name": "stderr",
     "output_type": "stream",
     "text": [
      "{\"timestamp\": \"2025-10-18T09:56:57.654243Z\", \"level\": \"info\", \"event\": \"All required API keys are set.\"}\n",
      "{\"timestamp\": \"2025-10-18T09:56:57.656585Z\", \"level\": \"info\", \"event\": \"All required API keys are set.\"}\n",
      "{\"timestamp\": \"2025-10-18T09:56:57.659317Z\", \"level\": \"info\", \"event\": \"All required API keys are set.\"}\n",
      "{\"timestamp\": \"2025-10-18T09:56:57.660487Z\", \"level\": \"info\", \"event\": \"All required API keys are set.\"}\n",
      "{\"timestamp\": \"2025-10-18T09:56:57.662060Z\", \"level\": \"info\", \"event\": \"All required API keys are set.\"}\n",
      "{\"timestamp\": \"2025-10-18T09:56:57.663211Z\", \"level\": \"info\", \"event\": \"All required API keys are set.\"}\n",
      "{\"timestamp\": \"2025-10-18T09:56:57.664776Z\", \"level\": \"info\", \"event\": \"All required API keys are set.\"}\n"
     ]
    }
   ],
   "source": [
    "loader = ModelLoader()"
   ]
  },
  {
   "cell_type": "code",
   "execution_count": 4,
   "id": "4e481ea3",
   "metadata": {},
   "outputs": [
    {
     "name": "stderr",
     "output_type": "stream",
     "text": [
      "{\"timestamp\": \"2025-10-18T09:57:10.137985Z\", \"level\": \"info\", \"event\": \"Loading LLM Model from provider: google\"}\n",
      "{\"timestamp\": \"2025-10-18T09:57:10.179402Z\", \"level\": \"info\", \"event\": \"Successfully loaded LLM model: gemini-2.0-flash from provider: google\"}\n"
     ]
    }
   ],
   "source": [
    "llm = loader.load_llm_model()"
   ]
  },
  {
   "cell_type": "code",
   "execution_count": 5,
   "id": "0b0d4ab7",
   "metadata": {},
   "outputs": [
    {
     "data": {
      "text/plain": [
       "AIMessage(content='The capital of France is **Paris**.', additional_kwargs={}, response_metadata={'prompt_feedback': {'block_reason': 0, 'safety_ratings': []}, 'finish_reason': 'STOP', 'model_name': 'gemini-2.0-flash', 'safety_ratings': []}, id='run--6655ebf0-2cfb-4152-a0ff-59b0cd4a4c36-0', usage_metadata={'input_tokens': 7, 'output_tokens': 9, 'total_tokens': 16, 'input_token_details': {'cache_read': 0}})"
      ]
     },
     "execution_count": 5,
     "metadata": {},
     "output_type": "execute_result"
    }
   ],
   "source": [
    "llm.invoke(\"What is the capital of France?\")"
   ]
  },
  {
   "cell_type": "code",
   "execution_count": 6,
   "id": "9d3c6b98",
   "metadata": {},
   "outputs": [],
   "source": [
    "from typing import List,Any,TypedDict,Optional\n",
    "from pydantic import BaseModel,Field"
   ]
  },
  {
   "cell_type": "code",
   "execution_count": 7,
   "id": "703d420f",
   "metadata": {},
   "outputs": [],
   "source": [
    "from langgraph.graph import StateGraph,START,END\n",
    "from langchain_core.messages import HumanMessage,AIMessage,SystemMessage\n",
    "from langgraph.checkpoint.memory import MemorySaver"
   ]
  },
  {
   "cell_type": "code",
   "execution_count": 14,
   "id": "6aa8f90b",
   "metadata": {},
   "outputs": [],
   "source": [
    "class Analyst(BaseModel):\n",
    "    name: str = Field(description=\"Name of the analyst\")\n",
    "    role: str = Field(description=\"Role of the analyst in the context of the project\")\n",
    "    affiliation: str= Field(description=\"Primary affiliation of the analyst.\")\n",
    "    description: str = Field(description=\"Description of the analyst focus, concerns, and motives.\")\n",
    "\n",
    "    @property\n",
    "    def persona(self) -> str:\n",
    "        return f\"You are {self.name}, a {self.role} affiliated with {self.affiliation}.\\n Main Focus of me is {self.description}\""
   ]
  },
  {
   "cell_type": "code",
   "execution_count": 15,
   "id": "09651b67",
   "metadata": {},
   "outputs": [],
   "source": [
    "analyst = Analyst(\n",
    "    name=\"sunny savita\",\n",
    "    role=\"genai eng\",\n",
    "    affiliation=\"AI Research LAB\",\n",
    "    description=\"I am genai developer as well as mentor\"\n",
    "    )"
   ]
  },
  {
   "cell_type": "code",
   "execution_count": 16,
   "id": "a047f822",
   "metadata": {},
   "outputs": [
    {
     "name": "stdout",
     "output_type": "stream",
     "text": [
      "You are sunny savita, a genai eng affiliated with AI Research LAB.\n",
      " Main Focus of me is I am genai developer as well as mentor\n"
     ]
    }
   ],
   "source": [
    "print(analyst.persona)\n"
   ]
  },
  {
   "cell_type": "code",
   "execution_count": 17,
   "id": "de677ec9",
   "metadata": {},
   "outputs": [],
   "source": [
    "class Prespective(BaseModel):\n",
    "    analyst:List[Analyst] = Field(description=\"List of analysts involved in the project\")"
   ]
  },
  {
   "cell_type": "code",
   "execution_count": 18,
   "id": "07d5580c",
   "metadata": {},
   "outputs": [],
   "source": [
    "class GenerateAnalystState(TypedDict):\n",
    "    topic: str\n",
    "    num_analysts: int\n",
    "    human_analyst_feedback: str\n",
    "    analyst: List[Analyst]"
   ]
  },
  {
   "cell_type": "code",
   "execution_count": 19,
   "id": "11fb4b07",
   "metadata": {},
   "outputs": [],
   "source": [
    "analyst_picking_instructions = \"\"\"\n",
    "You are an expert research analyst tasked with selecting a team of analysts for a project on the topic of \n",
    "'{topic}'.\n",
    "you need to choose {num_analysts} analysts from the available pool based on their expertise and relevance to the topic.\n",
    "Consider the following feedback from a human analyst:\n",
    "'{human_analyst_feedback}'\n",
    "determine the theme and focus areas required for the project based on the topic and feedback.\n",
    "Select analysts whose expertise aligns with these focus areas.\n",
    "\"\"\"\n"
   ]
  },
  {
   "cell_type": "code",
   "execution_count": null,
   "id": "da5921dc",
   "metadata": {},
   "outputs": [],
   "source": [
    "def create_analyst(state: GenerateAnalystState):\n",
    "    topic = state['topic']\n",
    "    num_analysts = state['num_analysts']\n",
    "    human_analyst_feedback = state.get('human_analyst_feedback', '')\n",
    "    prompt = analyst_picking_instructions.format(\n",
    "        topic=topic,\n",
    "        num_analysts=num_analysts,\n",
    "        human_analyst_feedback=human_analyst_feedback\n",
    "    )\n",
    "    structured_llm=llm.with_structured_output(Prespective)\n",
    "\n",
    "    content=[\"Generate the set of analysts.\"]\n",
    "    messages = [HumanMessage(content=content)]\n",
    "    final_messages = [SystemMessage(content=prompt)] + messages\n",
    "    analyst=structured_llm.invoke(final_messages)\n",
    "\n",
    "    return {\"analyst\": analyst.analyst}\n"
   ]
  },
  {
   "cell_type": "code",
   "execution_count": 25,
   "id": "ef4568d9",
   "metadata": {},
   "outputs": [],
   "source": [
    "state={\n",
    "    \"topic\": \"Artificial Intelligence in Healthcare\",\n",
    "    \"num_analysts\": 3,\n",
    "    \"human_analyst_feedback\": \"Focus on recent advancements and ethical considerations.\"\n",
    "    }"
   ]
  },
  {
   "cell_type": "code",
   "execution_count": 26,
   "id": "1a040654",
   "metadata": {},
   "outputs": [
    {
     "data": {
      "text/plain": [
       "{'analyst': [Analyst(name='Dr. Emily Carter', role='AI Ethics Advisor', affiliation='University of Oxford', description='Specializes in the ethical implications of AI in healthcare, focusing on bias, privacy, and fairness.'),\n",
       "  Analyst(name='Dr. Michael Lee', role='Data Scientist', affiliation='Google Health', description='Expert in machine learning and data analysis, with a focus on developing AI algorithms for medical diagnosis and treatment.'),\n",
       "  Analyst(name='Dr. Sarah Chen', role='Healthcare Policy Analyst', affiliation='World Health Organization', description='Focuses on healthcare policy and regulation, with an interest in the impact of AI on healthcare systems.'),\n",
       "  Analyst(name='Dr. David Rodriguez', role='Medical AI Researcher', affiliation='Stanford University', description='Conducts research on the application of AI in medical imaging and diagnostics.'),\n",
       "  Analyst(name='Dr. Maria Garcia', role='AI Safety Engineer', affiliation='DeepMind', description='Works on ensuring the safety and reliability of AI systems, with a focus on preventing unintended consequences.'),\n",
       "  Analyst(name='Dr. Kenji Tanaka', role='AI in Healthcare Consultant', affiliation='McKinsey & Company', description='Advises healthcare organizations on the adoption of AI technologies and strategies.')]}"
      ]
     },
     "execution_count": 26,
     "metadata": {},
     "output_type": "execute_result"
    }
   ],
   "source": [
    "create_analyst(state)"
   ]
  },
  {
   "cell_type": "code",
   "execution_count": 27,
   "id": "63e0a6f4",
   "metadata": {},
   "outputs": [],
   "source": [
    "state={\n",
    "    \"topic\": \"Fiteness and Wellness Trends in 2024\",\n",
    "    \"num_analysts\": 3,\n",
    "    \"human_analyst_feedback\": \"Focus on emerging technologies and holistic approaches.\"\n",
    "    }"
   ]
  },
  {
   "cell_type": "code",
   "execution_count": 28,
   "id": "f5e976d5",
   "metadata": {},
   "outputs": [
    {
     "data": {
      "text/plain": [
       "{'analyst': [Analyst(name='Dr. Anya Sharma', role='Lead Researcher', affiliation='Global Wellness Institute', description='Expert in holistic wellness practices and their impact on mental health. Focuses on mindfulness, meditation, and integrative medicine.'),\n",
       "  Analyst(name='Ben Carter', role='Technology Analyst', affiliation='Tech Innovations Inc.', description='Specializes in wearable technology and AI-driven fitness solutions. Concerned with data privacy and user experience.'),\n",
       "  Analyst(name='Emily Chen', role='Nutrition Specialist', affiliation='Food Science Institute', description='Focuses on personalized nutrition plans and the role of diet in athletic performance. Advocates for sustainable food practices.'),\n",
       "  Analyst(name='Dr. Kenji Tanaka', role='Exercise Physiologist', affiliation='Sports Performance Lab', description='Expert in exercise science and biomechanics. Focuses on optimizing training programs for athletes and injury prevention.'),\n",
       "  Analyst(name='Sophia Rodriguez', role='Market Analyst', affiliation='Trend Forecasting Group', description='Analyzes market trends in the fitness and wellness industry. Interested in consumer behavior and emerging business models.'),\n",
       "  Analyst(name='David Lee', role='Software Developer', affiliation='HealthTech Solutions', description='Develops fitness apps and digital health platforms. Passionate about gamification and user engagement.')]}"
      ]
     },
     "execution_count": 28,
     "metadata": {},
     "output_type": "execute_result"
    }
   ],
   "source": [
    "create_analyst(state)"
   ]
  },
  {
   "cell_type": "markdown",
   "id": "a0312a1d",
   "metadata": {},
   "source": [
    "Analyst for our research has been created"
   ]
  },
  {
   "cell_type": "markdown",
   "id": "85547617",
   "metadata": {},
   "source": [
    "Now we will create an Workflow for the same"
   ]
  },
  {
   "cell_type": "code",
   "execution_count": 126,
   "id": "262268cb",
   "metadata": {},
   "outputs": [],
   "source": [
    "def human_feedback(state):\n",
    "    \"\"\"\n",
    "    Node that should be interrupted by human to provide feedback on the selected analysts.\n",
    "    \"\"\"\n",
    "    pass"
   ]
  },
  {
   "cell_type": "code",
   "execution_count": 157,
   "id": "a4a6077b",
   "metadata": {},
   "outputs": [],
   "source": [
    "def should_continue(state):\n",
    "    \"\"\"\n",
    "    Node that decides whether to continue the analyst selection process based on human feedback.\n",
    "    \"\"\"\n",
    "    feedback = state.get(\"human_analyst_feedback\", \"\").strip().lower()\n",
    "    if feedback in [\"none\",\"\",\"continue\",\"skip\",\"done\"]:\n",
    "        return END\n",
    "    return \"Analyst\""
   ]
  },
  {
   "cell_type": "code",
   "execution_count": 158,
   "id": "ec33c1fc",
   "metadata": {},
   "outputs": [],
   "source": [
    "from IPython.display import Image, display"
   ]
  },
  {
   "cell_type": "markdown",
   "id": "8e6bc5ad",
   "metadata": {},
   "source": [
    "First Workflow"
   ]
  },
  {
   "cell_type": "code",
   "execution_count": 159,
   "id": "335805f7",
   "metadata": {},
   "outputs": [
    {
     "data": {
      "text/plain": [
       "<langgraph.graph.state.StateGraph at 0x1fc2d25fed0>"
      ]
     },
     "execution_count": 159,
     "metadata": {},
     "output_type": "execute_result"
    }
   ],
   "source": [
    "builder=StateGraph(GenerateAnalystState)\n",
    "builder.add_node(\"create_analyst\",create_analyst)\n",
    "builder.add_node(\"human_feedback\",human_feedback)\n",
    "builder.add_edge(START,\"create_analyst\")\n",
    "builder.add_edge(\"create_analyst\",\"human_feedback\")\n",
    "builder.add_conditional_edges(\"human_feedback\",\n",
    "                             should_continue,\n",
    "                             {\n",
    "                               \"Analyst\": \"create_analyst\",\n",
    "                               END: END\n",
    "                             }\n",
    ")"
   ]
  },
  {
   "cell_type": "code",
   "execution_count": 160,
   "id": "63c13619",
   "metadata": {},
   "outputs": [],
   "source": [
    "memory=MemorySaver()"
   ]
  },
  {
   "cell_type": "code",
   "execution_count": 161,
   "id": "001b0b13",
   "metadata": {},
   "outputs": [],
   "source": [
    "graph=builder.compile(interrupt_before=[\"human_feedback\"],checkpointer=memory)"
   ]
  },
  {
   "cell_type": "code",
   "execution_count": 162,
   "id": "966251e0",
   "metadata": {},
   "outputs": [
    {
     "data": {
      "image/png": "[encoded data removed]",
      "text/plain": [
       "<IPython.core.display.Image object>"
      ]
     },
     "metadata": {},
     "output_type": "display_data"
    }
   ],
   "source": [
    "display(Image(graph.get_graph(xray=1).draw_mermaid_png()))"
   ]
  },
  {
   "cell_type": "code",
   "execution_count": 163,
   "id": "6f5e20a6",
   "metadata": {},
   "outputs": [],
   "source": [
    "state={\n",
    "    \"topic\": \"Fiteness and Wellness Trends in 2024\",\n",
    "    \"num_analysts\": 3\n",
    "    }"
   ]
  },
  {
   "cell_type": "code",
   "execution_count": 164,
   "id": "ed3aefff",
   "metadata": {},
   "outputs": [],
   "source": [
    "humman_feedback_input=\"Focus on emerging technologies and holistic approaches.\""
   ]
  },
  {
   "cell_type": "code",
   "execution_count": 165,
   "id": "d904b78d",
   "metadata": {},
   "outputs": [],
   "source": [
    "thread={\"configurable\":{\"thread_id\":\"3\"}}"
   ]
  },
  {
   "cell_type": "code",
   "execution_count": 166,
   "id": "5bddf812",
   "metadata": {},
   "outputs": [
    {
     "name": "stdout",
     "output_type": "stream",
     "text": [
      "Analyst Name: Dr. Emily Carter\n",
      "Role: Lead Researcher\n",
      "Affiliation: Global Wellness Institute\n",
      "Description: Expert in global wellness trends, consumer behavior, and market analysis. Focuses on identifying emerging trends and their potential impact on the wellness industry.\n",
      "**************************************************\n",
      "Analyst Name: Michael Davis\n",
      "Role: Fitness Consultant\n",
      "Affiliation: National Academy of Sports Medicine\n",
      "Description: Certified personal trainer and fitness consultant with expertise in exercise science, program design, and behavior change. Focuses on translating research into practical fitness applications.\n",
      "**************************************************\n",
      "Analyst Name: Sophia Rodriguez\n",
      "Role: Nutritionist\n",
      "Affiliation: Academy of Nutrition and Dietetics\n",
      "Description: Registered dietitian nutritionist with expertise in sports nutrition, weight management, and dietary trends. Focuses on providing evidence-based nutrition guidance for health and performance.\n",
      "**************************************************\n",
      "Analyst Name: David Lee\n",
      "Role: Technology Analyst\n",
      "Affiliation: TechWellness Group\n",
      "Description: Technology analyst specializing in wearable devices, digital health platforms, and mobile fitness apps. Focuses on evaluating the effectiveness and user experience of technology-based wellness solutions.\n",
      "**************************************************\n",
      "Analyst Name: Jennifer Wilson\n",
      "Role: Mindfulness Coach\n",
      "Affiliation: Mindful Life Center\n",
      "Description: Certified mindfulness instructor and stress management consultant. Focuses on promoting mental and emotional well-being through mindfulness practices and techniques.\n",
      "**************************************************\n",
      "Analyst Name: Robert Brown\n",
      "Role: Corporate Wellness Manager\n",
      "Affiliation: Healthy Business Solutions\n",
      "Description: Corporate wellness manager with experience in designing and implementing employee wellness programs. Focuses on improving employee health, productivity, and engagement through workplace wellness initiatives.\n",
      "**************************************************\n"
     ]
    }
   ],
   "source": [
    "for event in graph.stream(input=state,config=thread,stream_mode='values'):\n",
    "    analysts=event.get(\"analyst\",[])\n",
    "    for analyst in analysts:\n",
    "        print(f\"Analyst Name: {analyst.name}\")\n",
    "        print(f\"Role: {analyst.role}\")\n",
    "        print(f\"Affiliation: {analyst.affiliation}\")\n",
    "        print(f\"Description: {analyst.description}\")\n",
    "        print(\"*\"*50)    "
   ]
  },
  {
   "cell_type": "code",
   "execution_count": 167,
   "id": "508812dc",
   "metadata": {},
   "outputs": [],
   "source": [
    "stage = graph.get_state(thread)"
   ]
  },
  {
   "cell_type": "code",
   "execution_count": 168,
   "id": "aa768f1b",
   "metadata": {},
   "outputs": [
    {
     "data": {
      "text/plain": [
       "StateSnapshot(values={'topic': 'Fiteness and Wellness Trends in 2024', 'num_analysts': 3, 'analyst': [Analyst(name='Dr. Emily Carter', role='Lead Researcher', affiliation='Global Wellness Institute', description='Expert in global wellness trends, consumer behavior, and market analysis. Focuses on identifying emerging trends and their potential impact on the wellness industry.'), Analyst(name='Michael Davis', role='Fitness Consultant', affiliation='National Academy of Sports Medicine', description='Certified personal trainer and fitness consultant with expertise in exercise science, program design, and behavior change. Focuses on translating research into practical fitness applications.'), Analyst(name='Sophia Rodriguez', role='Nutritionist', affiliation='Academy of Nutrition and Dietetics', description='Registered dietitian nutritionist with expertise in sports nutrition, weight management, and dietary trends. Focuses on providing evidence-based nutrition guidance for health and performance.'), Analyst(name='David Lee', role='Technology Analyst', affiliation='TechWellness Group', description='Technology analyst specializing in wearable devices, digital health platforms, and mobile fitness apps. Focuses on evaluating the effectiveness and user experience of technology-based wellness solutions.'), Analyst(name='Jennifer Wilson', role='Mindfulness Coach', affiliation='Mindful Life Center', description='Certified mindfulness instructor and stress management consultant. Focuses on promoting mental and emotional well-being through mindfulness practices and techniques.'), Analyst(name='Robert Brown', role='Corporate Wellness Manager', affiliation='Healthy Business Solutions', description='Corporate wellness manager with experience in designing and implementing employee wellness programs. Focuses on improving employee health, productivity, and engagement through workplace wellness initiatives.')]}, next=('human_feedback',), config={'configurable': {'thread_id': '3', 'checkpoint_ns': '', 'checkpoint_id': '1f0ac179-25ab-6cc1-8001-ec18124ee0e1'}}, metadata={'source': 'loop', 'step': 1, 'parents': {}}, created_at='2025-10-18T11:42:48.813075+00:00', parent_config={'configurable': {'thread_id': '3', 'checkpoint_ns': '', 'checkpoint_id': '1f0ac179-068d-6afa-8000-f3c793b72938'}}, tasks=(PregelTask(id='95aa31b6-8fcd-497c-6e5e-1c0afdcd077d', name='human_feedback', path=('__pregel_pull', 'human_feedback'), error=None, interrupts=(), state=None, result=None),), interrupts=())"
      ]
     },
     "execution_count": 168,
     "metadata": {},
     "output_type": "execute_result"
    }
   ],
   "source": [
    "stage"
   ]
  },
  {
   "cell_type": "code",
   "execution_count": 169,
   "id": "233acf07",
   "metadata": {},
   "outputs": [
    {
     "data": {
      "text/plain": [
       "('human_feedback',)"
      ]
     },
     "execution_count": 169,
     "metadata": {},
     "output_type": "execute_result"
    }
   ],
   "source": [
    "stage.next"
   ]
  },
  {
   "cell_type": "code",
   "execution_count": 170,
   "id": "19ec6c63",
   "metadata": {},
   "outputs": [
    {
     "data": {
      "text/plain": [
       "{'configurable': {'thread_id': '3',\n",
       "  'checkpoint_ns': '',\n",
       "  'checkpoint_id': '1f0ac179-26b9-6497-8002-bac3b8fd26bb'}}"
      ]
     },
     "execution_count": 170,
     "metadata": {},
     "output_type": "execute_result"
    }
   ],
   "source": [
    "graph.update_state(\n",
    "    thread,\n",
    "    {\n",
    "        \"human_analyst_feedback\": humman_feedback_input\n",
    "    }\n",
    ")"
   ]
  },
  {
   "cell_type": "code",
   "execution_count": 171,
   "id": "26532105",
   "metadata": {},
   "outputs": [
    {
     "name": "stdout",
     "output_type": "stream",
     "text": [
      "Analyst Name: Dr. Emily Carter\n",
      "Role: Lead Researcher\n",
      "Affiliation: Global Wellness Institute\n",
      "Description: Expert in global wellness trends, consumer behavior, and market analysis. Focuses on identifying emerging trends and their potential impact on the wellness industry.\n",
      "**************************************************\n",
      "Analyst Name: Michael Davis\n",
      "Role: Fitness Consultant\n",
      "Affiliation: National Academy of Sports Medicine\n",
      "Description: Certified personal trainer and fitness consultant with expertise in exercise science, program design, and behavior change. Focuses on translating research into practical fitness applications.\n",
      "**************************************************\n",
      "Analyst Name: Sophia Rodriguez\n",
      "Role: Nutritionist\n",
      "Affiliation: Academy of Nutrition and Dietetics\n",
      "Description: Registered dietitian nutritionist with expertise in sports nutrition, weight management, and dietary trends. Focuses on providing evidence-based nutrition guidance for health and performance.\n",
      "**************************************************\n",
      "Analyst Name: David Lee\n",
      "Role: Technology Analyst\n",
      "Affiliation: TechWellness Group\n",
      "Description: Technology analyst specializing in wearable devices, digital health platforms, and mobile fitness apps. Focuses on evaluating the effectiveness and user experience of technology-based wellness solutions.\n",
      "**************************************************\n",
      "Analyst Name: Jennifer Wilson\n",
      "Role: Mindfulness Coach\n",
      "Affiliation: Mindful Life Center\n",
      "Description: Certified mindfulness instructor and stress management consultant. Focuses on promoting mental and emotional well-being through mindfulness practices and techniques.\n",
      "**************************************************\n",
      "Analyst Name: Robert Brown\n",
      "Role: Corporate Wellness Manager\n",
      "Affiliation: Healthy Business Solutions\n",
      "Description: Corporate wellness manager with experience in designing and implementing employee wellness programs. Focuses on improving employee health, productivity, and engagement through workplace wellness initiatives.\n",
      "**************************************************\n",
      "Analyst Name: Dr. Anya Sharma\n",
      "Role: Lead Wellness Consultant\n",
      "Affiliation: Global Wellness Institute\n",
      "Description: Expert in holistic wellness practices, including mindfulness, nutrition, and integrative medicine. Focuses on personalized wellness plans and the impact of lifestyle on overall health.\n",
      "**************************************************\n",
      "Analyst Name: Ben Carter\n",
      "Role: Fitness Technology Analyst\n",
      "Affiliation: Tech Innovations Inc.\n",
      "Description: Specializes in wearable fitness trackers, smart home gym equipment, and AI-driven fitness apps. Interested in the gamification of fitness and the use of data analytics to improve workout outcomes.\n",
      "**************************************************\n",
      "Analyst Name: Carlos Rodriguez\n",
      "Role: Nutrition Science Researcher\n",
      "Affiliation: Food Science University\n",
      "Description: Conducts research on the impact of diet on physical performance and recovery. Focuses on sports nutrition, personalized diets, and the role of supplements in athletic training.\n",
      "**************************************************\n",
      "Analyst Name: Emily Chen\n",
      "Role: Mental Wellness Advocate\n",
      "Affiliation: Mindful Living Association\n",
      "Description: Promotes mental health and stress reduction techniques in fitness programs. Expertise in meditation, yoga, and cognitive behavioral therapy for athletes.\n",
      "**************************************************\n",
      "Analyst Name: David Lee\n",
      "Role: Exercise Physiologist\n",
      "Affiliation: Sports Performance Lab\n",
      "Description: Designs and implements exercise programs for athletes and fitness enthusiasts. Focuses on strength training, cardiovascular health, and injury prevention.\n",
      "**************************************************\n"
     ]
    }
   ],
   "source": [
    "for event in graph.stream(input=state,config=thread,stream_mode='values'):\n",
    "    analysts=event.get(\"analyst\",[])\n",
    "    for analyst in analysts:\n",
    "        print(f\"Analyst Name: {analyst.name}\")\n",
    "        print(f\"Role: {analyst.role}\")\n",
    "        print(f\"Affiliation: {analyst.affiliation}\")\n",
    "        print(f\"Description: {analyst.description}\")\n",
    "        print(\"*\"*50)  "
   ]
  },
  {
   "cell_type": "code",
   "execution_count": 172,
   "id": "ba8aa3e2",
   "metadata": {},
   "outputs": [],
   "source": [
    "stage1= graph.get_state(thread)"
   ]
  },
  {
   "cell_type": "code",
   "execution_count": 173,
   "id": "0239538c",
   "metadata": {},
   "outputs": [
    {
     "data": {
      "text/plain": [
       "('human_feedback',)"
      ]
     },
     "execution_count": 173,
     "metadata": {},
     "output_type": "execute_result"
    }
   ],
   "source": [
    "stage1.next"
   ]
  },
  {
   "cell_type": "code",
   "execution_count": 174,
   "id": "5852502e",
   "metadata": {},
   "outputs": [
    {
     "data": {
      "text/plain": [
       "{'topic': 'Fiteness and Wellness Trends in 2024',\n",
       " 'num_analysts': 3,\n",
       " 'human_analyst_feedback': 'Focus on emerging technologies and holistic approaches.',\n",
       " 'analyst': [Analyst(name='Dr. Anya Sharma', role='Lead Wellness Consultant', affiliation='Global Wellness Institute', description='Expert in holistic wellness practices, including mindfulness, nutrition, and integrative medicine. Focuses on personalized wellness plans and the impact of lifestyle on overall health.'),\n",
       "  Analyst(name='Ben Carter', role='Fitness Technology Analyst', affiliation='Tech Innovations Inc.', description='Specializes in wearable fitness trackers, smart home gym equipment, and AI-driven fitness apps. Interested in the gamification of fitness and the use of data analytics to improve workout outcomes.'),\n",
       "  Analyst(name='Carlos Rodriguez', role='Nutrition Science Researcher', affiliation='Food Science University', description='Conducts research on the impact of diet on physical performance and recovery. Focuses on sports nutrition, personalized diets, and the role of supplements in athletic training.'),\n",
       "  Analyst(name='Emily Chen', role='Mental Wellness Advocate', affiliation='Mindful Living Association', description='Promotes mental health and stress reduction techniques in fitness programs. Expertise in meditation, yoga, and cognitive behavioral therapy for athletes.'),\n",
       "  Analyst(name='David Lee', role='Exercise Physiologist', affiliation='Sports Performance Lab', description='Designs and implements exercise programs for athletes and fitness enthusiasts. Focuses on strength training, cardiovascular health, and injury prevention.')]}"
      ]
     },
     "execution_count": 174,
     "metadata": {},
     "output_type": "execute_result"
    }
   ],
   "source": [
    "stage1.values"
   ]
  },
  {
   "cell_type": "code",
   "execution_count": 175,
   "id": "9c1dbe9e",
   "metadata": {},
   "outputs": [],
   "source": [
    "future_feedback=\"\""
   ]
  },
  {
   "cell_type": "code",
   "execution_count": 176,
   "id": "95c835c2",
   "metadata": {},
   "outputs": [
    {
     "data": {
      "text/plain": [
       "{'configurable': {'thread_id': '3',\n",
       "  'checkpoint_ns': '',\n",
       "  'checkpoint_id': '1f0ac179-45e3-6dad-8006-468f008c355c'}}"
      ]
     },
     "execution_count": 176,
     "metadata": {},
     "output_type": "execute_result"
    }
   ],
   "source": [
    "graph.update_state(\n",
    "    thread,\n",
    "    {\n",
    "        \"human_analyst_feedback\": future_feedback\n",
    "    }\n",
    ")"
   ]
  },
  {
   "cell_type": "code",
   "execution_count": 177,
   "id": "80959f20",
   "metadata": {},
   "outputs": [
    {
     "name": "stdout",
     "output_type": "stream",
     "text": [
      "Analyst Name: Dr. Anya Sharma\n",
      "Role: Lead Wellness Consultant\n",
      "Affiliation: Global Wellness Institute\n",
      "Description: Expert in holistic wellness practices, including mindfulness, nutrition, and integrative medicine. Focuses on personalized wellness plans and the impact of lifestyle on overall health.\n",
      "**************************************************\n",
      "Analyst Name: Ben Carter\n",
      "Role: Fitness Technology Analyst\n",
      "Affiliation: Tech Innovations Inc.\n",
      "Description: Specializes in wearable fitness trackers, smart home gym equipment, and AI-driven fitness apps. Interested in the gamification of fitness and the use of data analytics to improve workout outcomes.\n",
      "**************************************************\n",
      "Analyst Name: Carlos Rodriguez\n",
      "Role: Nutrition Science Researcher\n",
      "Affiliation: Food Science University\n",
      "Description: Conducts research on the impact of diet on physical performance and recovery. Focuses on sports nutrition, personalized diets, and the role of supplements in athletic training.\n",
      "**************************************************\n",
      "Analyst Name: Emily Chen\n",
      "Role: Mental Wellness Advocate\n",
      "Affiliation: Mindful Living Association\n",
      "Description: Promotes mental health and stress reduction techniques in fitness programs. Expertise in meditation, yoga, and cognitive behavioral therapy for athletes.\n",
      "**************************************************\n",
      "Analyst Name: David Lee\n",
      "Role: Exercise Physiologist\n",
      "Affiliation: Sports Performance Lab\n",
      "Description: Designs and implements exercise programs for athletes and fitness enthusiasts. Focuses on strength training, cardiovascular health, and injury prevention.\n",
      "**************************************************\n",
      "Analyst Name: Dr. Emily Carter\n",
      "Role: Lead Researcher\n",
      "Affiliation: Global Wellness Institute\n",
      "Description: Expert in global wellness trends, consumer behavior, and market analysis. Focuses on identifying emerging trends and their potential impact on the wellness industry.\n",
      "**************************************************\n",
      "Analyst Name: Michael Davis\n",
      "Role: Fitness Consultant\n",
      "Affiliation: National Academy of Sports Medicine\n",
      "Description: Certified personal trainer and fitness consultant with expertise in exercise science, program design, and behavior change. Focuses on translating research into practical fitness applications.\n",
      "**************************************************\n",
      "Analyst Name: Sophia Rodriguez\n",
      "Role: Nutritionist\n",
      "Affiliation: Academy of Nutrition and Dietetics\n",
      "Description: Registered dietitian nutritionist with expertise in sports nutrition, weight management, and dietary trends. Focuses on providing evidence-based nutrition guidance for health and performance.\n",
      "**************************************************\n",
      "Analyst Name: David Lee\n",
      "Role: Technology Analyst\n",
      "Affiliation: TechWellness Group\n",
      "Description: Technology analyst specializing in wearable devices, digital health platforms, and mobile fitness apps. Focuses on evaluating the effectiveness and user experience of technology-based wellness solutions.\n",
      "**************************************************\n",
      "Analyst Name: Jennifer Wilson\n",
      "Role: Mindfulness Coach\n",
      "Affiliation: Mindful Life Center\n",
      "Description: Certified mindfulness instructor and stress management consultant. Focuses on promoting mental and emotional well-being through mindfulness practices and techniques.\n",
      "**************************************************\n",
      "Analyst Name: Robert Brown\n",
      "Role: Corporate Wellness Manager\n",
      "Affiliation: Healthy Business Solutions\n",
      "Description: Corporate wellness manager with experience in designing and implementing employee wellness programs. Focuses on improving employee health, productivity, and engagement through workplace wellness initiatives.\n",
      "**************************************************\n"
     ]
    }
   ],
   "source": [
    "for event in graph.stream(input=state,config=thread,stream_mode='values'):\n",
    "    analysts=event.get(\"analyst\",[])\n",
    "    for analyst in analysts:\n",
    "        print(f\"Analyst Name: {analyst.name}\")\n",
    "        print(f\"Role: {analyst.role}\")\n",
    "        print(f\"Affiliation: {analyst.affiliation}\")\n",
    "        print(f\"Description: {analyst.description}\")\n",
    "        print(\"*\"*50)  "
   ]
  },
  {
   "cell_type": "code",
   "execution_count": 178,
   "id": "8eb0f693",
   "metadata": {},
   "outputs": [],
   "source": [
    "stage2= graph.get_state(thread)"
   ]
  },
  {
   "cell_type": "code",
   "execution_count": 179,
   "id": "e9650f79",
   "metadata": {},
   "outputs": [
    {
     "data": {
      "text/plain": [
       "('human_feedback',)"
      ]
     },
     "execution_count": 179,
     "metadata": {},
     "output_type": "execute_result"
    }
   ],
   "source": [
    "stage2.next"
   ]
  },
  {
   "cell_type": "code",
   "execution_count": 180,
   "id": "1ef8c530",
   "metadata": {},
   "outputs": [
    {
     "name": "stdout",
     "output_type": "stream",
     "text": [
      "Analyst Name: Dr. Emily Carter\n",
      "Role: Lead Researcher\n",
      "Affiliation: Global Wellness Institute\n",
      "Description: Expert in global wellness trends, consumer behavior, and market analysis. Focuses on identifying emerging trends and their potential impact on the wellness industry.\n",
      "**************************************************\n",
      "Analyst Name: Michael Davis\n",
      "Role: Fitness Consultant\n",
      "Affiliation: National Academy of Sports Medicine\n",
      "Description: Certified personal trainer and fitness consultant with expertise in exercise science, program design, and behavior change. Focuses on translating research into practical fitness applications.\n",
      "**************************************************\n",
      "Analyst Name: Sophia Rodriguez\n",
      "Role: Nutritionist\n",
      "Affiliation: Academy of Nutrition and Dietetics\n",
      "Description: Registered dietitian nutritionist with expertise in sports nutrition, weight management, and dietary trends. Focuses on providing evidence-based nutrition guidance for health and performance.\n",
      "**************************************************\n",
      "Analyst Name: David Lee\n",
      "Role: Technology Analyst\n",
      "Affiliation: TechWellness Group\n",
      "Description: Technology analyst specializing in wearable devices, digital health platforms, and mobile fitness apps. Focuses on evaluating the effectiveness and user experience of technology-based wellness solutions.\n",
      "**************************************************\n",
      "Analyst Name: Jennifer Wilson\n",
      "Role: Mindfulness Coach\n",
      "Affiliation: Mindful Life Center\n",
      "Description: Certified mindfulness instructor and stress management consultant. Focuses on promoting mental and emotional well-being through mindfulness practices and techniques.\n",
      "**************************************************\n",
      "Analyst Name: Robert Brown\n",
      "Role: Corporate Wellness Manager\n",
      "Affiliation: Healthy Business Solutions\n",
      "Description: Corporate wellness manager with experience in designing and implementing employee wellness programs. Focuses on improving employee health, productivity, and engagement through workplace wellness initiatives.\n",
      "**************************************************\n"
     ]
    }
   ],
   "source": [
    "for event in graph.stream(input=None,config=thread,stream_mode='values'):\n",
    "    analysts=event.get(\"analyst\",[])\n",
    "    for analyst in analysts:\n",
    "        print(f\"Analyst Name: {analyst.name}\")\n",
    "        print(f\"Role: {analyst.role}\")\n",
    "        print(f\"Affiliation: {analyst.affiliation}\")\n",
    "        print(f\"Description: {analyst.description}\")\n",
    "        print(\"*\"*50)  "
   ]
  },
  {
   "cell_type": "code",
   "execution_count": 181,
   "id": "9ebb97b7",
   "metadata": {},
   "outputs": [],
   "source": [
    "stage3= graph.get_state(thread)"
   ]
  },
  {
   "cell_type": "code",
   "execution_count": 182,
   "id": "6926a080",
   "metadata": {},
   "outputs": [
    {
     "data": {
      "text/plain": [
       "()"
      ]
     },
     "execution_count": 182,
     "metadata": {},
     "output_type": "execute_result"
    }
   ],
   "source": [
    "stage3.next"
   ]
  },
  {
   "cell_type": "code",
   "execution_count": 183,
   "id": "afdab34b",
   "metadata": {},
   "outputs": [],
   "source": [
    "cfg = stage3.config"
   ]
  },
  {
   "cell_type": "code",
   "execution_count": 184,
   "id": "53bf7f09",
   "metadata": {},
   "outputs": [
    {
     "data": {
      "text/plain": [
       "{'configurable': {'thread_id': '3',\n",
       "  'checkpoint_ns': '',\n",
       "  'checkpoint_id': '1f0ac179-6601-6f5b-800b-0ca82ac4a748'}}"
      ]
     },
     "execution_count": 184,
     "metadata": {},
     "output_type": "execute_result"
    }
   ],
   "source": [
    "graph.update_state(cfg, {\"human_analyst_feedback\": \"\"}, as_node=\"human_feedback\")"
   ]
  },
  {
   "cell_type": "code",
   "execution_count": 185,
   "id": "e5b0153e",
   "metadata": {},
   "outputs": [],
   "source": [
    "final_state = graph.get_state(thread)"
   ]
  },
  {
   "cell_type": "code",
   "execution_count": 186,
   "id": "6329c0b7",
   "metadata": {},
   "outputs": [
    {
     "data": {
      "text/plain": [
       "()"
      ]
     },
     "execution_count": 186,
     "metadata": {},
     "output_type": "execute_result"
    }
   ],
   "source": [
    "final_state.next"
   ]
  },
  {
   "cell_type": "code",
   "execution_count": 188,
   "id": "ac201bf9",
   "metadata": {},
   "outputs": [
    {
     "data": {
      "text/plain": [
       "[Analyst(name='Dr. Emily Carter', role='Lead Researcher', affiliation='Global Wellness Institute', description='Expert in global wellness trends, consumer behavior, and market analysis. Focuses on identifying emerging trends and their potential impact on the wellness industry.'),\n",
       " Analyst(name='Michael Davis', role='Fitness Consultant', affiliation='National Academy of Sports Medicine', description='Certified personal trainer and fitness consultant with expertise in exercise science, program design, and behavior change. Focuses on translating research into practical fitness applications.'),\n",
       " Analyst(name='Sophia Rodriguez', role='Nutritionist', affiliation='Academy of Nutrition and Dietetics', description='Registered dietitian nutritionist with expertise in sports nutrition, weight management, and dietary trends. Focuses on providing evidence-based nutrition guidance for health and performance.'),\n",
       " Analyst(name='David Lee', role='Technology Analyst', affiliation='TechWellness Group', description='Technology analyst specializing in wearable devices, digital health platforms, and mobile fitness apps. Focuses on evaluating the effectiveness and user experience of technology-based wellness solutions.'),\n",
       " Analyst(name='Jennifer Wilson', role='Mindfulness Coach', affiliation='Mindful Life Center', description='Certified mindfulness instructor and stress management consultant. Focuses on promoting mental and emotional well-being through mindfulness practices and techniques.'),\n",
       " Analyst(name='Robert Brown', role='Corporate Wellness Manager', affiliation='Healthy Business Solutions', description='Corporate wellness manager with experience in designing and implementing employee wellness programs. Focuses on improving employee health, productivity, and engagement through workplace wellness initiatives.')]"
      ]
     },
     "execution_count": 188,
     "metadata": {},
     "output_type": "execute_result"
    }
   ],
   "source": [
    "final_state.values.get('analyst')"
   ]
  },
  {
   "cell_type": "markdown",
   "id": "c9473c7f",
   "metadata": {},
   "source": [
    "First Flow completed"
   ]
  },
  {
   "cell_type": "code",
   "execution_count": null,
   "id": "50b4fc23",
   "metadata": {},
   "outputs": [],
   "source": []
  }
 ],
 "metadata": {
  "kernelspec": {
   "display_name": "env (3.11.13)",
   "language": "python",
   "name": "python3"
  },
  "language_info": {
   "codemirror_mode": {
    "name": "ipython",
    "version": 3
   },
   "file_extension": ".py",
   "mimetype": "text/x-python",
   "name": "python",
   "nbconvert_exporter": "python",
   "pygments_lexer": "ipython3",
   "version": "3.11.13"
  }
 },
 "nbformat": 4,
 "nbformat_minor": 5
}
